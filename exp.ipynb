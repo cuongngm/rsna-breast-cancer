{
 "cells": [
  {
   "cell_type": "code",
   "execution_count": 2,
   "id": "71ed4758-df28-4e14-891f-aa4022355087",
   "metadata": {},
   "outputs": [],
   "source": [
    "import os\n",
    "import cv2\n",
    "import matplotlib.pyplot as plt\n",
    "import nibabel as nib\n",
    "import numpy as np\n",
    "from tqdm import tqdm\n",
    "import pydicom as dicom"
   ]
  },
  {
   "cell_type": "code",
   "execution_count": 3,
   "id": "ebe2d0b4-f0a5-453a-a80b-cdab89abf0d9",
   "metadata": {},
   "outputs": [],
   "source": [
    "import pandas as pd\n",
    "df = pd.read_parquet('data/train_dicom_tags.parquet')"
   ]
  },
  {
   "cell_type": "code",
   "execution_count": 16,
   "id": "42c7aaa2-b254-409e-9df1-8823c1883783",
   "metadata": {},
   "outputs": [
    {
     "data": {
      "text/plain": [
       "Index(['BitsAllocated', 'BitsStored', 'Columns', 'ContentDate', 'ContentTime',\n",
       "       'FrameOfReferenceUID', 'HighBit', 'ImageOrientationPatient',\n",
       "       'ImagePositionPatient', 'InstanceNumber', 'KVP', 'PatientID',\n",
       "       'PatientPosition', 'PhotometricInterpretation', 'PixelRepresentation',\n",
       "       'PixelSpacing', 'RescaleIntercept', 'RescaleSlope', 'Rows',\n",
       "       'SOPInstanceUID', 'SamplesPerPixel', 'SeriesInstanceUID',\n",
       "       'SeriesNumber', 'SliceThickness', 'StudyInstanceUID', 'WindowCenter',\n",
       "       'WindowWidth', 'FileMetaInformationVersion', 'ImplementationClassUID',\n",
       "       'ImplementationVersionName', 'MediaStorageSOPClassUID',\n",
       "       'MediaStorageSOPInstanceUID', 'TransferSyntaxUID', 'path',\n",
       "       'RescaleType'],\n",
       "      dtype='object')"
      ]
     },
     "execution_count": 16,
     "metadata": {},
     "output_type": "execute_result"
    }
   ],
   "source": [
    "df.columns"
   ]
  },
  {
   "cell_type": "code",
   "execution_count": 18,
   "id": "6951aacd-7e81-40e5-8eb1-6afd1209451c",
   "metadata": {},
   "outputs": [
    {
     "data": {
      "text/plain": [
       "BitsAllocated                                                                16\n",
       "BitsStored                                                                   16\n",
       "Columns                                                                     512\n",
       "ContentDate                                                            20230722\n",
       "ContentTime                                                       003306.881589\n",
       "FrameOfReferenceUID           1.2.826.0.1.3680043.8.498.28466454913303094199...\n",
       "HighBit                                                                      15\n",
       "ImageOrientationPatient       [1.00000, 0.00000, 0.00000, 0.00000, 1.00000, ...\n",
       "ImagePositionPatient                            [-235.8665, -235.8665, 1459.20]\n",
       "InstanceNumber                                                              532\n",
       "KVP                                                                       120.0\n",
       "PatientID                                                                 49954\n",
       "PatientPosition                                                             FFS\n",
       "PhotometricInterpretation                                           MONOCHROME2\n",
       "PixelRepresentation                                                           1\n",
       "PixelSpacing                                                     [0.923, 0.923]\n",
       "RescaleIntercept                                                            0.0\n",
       "RescaleSlope                                                                1.0\n",
       "Rows                                                                        512\n",
       "SOPInstanceUID                                  1.2.123.12345.1.2.3.49954.1.532\n",
       "SamplesPerPixel                                                               1\n",
       "SeriesInstanceUID                               1.2.123.12345.1.2.3.49954.41479\n",
       "SeriesNumber                                                                  6\n",
       "SliceThickness                                                              1.0\n",
       "StudyInstanceUID                                      1.2.123.12345.1.2.3.49954\n",
       "WindowCenter                                                               50.0\n",
       "WindowWidth                                                               400.0\n",
       "FileMetaInformationVersion                                                   \u0000\u0001\n",
       "ImplementationClassUID                             1.2.3.123456.4.5.1234.1.12.0\n",
       "ImplementationVersionName                                         PYDICOM 2.4.0\n",
       "MediaStorageSOPClassUID                               1.2.840.10008.5.1.4.1.1.2\n",
       "MediaStorageSOPInstanceUID                      1.2.123.12345.1.2.3.49954.1.532\n",
       "TransferSyntaxUID                                           1.2.840.10008.1.2.5\n",
       "path                                           train_images/49954/41479/532.dcm\n",
       "RescaleType                                                                 nan\n",
       "Name: 0, dtype: object"
      ]
     },
     "execution_count": 18,
     "metadata": {},
     "output_type": "execute_result"
    }
   ],
   "source": [
    "df.loc[0]"
   ]
  },
  {
   "cell_type": "code",
   "execution_count": 45,
   "id": "6dd041a3-da6a-4dfc-8d85-79d1e7e2efad",
   "metadata": {},
   "outputs": [
    {
     "data": {
      "text/plain": [
       "'1.2.123.12345.1.2.3.49954.41479'"
      ]
     },
     "execution_count": 45,
     "metadata": {},
     "output_type": "execute_result"
    }
   ],
   "source": [
    "df.loc[0, 'SeriesInstanceUID']"
   ]
  },
  {
   "cell_type": "code",
   "execution_count": 56,
   "id": "fc424513-6841-4dc1-8bbc-10bf97429a73",
   "metadata": {},
   "outputs": [
    {
     "name": "stdout",
     "output_type": "stream",
     "text": [
      "54722\n"
     ]
    }
   ],
   "source": [
    "row = df[df['StudyInstanceUID'] == '10000']\n",
    "u = row['PatientID'].unique().tolist()[0]\n",
    "print(u)"
   ]
  },
  {
   "cell_type": "code",
   "execution_count": 47,
   "id": "284bb90f-1cbb-4ef4-9b69-54705f6cc7ec",
   "metadata": {},
   "outputs": [
    {
     "data": {
      "text/plain": [
       "BitsAllocated                                                                16\n",
       "BitsStored                                                                   16\n",
       "Columns                                                                     512\n",
       "ContentDate                                                            20230722\n",
       "ContentTime                                                       003306.881589\n",
       "FrameOfReferenceUID           1.2.826.0.1.3680043.8.498.28466454913303094199...\n",
       "HighBit                                                                      15\n",
       "ImageOrientationPatient       [1.00000, 0.00000, 0.00000, 0.00000, 1.00000, ...\n",
       "ImagePositionPatient                            [-235.8665, -235.8665, 1459.20]\n",
       "InstanceNumber                                                              532\n",
       "KVP                                                                       120.0\n",
       "PatientID                                                                 49954\n",
       "PatientPosition                                                             FFS\n",
       "PhotometricInterpretation                                           MONOCHROME2\n",
       "PixelRepresentation                                                           1\n",
       "PixelSpacing                                                     [0.923, 0.923]\n",
       "RescaleIntercept                                                            0.0\n",
       "RescaleSlope                                                                1.0\n",
       "Rows                                                                        512\n",
       "SOPInstanceUID                                  1.2.123.12345.1.2.3.49954.1.532\n",
       "SamplesPerPixel                                                               1\n",
       "SeriesInstanceUID                               1.2.123.12345.1.2.3.49954.41479\n",
       "SeriesNumber                                                                  6\n",
       "SliceThickness                                                              1.0\n",
       "StudyInstanceUID                                                          41479\n",
       "WindowCenter                                                               50.0\n",
       "WindowWidth                                                               400.0\n",
       "FileMetaInformationVersion                                                   \u0000\u0001\n",
       "ImplementationClassUID                             1.2.3.123456.4.5.1234.1.12.0\n",
       "ImplementationVersionName                                         PYDICOM 2.4.0\n",
       "MediaStorageSOPClassUID                               1.2.840.10008.5.1.4.1.1.2\n",
       "MediaStorageSOPInstanceUID                      1.2.123.12345.1.2.3.49954.1.532\n",
       "TransferSyntaxUID                                           1.2.840.10008.1.2.5\n",
       "path                                           train_images/49954/41479/532.dcm\n",
       "RescaleType                                                                 nan\n",
       "Name: 0, dtype: object"
      ]
     },
     "execution_count": 47,
     "metadata": {},
     "output_type": "execute_result"
    }
   ],
   "source": [
    "df['StudyInstanceUID'] = df['SeriesInstanceUID'].apply(lambda x: x.split('.')[-1])\n",
    "df.loc[0]"
   ]
  },
  {
   "cell_type": "code",
   "execution_count": 30,
   "id": "54394828-a32b-4394-9dcf-f329861e6eed",
   "metadata": {},
   "outputs": [
    {
     "name": "stdout",
     "output_type": "stream",
     "text": [
      "patient_id 50873\n",
      "study_id 18207\n"
     ]
    }
   ],
   "source": [
    "import matplotlib.pyplot as plt\n",
    "from glob import glob\n",
    "\n",
    "\n",
    "def load_dicom(path):\n",
    "    \"\"\"\n",
    "    This supports loading both regular and compressed JPEG images. \n",
    "    See the first sell with `pip install` commands for the necessary dependencies\n",
    "    \"\"\"\n",
    "    img = dicom.dcmread(path)\n",
    "    img.PhotometricInterpretation = 'YBR_FULL'\n",
    "    data = img.pixel_array\n",
    "    data = data - np.min(data)\n",
    "    if np.max(data) != 0:\n",
    "        data = data / np.max(data)\n",
    "    data = (data * 255).astype(np.uint8)\n",
    "    return cv2.cvtColor(data, cv2.COLOR_GRAY2RGB), img\n",
    "\n",
    "\n",
    "def find_patient_from_study(study_id):\n",
    "    df = pd.read_parquet(\"data/train_dicom_tags.parquet\")\n",
    "    df['StudyInstanceUID'] = df['SeriesInstanceUID'].apply(lambda x: x.split('.')[-1])\n",
    "    row = df[df['StudyInstanceUID'] == str(study_id)]\n",
    "    patient_id = row['PatientID'].unique().tolist()\n",
    "    return int(patient_id[0])\n",
    "\n",
    "\n",
    "def find_study_from_patient(study_id):\n",
    "    df = pd.read_parquet(\"data/train_dicom_tags.parquet\")\n",
    "    df['StudyInstanceUID'] = df['SeriesInstanceUID'].apply(lambda x: x.split('.')[-1])\n",
    "    row = df[df['PatientID'] == str(patient_id)]\n",
    "    study_id = row['StudyInstanceUID'].unique().tolist()\n",
    "    return int(study_id[0])\n",
    "\n",
    "\n",
    "study_id = 18207\n",
    "patient_id = find_patient_from_study(study_id)\n",
    "\n",
    "# patient_id = 10163\n",
    "# study_id = find_study_from_patient(patient_id)\n",
    "print('patient_id', patient_id)\n",
    "print('study_id', study_id)\n"
   ]
  },
  {
   "cell_type": "code",
   "execution_count": 31,
   "id": "3d150c5a-1ab4-4459-ace2-6e6a5e7513f0",
   "metadata": {},
   "outputs": [
    {
     "name": "stdout",
     "output_type": "stream",
     "text": [
      "788\n",
      "(512, 512, 3)\n"
     ]
    },
    {
     "data": {
      "image/png": "[encoded data removed]",
      "text/plain": [
       "<Figure size 640x480 with 1 Axes>"
      ]
     },
     "metadata": {},
     "output_type": "display_data"
    }
   ],
   "source": [
    "idx = 150\n",
    "path = f'data/train_images/{patient_id}/{study_id}'\n",
    "all_path =  glob(path + '/*')\n",
    "all_path = sorted(all_path, key=lambda x:int(x.split(\"/\")[-1].replace(\".dcm\", \"\")))\n",
    "print(len(all_path))\n",
    "img, _ = load_dicom(all_path[idx])\n",
    "print(img.shape)\n",
    "plt.imshow(img)\n",
    "plt.show()"
   ]
  },
  {
   "cell_type": "code",
   "execution_count": 32,
   "id": "0028c3ca-2c22-43d8-a97b-c8cf40dd26ff",
   "metadata": {},
   "outputs": [
    {
     "name": "stdout",
     "output_type": "stream",
     "text": [
      "data/segmentations/18207.nii\n",
      "(512, 512, 788)\n"
     ]
    },
    {
     "data": {
      "image/png": "[encoded data removed]",
      "text/plain": [
       "<Figure size 640x480 with 1 Axes>"
      ]
     },
     "metadata": {},
     "output_type": "display_data"
    }
   ],
   "source": [
    "seg_path = f'data/segmentations/{study_id}.nii'\n",
    "print(seg_path)\n",
    "if os.path.exists(seg_path):\n",
    "    mask = nib.load(seg_path)\n",
    "    mask = mask.get_fdata()\n",
    "    print(mask.shape)\n",
    "    plt.imshow(mask[:, :, idx])\n",
    "    plt.show()\n",
    "else:\n",
    "    print('dont have label')"
   ]
  },
  {
   "cell_type": "code",
   "execution_count": 46,
   "id": "32d5ebe3-da44-4c4f-90bb-f5f630a36aa4",
   "metadata": {},
   "outputs": [
    {
     "name": "stderr",
     "output_type": "stream",
     "text": [
      "  0%|                                                                                                                                                    | 0/206 [00:00<?, ?it/s]"
     ]
    },
    {
     "name": "stdout",
     "output_type": "stream",
     "text": [
      "n_slice 291\n"
     ]
    },
    {
     "name": "stderr",
     "output_type": "stream",
     "text": [
      "\n",
      "  0%|                                                                                                                                                    | 0/291 [00:00<?, ?it/s]\u001b[A\n",
      "100%|████████████████████████████████████████████████████████████████████████████████████████████████████████████████████████████████████████| 291/291 [00:00<00:00, 1766.85it/s]\u001b[A\n",
      "  0%|▋                                                                                                                                         | 1/206 [00:37<2:07:54, 37.44s/it]"
     ]
    },
    {
     "name": "stdout",
     "output_type": "stream",
     "text": [
      "n_slice 139\n"
     ]
    },
    {
     "name": "stderr",
     "output_type": "stream",
     "text": [
      "\n",
      "  0%|                                                                                                                                                    | 0/139 [00:00<?, ?it/s]\u001b[A\n",
      "100%|████████████████████████████████████████████████████████████████████████████████████████████████████████████████████████████████████████| 139/139 [00:00<00:00, 1246.61it/s]\u001b[A\n",
      "  1%|█▎                                                                                                                                        | 2/206 [00:54<1:25:38, 25.19s/it]"
     ]
    },
    {
     "name": "stdout",
     "output_type": "stream",
     "text": [
      "n_slice 193\n"
     ]
    },
    {
     "name": "stderr",
     "output_type": "stream",
     "text": [
      "\n",
      "  0%|                                                                                                                                                    | 0/193 [00:00<?, ?it/s]\u001b[A\n",
      "100%|████████████████████████████████████████████████████████████████████████████████████████████████████████████████████████████████████████| 193/193 [00:00<00:00, 1861.40it/s]\u001b[A\n",
      "  1%|██                                                                                                                                        | 3/206 [01:16<1:21:23, 24.05s/it]"
     ]
    },
    {
     "name": "stdout",
     "output_type": "stream",
     "text": [
      "n_slice 168\n"
     ]
    },
    {
     "name": "stderr",
     "output_type": "stream",
     "text": [
      "\n",
      "100%|████████████████████████████████████████████████████████████████████████████████████████████████████████████████████████████████████████| 168/168 [00:00<00:00, 1980.27it/s]\u001b[A\n",
      "  2%|██▋                                                                                                                                       | 4/206 [01:35<1:14:17, 22.07s/it]"
     ]
    },
    {
     "name": "stdout",
     "output_type": "stream",
     "text": [
      "n_slice 156\n"
     ]
    },
    {
     "name": "stderr",
     "output_type": "stream",
     "text": [
      "\n",
      "100%|████████████████████████████████████████████████████████████████████████████████████████████████████████████████████████████████████████| 156/156 [00:00<00:00, 1976.57it/s]\u001b[A\n",
      "  2%|███▎                                                                                                                                      | 5/206 [01:54<1:09:27, 20.73s/it]"
     ]
    },
    {
     "name": "stdout",
     "output_type": "stream",
     "text": [
      "n_slice 284\n"
     ]
    },
    {
     "name": "stderr",
     "output_type": "stream",
     "text": [
      "\n",
      "  0%|                                                                                                                                                    | 0/284 [00:00<?, ?it/s]\u001b[A\n",
      "100%|████████████████████████████████████████████████████████████████████████████████████████████████████████████████████████████████████████| 284/284 [00:00<00:00, 1886.96it/s]\u001b[A\n",
      "  3%|████                                                                                                                                      | 6/206 [02:29<1:25:58, 25.79s/it]"
     ]
    },
    {
     "name": "stdout",
     "output_type": "stream",
     "text": [
      "n_slice 324\n"
     ]
    },
    {
     "name": "stderr",
     "output_type": "stream",
     "text": [
      "\n",
      "  0%|                                                                                                                                                    | 0/324 [00:00<?, ?it/s]\u001b[A\n",
      "100%|████████████████████████████████████████████████████████████████████████████████████████████████████████████████████████████████████████| 324/324 [00:00<00:00, 1783.90it/s]\u001b[A\n",
      "  3%|████▋                                                                                                                                     | 7/206 [02:50<1:19:32, 23.98s/it]"
     ]
    },
    {
     "name": "stdout",
     "output_type": "stream",
     "text": [
      "n_slice 762\n"
     ]
    },
    {
     "name": "stderr",
     "output_type": "stream",
     "text": [
      "\n",
      "  0%|                                                                                                                                                    | 0/762 [00:00<?, ?it/s]\u001b[A\n",
      " 13%|██████████████████                                                                                                                      | 101/762 [00:00<00:00, 1005.85it/s]\u001b[A\n",
      " 36%|█████████████████████████████████████████████████                                                                                       | 275/762 [00:00<00:00, 1434.34it/s]\u001b[A\n",
      " 59%|███████████████████████████████████████████████████████████████████████████████▌                                                        | 446/762 [00:00<00:00, 1557.95it/s]\u001b[A\n",
      "100%|████████████████████████████████████████████████████████████████████████████████████████████████████████████████████████████████████████| 762/762 [00:00<00:00, 1598.83it/s]\u001b[A\n",
      "  4%|█████▎                                                                                                                                    | 8/206 [04:25<2:34:39, 46.87s/it]"
     ]
    },
    {
     "name": "stdout",
     "output_type": "stream",
     "text": [
      "n_slice 747\n"
     ]
    },
    {
     "name": "stderr",
     "output_type": "stream",
     "text": [
      "\n",
      "  0%|                                                                                                                                                    | 0/747 [00:00<?, ?it/s]\u001b[A\n",
      "  0%|▏                                                                                                                                           | 1/747 [00:00<01:23,  8.97it/s]\u001b[A\n",
      " 25%|█████████████████████████████████▍                                                                                                      | 184/747 [00:00<00:00, 1030.59it/s]\u001b[A\n",
      " 50%|████████████████████████████████████████████████████████████████████▎                                                                   | 375/747 [00:00<00:00, 1419.42it/s]\u001b[A\n",
      "100%|████████████████████████████████████████████████████████████████████████████████████████████████████████████████████████████████████████| 747/747 [00:00<00:00, 1500.23it/s]\u001b[A\n",
      "  4%|██████                                                                                                                                    | 9/206 [05:58<3:20:43, 61.13s/it]"
     ]
    },
    {
     "name": "stdout",
     "output_type": "stream",
     "text": [
      "n_slice 78\n"
     ]
    },
    {
     "name": "stderr",
     "output_type": "stream",
     "text": [
      "\n",
      "  0%|                                                                                                                                                     | 0/78 [00:00<?, ?it/s]\u001b[A\n",
      "100%|███████████████████████████████████████████████████████████████████████████████████████████████████████████████████████████████████████████| 78/78 [00:00<00:00, 500.19it/s]\u001b[A\n",
      "  5%|██████▋                                                                                                                                  | 10/206 [06:07<2:27:02, 45.01s/it]"
     ]
    },
    {
     "name": "stdout",
     "output_type": "stream",
     "text": [
      "n_slice 170\n"
     ]
    },
    {
     "name": "stderr",
     "output_type": "stream",
     "text": [
      "\n",
      "100%|████████████████████████████████████████████████████████████████████████████████████████████████████████████████████████████████████████| 170/170 [00:00<00:00, 1881.06it/s]\u001b[A\n",
      "  5%|███████▎                                                                                                                                 | 11/206 [06:29<2:03:45, 38.08s/it]"
     ]
    },
    {
     "name": "stdout",
     "output_type": "stream",
     "text": [
      "n_slice 208\n"
     ]
    },
    {
     "name": "stderr",
     "output_type": "stream",
     "text": [
      "\n",
      "  0%|                                                                                                                                                    | 0/208 [00:00<?, ?it/s]\u001b[A\n",
      "100%|████████████████████████████████████████████████████████████████████████████████████████████████████████████████████████████████████████| 208/208 [00:00<00:00, 1889.40it/s]\u001b[A\n",
      "  6%|███████▉                                                                                                                                 | 12/206 [06:53<1:48:43, 33.63s/it]"
     ]
    },
    {
     "name": "stdout",
     "output_type": "stream",
     "text": [
      "n_slice 593\n"
     ]
    },
    {
     "name": "stderr",
     "output_type": "stream",
     "text": [
      "\n",
      "  0%|                                                                                                                                                    | 0/593 [00:00<?, ?it/s]\u001b[A\n",
      " 28%|█████████████████████████████████████▌                                                                                                  | 164/593 [00:00<00:00, 1634.29it/s]\u001b[A\n",
      " 59%|████████████████████████████████████████████████████████████████████████████████▋                                                       | 352/593 [00:00<00:00, 1776.19it/s]\u001b[A\n",
      "100%|████████████████████████████████████████████████████████████████████████████████████████████████████████████████████████████████████████| 593/593 [00:00<00:00, 1860.02it/s]\u001b[A\n",
      "  6%|████████▋                                                                                                                                | 13/206 [08:04<2:25:03, 45.09s/it]"
     ]
    },
    {
     "name": "stdout",
     "output_type": "stream",
     "text": [
      "n_slice 192\n"
     ]
    },
    {
     "name": "stderr",
     "output_type": "stream",
     "text": [
      "\n",
      "  0%|                                                                                                                                                    | 0/192 [00:00<?, ?it/s]\u001b[A\n",
      "100%|████████████████████████████████████████████████████████████████████████████████████████████████████████████████████████████████████████| 192/192 [00:00<00:00, 1248.91it/s]\u001b[A\n",
      "  7%|█████████▎                                                                                                                               | 14/206 [08:26<2:02:12, 38.19s/it]"
     ]
    },
    {
     "name": "stdout",
     "output_type": "stream",
     "text": [
      "n_slice 461\n"
     ]
    },
    {
     "name": "stderr",
     "output_type": "stream",
     "text": [
      "\n",
      "  0%|                                                                                                                                                    | 0/461 [00:00<?, ?it/s]\u001b[A\n",
      " 40%|█████████████████████████████████████████████████████▉                                                                                  | 183/461 [00:00<00:00, 1822.50it/s]\u001b[A\n",
      "100%|████████████████████████████████████████████████████████████████████████████████████████████████████████████████████████████████████████| 461/461 [00:00<00:00, 1963.08it/s]\u001b[A\n",
      "  7%|█████████▉                                                                                                                               | 15/206 [09:20<2:16:30, 42.88s/it]"
     ]
    },
    {
     "name": "stdout",
     "output_type": "stream",
     "text": [
      "n_slice 610\n"
     ]
    },
    {
     "name": "stderr",
     "output_type": "stream",
     "text": [
      "\n",
      "  0%|                                                                                                                                                    | 0/610 [00:00<?, ?it/s]\u001b[A\n",
      " 15%|████████████████████▏                                                                                                                     | 89/610 [00:00<00:00, 886.56it/s]\u001b[A\n",
      " 44%|███████████████████████████████████████████████████████████▌                                                                            | 267/610 [00:00<00:00, 1410.50it/s]\u001b[A\n",
      "100%|████████████████████████████████████████████████████████████████████████████████████████████████████████████████████████████████████████| 610/610 [00:00<00:00, 1579.77it/s]\u001b[A\n",
      "  8%|██████████▋                                                                                                                              | 16/206 [10:35<2:46:07, 52.46s/it]"
     ]
    },
    {
     "name": "stdout",
     "output_type": "stream",
     "text": [
      "n_slice 187\n"
     ]
    },
    {
     "name": "stderr",
     "output_type": "stream",
     "text": [
      "\n",
      "  0%|                                                                                                                                                    | 0/187 [00:00<?, ?it/s]\u001b[A\n",
      "100%|████████████████████████████████████████████████████████████████████████████████████████████████████████████████████████████████████████| 187/187 [00:00<00:00, 1061.94it/s]\u001b[A\n",
      "  8%|███████████▎                                                                                                                             | 17/206 [10:58<2:17:57, 43.79s/it]"
     ]
    },
    {
     "name": "stdout",
     "output_type": "stream",
     "text": [
      "n_slice 477\n"
     ]
    },
    {
     "name": "stderr",
     "output_type": "stream",
     "text": [
      "\n",
      "  0%|                                                                                                                                                    | 0/477 [00:00<?, ?it/s]\u001b[A\n",
      " 38%|███████████████████████████████████████████████████▌                                                                                    | 181/477 [00:00<00:00, 1806.93it/s]\u001b[A\n",
      "100%|████████████████████████████████████████████████████████████████████████████████████████████████████████████████████████████████████████| 477/477 [00:00<00:00, 1969.20it/s]\u001b[A\n",
      "  9%|███████████▉                                                                                                                             | 18/206 [11:57<2:30:45, 48.11s/it]"
     ]
    },
    {
     "name": "stdout",
     "output_type": "stream",
     "text": [
      "n_slice 121\n"
     ]
    },
    {
     "name": "stderr",
     "output_type": "stream",
     "text": [
      "\n",
      "  0%|                                                                                                                                                    | 0/121 [00:00<?, ?it/s]\u001b[A\n",
      "100%|████████████████████████████████████████████████████████████████████████████████████████████████████████████████████████████████████████| 121/121 [00:00<00:00, 1028.78it/s]\u001b[A\n",
      "  9%|████████████▋                                                                                                                            | 19/206 [12:11<1:57:57, 37.85s/it]"
     ]
    },
    {
     "name": "stdout",
     "output_type": "stream",
     "text": [
      "n_slice 236\n"
     ]
    },
    {
     "name": "stderr",
     "output_type": "stream",
     "text": [
      "\n",
      "  0%|                                                                                                                                                    | 0/236 [00:00<?, ?it/s]\u001b[A\n",
      "100%|████████████████████████████████████████████████████████████████████████████████████████████████████████████████████████████████████████| 236/236 [00:00<00:00, 1406.48it/s]\u001b[A\n",
      " 10%|█████████████▎                                                                                                                           | 20/206 [12:54<2:02:33, 39.54s/it]"
     ]
    },
    {
     "name": "stdout",
     "output_type": "stream",
     "text": [
      "n_slice 209\n"
     ]
    },
    {
     "name": "stderr",
     "output_type": "stream",
     "text": [
      "\n",
      "  0%|                                                                                                                                                    | 0/209 [00:00<?, ?it/s]\u001b[A\n",
      "100%|████████████████████████████████████████████████████████████████████████████████████████████████████████████████████████████████████████| 209/209 [00:00<00:00, 1449.71it/s]\u001b[A\n",
      " 10%|█████████████▉                                                                                                                           | 21/206 [13:06<1:36:30, 31.30s/it]"
     ]
    },
    {
     "name": "stdout",
     "output_type": "stream",
     "text": [
      "n_slice 145\n"
     ]
    },
    {
     "name": "stderr",
     "output_type": "stream",
     "text": [
      "\n",
      "100%|████████████████████████████████████████████████████████████████████████████████████████████████████████████████████████████████████████| 145/145 [00:00<00:00, 1475.66it/s]\u001b[A\n",
      " 11%|██████████████▋                                                                                                                          | 22/206 [13:23<1:22:22, 26.86s/it]"
     ]
    },
    {
     "name": "stdout",
     "output_type": "stream",
     "text": [
      "n_slice 169\n"
     ]
    },
    {
     "name": "stderr",
     "output_type": "stream",
     "text": [
      "\n",
      "100%|████████████████████████████████████████████████████████████████████████████████████████████████████████████████████████████████████████| 169/169 [00:00<00:00, 1980.52it/s]\u001b[A\n",
      " 11%|███████████████▎                                                                                                                         | 23/206 [13:43<1:16:15, 25.00s/it]"
     ]
    },
    {
     "name": "stdout",
     "output_type": "stream",
     "text": [
      "n_slice 335\n"
     ]
    },
    {
     "name": "stderr",
     "output_type": "stream",
     "text": [
      "\n",
      "  0%|                                                                                                                                                    | 0/335 [00:00<?, ?it/s]\u001b[A\n",
      "100%|████████████████████████████████████████████████████████████████████████████████████████████████████████████████████████████████████████| 335/335 [00:00<00:00, 1738.58it/s]\u001b[A\n",
      " 12%|███████████████▉                                                                                                                         | 24/206 [14:23<1:29:25, 29.48s/it]"
     ]
    },
    {
     "name": "stdout",
     "output_type": "stream",
     "text": [
      "n_slice 69\n"
     ]
    },
    {
     "name": "stderr",
     "output_type": "stream",
     "text": [
      "\n",
      "100%|███████████████████████████████████████████████████████████████████████████████████████████████████████████████████████████████████████████| 69/69 [00:00<00:00, 915.79it/s]\u001b[A\n",
      " 12%|████████████████▋                                                                                                                        | 25/206 [14:31<1:09:38, 23.09s/it]"
     ]
    },
    {
     "name": "stdout",
     "output_type": "stream",
     "text": [
      "n_slice 427\n"
     ]
    },
    {
     "name": "stderr",
     "output_type": "stream",
     "text": [
      "\n",
      "  0%|                                                                                                                                                    | 0/427 [00:00<?, ?it/s]\u001b[A\n",
      " 48%|█████████████████████████████████████████████████████████████████▉                                                                      | 207/427 [00:00<00:00, 2062.66it/s]\u001b[A\n",
      "100%|████████████████████████████████████████████████████████████████████████████████████████████████████████████████████████████████████████| 427/427 [00:00<00:00, 2044.79it/s]\u001b[A\n",
      " 13%|█████████████████▎                                                                                                                       | 26/206 [15:23<1:34:35, 31.53s/it]"
     ]
    },
    {
     "name": "stdout",
     "output_type": "stream",
     "text": [
      "n_slice 105\n"
     ]
    },
    {
     "name": "stderr",
     "output_type": "stream",
     "text": [
      "\n",
      "  0%|                                                                                                                                                    | 0/105 [00:00<?, ?it/s]\u001b[A\n",
      "100%|█████████████████████████████████████████████████████████████████████████████████████████████████████████████████████████████████████████| 105/105 [00:00<00:00, 971.94it/s]\u001b[A\n",
      " 13%|█████████████████▉                                                                                                                       | 27/206 [15:35<1:16:34, 25.67s/it]"
     ]
    },
    {
     "name": "stdout",
     "output_type": "stream",
     "text": [
      "n_slice 751\n"
     ]
    },
    {
     "name": "stderr",
     "output_type": "stream",
     "text": [
      "\n",
      "  0%|                                                                                                                                                    | 0/751 [00:00<?, ?it/s]\u001b[A\n",
      " 24%|████████████████████████████████▍                                                                                                       | 179/751 [00:00<00:00, 1783.56it/s]\u001b[A\n",
      " 50%|████████████████████████████████████████████████████████████████████▎                                                                   | 377/751 [00:00<00:00, 1898.47it/s]\u001b[A\n",
      "100%|████████████████████████████████████████████████████████████████████████████████████████████████████████████████████████████████████████| 751/751 [00:00<00:00, 1949.12it/s]\u001b[A\n",
      " 14%|██████████████████▌                                                                                                                      | 28/206 [16:20<1:33:19, 31.46s/it]"
     ]
    },
    {
     "name": "stdout",
     "output_type": "stream",
     "text": [
      "n_slice 677\n"
     ]
    },
    {
     "name": "stderr",
     "output_type": "stream",
     "text": [
      "\n",
      "  0%|                                                                                                                                                    | 0/677 [00:00<?, ?it/s]\u001b[A\n",
      "  0%|▏                                                                                                                                           | 1/677 [00:00<01:12,  9.31it/s]\u001b[A\n",
      " 29%|██████████████████████████████████████▊                                                                                                 | 193/677 [00:00<00:00, 1097.51it/s]\u001b[A\n",
      " 57%|█████████████████████████████████████████████████████████████████████████████▉                                                          | 388/677 [00:00<00:00, 1478.40it/s]\u001b[A\n",
      "100%|████████████████████████████████████████████████████████████████████████████████████████████████████████████████████████████████████████| 677/677 [00:00<00:00, 1460.38it/s]\u001b[A\n",
      " 14%|███████████████████▎                                                                                                                     | 29/206 [17:45<2:20:44, 47.71s/it]"
     ]
    },
    {
     "name": "stdout",
     "output_type": "stream",
     "text": [
      "n_slice 69\n"
     ]
    },
    {
     "name": "stderr",
     "output_type": "stream",
     "text": [
      "\n",
      "  0%|                                                                                                                                                     | 0/69 [00:00<?, ?it/s]\u001b[A\n",
      "100%|███████████████████████████████████████████████████████████████████████████████████████████████████████████████████████████████████████████| 69/69 [00:00<00:00, 476.44it/s]\u001b[A\n",
      " 15%|███████████████████▉                                                                                                                     | 30/206 [17:53<1:45:09, 35.85s/it]"
     ]
    },
    {
     "name": "stdout",
     "output_type": "stream",
     "text": [
      "n_slice 586\n"
     ]
    },
    {
     "name": "stderr",
     "output_type": "stream",
     "text": [
      "\n",
      "  0%|                                                                                                                                                    | 0/586 [00:00<?, ?it/s]\u001b[A\n",
      " 37%|█████████████████████████████████████████████████▉                                                                                      | 215/586 [00:00<00:00, 2147.47it/s]\u001b[A\n",
      "100%|████████████████████████████████████████████████████████████████████████████████████████████████████████████████████████████████████████| 586/586 [00:00<00:00, 2084.10it/s]\u001b[A\n",
      " 15%|████████████████████▌                                                                                                                    | 31/206 [19:04<2:15:04, 46.31s/it]"
     ]
    },
    {
     "name": "stdout",
     "output_type": "stream",
     "text": [
      "n_slice 189\n"
     ]
    },
    {
     "name": "stderr",
     "output_type": "stream",
     "text": [
      "\n",
      "  0%|                                                                                                                                                    | 0/189 [00:00<?, ?it/s]\u001b[A\n",
      "100%|████████████████████████████████████████████████████████████████████████████████████████████████████████████████████████████████████████| 189/189 [00:00<00:00, 1178.92it/s]\u001b[A\n",
      " 16%|█████████████████████▎                                                                                                                   | 32/206 [19:27<1:53:42, 39.21s/it]"
     ]
    },
    {
     "name": "stdout",
     "output_type": "stream",
     "text": [
      "n_slice 365\n"
     ]
    },
    {
     "name": "stderr",
     "output_type": "stream",
     "text": [
      "\n",
      "  0%|                                                                                                                                                    | 0/365 [00:00<?, ?it/s]\u001b[A\n",
      "100%|████████████████████████████████████████████████████████████████████████████████████████████████████████████████████████████████████████| 365/365 [00:00<00:00, 1871.54it/s]\u001b[A\n",
      " 16%|█████████████████████▉                                                                                                                   | 33/206 [20:10<1:56:34, 40.43s/it]"
     ]
    },
    {
     "name": "stdout",
     "output_type": "stream",
     "text": [
      "n_slice 293\n"
     ]
    },
    {
     "name": "stderr",
     "output_type": "stream",
     "text": [
      "\n",
      "  0%|                                                                                                                                                    | 0/293 [00:00<?, ?it/s]\u001b[A\n",
      "100%|████████████████████████████████████████████████████████████████████████████████████████████████████████████████████████████████████████| 293/293 [00:00<00:00, 1796.32it/s]\u001b[A\n",
      " 17%|██████████████████████▌                                                                                                                  | 34/206 [20:45<1:50:57, 38.71s/it]"
     ]
    },
    {
     "name": "stdout",
     "output_type": "stream",
     "text": [
      "n_slice 122\n"
     ]
    },
    {
     "name": "stderr",
     "output_type": "stream",
     "text": [
      "\n",
      "100%|████████████████████████████████████████████████████████████████████████████████████████████████████████████████████████████████████████| 122/122 [00:00<00:00, 1292.78it/s]\u001b[A\n",
      " 17%|███████████████████████▎                                                                                                                 | 35/206 [21:01<1:30:52, 31.89s/it]"
     ]
    },
    {
     "name": "stdout",
     "output_type": "stream",
     "text": [
      "n_slice 715\n"
     ]
    },
    {
     "name": "stderr",
     "output_type": "stream",
     "text": [
      "\n",
      "  0%|                                                                                                                                                    | 0/715 [00:00<?, ?it/s]\u001b[A\n",
      " 28%|█████████████████████████████████████▋                                                                                                  | 198/715 [00:00<00:00, 1978.28it/s]\u001b[A\n",
      " 55%|███████████████████████████████████████████████████████████████████████████▎                                                            | 396/715 [00:00<00:00, 1966.38it/s]\u001b[A\n",
      "100%|████████████████████████████████████████████████████████████████████████████████████████████████████████████████████████████████████████| 715/715 [00:00<00:00, 1986.40it/s]\u001b[A\n",
      " 17%|███████████████████████▉                                                                                                                 | 36/206 [22:24<2:14:19, 47.41s/it]"
     ]
    },
    {
     "name": "stdout",
     "output_type": "stream",
     "text": [
      "n_slice 303\n"
     ]
    },
    {
     "name": "stderr",
     "output_type": "stream",
     "text": [
      "\n",
      "  0%|                                                                                                                                                    | 0/303 [00:00<?, ?it/s]\u001b[A\n",
      "  1%|█▊                                                                                                                                          | 4/303 [00:00<00:07, 39.85it/s]\u001b[A\n",
      "100%|████████████████████████████████████████████████████████████████████████████████████████████████████████████████████████████████████████| 303/303 [00:00<00:00, 1255.74it/s]\u001b[A\n",
      " 18%|████████████████████████▌                                                                                                                | 37/206 [23:02<2:05:43, 44.64s/it]"
     ]
    },
    {
     "name": "stdout",
     "output_type": "stream",
     "text": [
      "n_slice 170\n"
     ]
    },
    {
     "name": "stderr",
     "output_type": "stream",
     "text": [
      "\n",
      "  0%|                                                                                                                                                    | 0/170 [00:00<?, ?it/s]\u001b[A\n",
      "100%|████████████████████████████████████████████████████████████████████████████████████████████████████████████████████████████████████████| 170/170 [00:00<00:00, 1578.92it/s]\u001b[A\n",
      " 18%|█████████████████████████▎                                                                                                               | 38/206 [23:24<1:45:14, 37.59s/it]"
     ]
    },
    {
     "name": "stdout",
     "output_type": "stream",
     "text": [
      "n_slice 441\n"
     ]
    },
    {
     "name": "stderr",
     "output_type": "stream",
     "text": [
      "\n",
      "  0%|                                                                                                                                                    | 0/441 [00:00<?, ?it/s]\u001b[A\n",
      " 48%|█████████████████████████████████████████████████████████████████                                                                       | 211/441 [00:00<00:00, 2100.55it/s]\u001b[A\n",
      "100%|████████████████████████████████████████████████████████████████████████████████████████████████████████████████████████████████████████| 441/441 [00:00<00:00, 2098.03it/s]\u001b[A\n",
      " 19%|█████████████████████████▉                                                                                                               | 39/206 [24:18<1:58:27, 42.56s/it]"
     ]
    },
    {
     "name": "stdout",
     "output_type": "stream",
     "text": [
      "n_slice 113\n"
     ]
    },
    {
     "name": "stderr",
     "output_type": "stream",
     "text": [
      "\n",
      "  0%|                                                                                                                                                    | 0/113 [00:00<?, ?it/s]\u001b[A\n",
      "100%|█████████████████████████████████████████████████████████████████████████████████████████████████████████████████████████████████████████| 113/113 [00:00<00:00, 922.51it/s]\u001b[A\n",
      " 19%|██████████████████████████▌                                                                                                              | 40/206 [24:37<1:38:15, 35.51s/it]"
     ]
    },
    {
     "name": "stdout",
     "output_type": "stream",
     "text": [
      "n_slice 257\n"
     ]
    },
    {
     "name": "stderr",
     "output_type": "stream",
     "text": [
      "\n",
      "  0%|                                                                                                                                                    | 0/257 [00:00<?, ?it/s]\u001b[A\n",
      "100%|████████████████████████████████████████████████████████████████████████████████████████████████████████████████████████████████████████| 257/257 [00:00<00:00, 1860.87it/s]\u001b[A\n",
      " 20%|███████████████████████████▎                                                                                                             | 41/206 [25:07<1:33:09, 33.87s/it]"
     ]
    },
    {
     "name": "stdout",
     "output_type": "stream",
     "text": [
      "n_slice 250\n"
     ]
    },
    {
     "name": "stderr",
     "output_type": "stream",
     "text": [
      "\n",
      "  0%|                                                                                                                                                    | 0/250 [00:00<?, ?it/s]\u001b[A\n",
      "100%|████████████████████████████████████████████████████████████████████████████████████████████████████████████████████████████████████████| 250/250 [00:00<00:00, 1621.87it/s]\u001b[A\n",
      " 20%|███████████████████████████▉                                                                                                             | 42/206 [25:37<1:29:08, 32.61s/it]"
     ]
    },
    {
     "name": "stdout",
     "output_type": "stream",
     "text": [
      "n_slice 158\n"
     ]
    },
    {
     "name": "stderr",
     "output_type": "stream",
     "text": [
      "\n",
      "  0%|                                                                                                                                                    | 0/158 [00:00<?, ?it/s]\u001b[A\n",
      "100%|████████████████████████████████████████████████████████████████████████████████████████████████████████████████████████████████████████| 158/158 [00:00<00:00, 1494.78it/s]\u001b[A\n",
      " 21%|████████████████████████████▌                                                                                                            | 43/206 [25:55<1:16:58, 28.34s/it]"
     ]
    },
    {
     "name": "stdout",
     "output_type": "stream",
     "text": [
      "n_slice 236\n"
     ]
    },
    {
     "name": "stderr",
     "output_type": "stream",
     "text": [
      "\n",
      "  0%|                                                                                                                                                    | 0/236 [00:00<?, ?it/s]\u001b[A\n",
      "100%|████████████████████████████████████████████████████████████████████████████████████████████████████████████████████████████████████████| 236/236 [00:00<00:00, 1243.21it/s]\u001b[A\n",
      " 21%|█████████████████████████████▎                                                                                                           | 44/206 [26:36<1:26:55, 32.19s/it]"
     ]
    },
    {
     "name": "stdout",
     "output_type": "stream",
     "text": [
      "n_slice 269\n"
     ]
    },
    {
     "name": "stderr",
     "output_type": "stream",
     "text": [
      "\n",
      "  0%|                                                                                                                                                    | 0/269 [00:00<?, ?it/s]\u001b[A\n",
      "100%|████████████████████████████████████████████████████████████████████████████████████████████████████████████████████████████████████████| 269/269 [00:00<00:00, 1539.72it/s]\u001b[A\n",
      " 22%|█████████████████████████████▉                                                                                                           | 45/206 [27:08<1:26:18, 32.16s/it]"
     ]
    },
    {
     "name": "stdout",
     "output_type": "stream",
     "text": [
      "n_slice 385\n"
     ]
    },
    {
     "name": "stderr",
     "output_type": "stream",
     "text": [
      "\n",
      "  0%|                                                                                                                                                    | 0/385 [00:00<?, ?it/s]\u001b[A\n",
      " 39%|████████████████████████████████████████████████████▋                                                                                   | 149/385 [00:00<00:00, 1484.16it/s]\u001b[A\n",
      "100%|████████████████████████████████████████████████████████████████████████████████████████████████████████████████████████████████████████| 385/385 [00:00<00:00, 1659.49it/s]\u001b[A\n",
      " 22%|██████████████████████████████▌                                                                                                          | 46/206 [27:55<1:37:06, 36.41s/it]"
     ]
    },
    {
     "name": "stdout",
     "output_type": "stream",
     "text": [
      "n_slice 216\n"
     ]
    },
    {
     "name": "stderr",
     "output_type": "stream",
     "text": [
      "\n",
      "  0%|                                                                                                                                                    | 0/216 [00:00<?, ?it/s]\u001b[A\n",
      "100%|████████████████████████████████████████████████████████████████████████████████████████████████████████████████████████████████████████| 216/216 [00:00<00:00, 1157.46it/s]\u001b[A\n",
      " 23%|███████████████████████████████▎                                                                                                         | 47/206 [28:33<1:38:01, 36.99s/it]"
     ]
    },
    {
     "name": "stdout",
     "output_type": "stream",
     "text": [
      "n_slice 391\n"
     ]
    },
    {
     "name": "stderr",
     "output_type": "stream",
     "text": [
      "\n",
      "  0%|                                                                                                                                                    | 0/391 [00:00<?, ?it/s]\u001b[A\n",
      " 35%|███████████████████████████████████████████████▋                                                                                        | 137/391 [00:00<00:00, 1365.00it/s]\u001b[A\n",
      "100%|████████████████████████████████████████████████████████████████████████████████████████████████████████████████████████████████████████| 391/391 [00:00<00:00, 1710.04it/s]\u001b[A\n",
      " 23%|███████████████████████████████▉                                                                                                         | 48/206 [29:20<1:45:04, 39.90s/it]"
     ]
    },
    {
     "name": "stdout",
     "output_type": "stream",
     "text": [
      "n_slice 176\n"
     ]
    },
    {
     "name": "stderr",
     "output_type": "stream",
     "text": [
      "\n",
      "  0%|                                                                                                                                                    | 0/176 [00:00<?, ?it/s]\u001b[A\n",
      "100%|████████████████████████████████████████████████████████████████████████████████████████████████████████████████████████████████████████| 176/176 [00:00<00:00, 1323.83it/s]\u001b[A\n",
      " 24%|████████████████████████████████▌                                                                                                        | 49/206 [29:41<1:29:58, 34.39s/it]"
     ]
    },
    {
     "name": "stdout",
     "output_type": "stream",
     "text": [
      "n_slice 47\n"
     ]
    },
    {
     "name": "stderr",
     "output_type": "stream",
     "text": [
      "\n",
      "100%|██████████████████████████████████████████████████████████████████████████████████████████████████████████████████████████████████████████| 47/47 [00:00<00:00, 1328.33it/s]\u001b[A\n",
      " 24%|█████████████████████████████████▎                                                                                                       | 50/206 [29:47<1:06:53, 25.73s/it]"
     ]
    },
    {
     "name": "stdout",
     "output_type": "stream",
     "text": [
      "n_slice 804\n"
     ]
    },
    {
     "name": "stderr",
     "output_type": "stream",
     "text": [
      "\n",
      "  0%|                                                                                                                                                    | 0/804 [00:00<?, ?it/s]\u001b[A\n",
      " 24%|████████████████████████████████▋                                                                                                       | 193/804 [00:00<00:00, 1929.28it/s]\u001b[A\n",
      " 48%|█████████████████████████████████████████████████████████████████▎                                                                      | 386/804 [00:00<00:00, 1834.71it/s]\u001b[A\n",
      " 71%|████████████████████████████████████████████████████████████████████████████████████████████████▍                                       | 570/804 [00:00<00:00, 1818.59it/s]\u001b[A\n",
      "100%|████████████████████████████████████████████████████████████████████████████████████████████████████████████████████████████████████████| 804/804 [00:00<00:00, 1844.60it/s]\u001b[A\n",
      " 25%|█████████████████████████████████▉                                                                                                       | 51/206 [31:20<1:59:18, 46.18s/it]"
     ]
    },
    {
     "name": "stdout",
     "output_type": "stream",
     "text": [
      "n_slice 435\n"
     ]
    },
    {
     "name": "stderr",
     "output_type": "stream",
     "text": [
      "\n",
      "  0%|                                                                                                                                                    | 0/435 [00:00<?, ?it/s]\u001b[A\n",
      " 10%|██████████████▎                                                                                                                           | 45/435 [00:00<00:00, 448.94it/s]\u001b[A\n",
      " 50%|████████████████████████████████████████████████████████████████████▏                                                                   | 218/435 [00:00<00:00, 1200.24it/s]\u001b[A\n",
      "100%|████████████████████████████████████████████████████████████████████████████████████████████████████████████████████████████████████████| 435/435 [00:00<00:00, 1347.78it/s]\u001b[A\n",
      " 25%|██████████████████████████████████▌                                                                                                      | 52/206 [32:13<2:03:19, 48.05s/it]"
     ]
    },
    {
     "name": "stdout",
     "output_type": "stream",
     "text": [
      "n_slice 195\n"
     ]
    },
    {
     "name": "stderr",
     "output_type": "stream",
     "text": [
      "\n",
      "  0%|                                                                                                                                                    | 0/195 [00:00<?, ?it/s]\u001b[A\n",
      "100%|████████████████████████████████████████████████████████████████████████████████████████████████████████████████████████████████████████| 195/195 [00:00<00:00, 1290.69it/s]\u001b[A\n",
      " 26%|███████████████████████████████████▏                                                                                                     | 53/206 [32:36<1:43:09, 40.46s/it]"
     ]
    },
    {
     "name": "stdout",
     "output_type": "stream",
     "text": [
      "n_slice 154\n"
     ]
    },
    {
     "name": "stderr",
     "output_type": "stream",
     "text": [
      "\n",
      "100%|████████████████████████████████████████████████████████████████████████████████████████████████████████████████████████████████████████| 154/154 [00:00<00:00, 1816.81it/s]\u001b[A\n",
      " 26%|███████████████████████████████████▉                                                                                                     | 54/206 [32:55<1:26:13, 34.03s/it]"
     ]
    },
    {
     "name": "stdout",
     "output_type": "stream",
     "text": [
      "n_slice 189\n"
     ]
    },
    {
     "name": "stderr",
     "output_type": "stream",
     "text": [
      "\n",
      "  0%|                                                                                                                                                    | 0/189 [00:00<?, ?it/s]\u001b[A\n",
      "100%|████████████████████████████████████████████████████████████████████████████████████████████████████████████████████████████████████████| 189/189 [00:00<00:00, 1752.45it/s]\u001b[A\n",
      " 27%|████████████████████████████████████▌                                                                                                    | 55/206 [33:18<1:17:45, 30.90s/it]"
     ]
    },
    {
     "name": "stdout",
     "output_type": "stream",
     "text": [
      "n_slice 191\n"
     ]
    },
    {
     "name": "stderr",
     "output_type": "stream",
     "text": [
      "\n",
      "100%|████████████████████████████████████████████████████████████████████████████████████████████████████████████████████████████████████████| 191/191 [00:00<00:00, 2030.02it/s]\u001b[A\n",
      " 27%|█████████████████████████████████████▏                                                                                                   | 56/206 [33:42<1:11:38, 28.65s/it]"
     ]
    },
    {
     "name": "stdout",
     "output_type": "stream",
     "text": [
      "n_slice 501\n"
     ]
    },
    {
     "name": "stderr",
     "output_type": "stream",
     "text": [
      "\n",
      "  0%|                                                                                                                                                    | 0/501 [00:00<?, ?it/s]\u001b[A\n",
      " 33%|████████████████████████████████████████████▊                                                                                           | 165/501 [00:00<00:00, 1645.71it/s]\u001b[A\n",
      "100%|████████████████████████████████████████████████████████████████████████████████████████████████████████████████████████████████████████| 501/501 [00:00<00:00, 1750.96it/s]\u001b[A\n",
      " 28%|█████████████████████████████████████▉                                                                                                   | 57/206 [34:42<1:34:54, 38.22s/it]"
     ]
    },
    {
     "name": "stdout",
     "output_type": "stream",
     "text": [
      "n_slice 269\n"
     ]
    },
    {
     "name": "stderr",
     "output_type": "stream",
     "text": [
      "\n",
      "  0%|                                                                                                                                                    | 0/269 [00:00<?, ?it/s]\u001b[A\n",
      "100%|████████████████████████████████████████████████████████████████████████████████████████████████████████████████████████████████████████| 269/269 [00:00<00:00, 1356.98it/s]\u001b[A\n",
      " 28%|██████████████████████████████████████▌                                                                                                  | 58/206 [35:15<1:29:54, 36.45s/it]"
     ]
    },
    {
     "name": "stdout",
     "output_type": "stream",
     "text": [
      "n_slice 221\n"
     ]
    },
    {
     "name": "stderr",
     "output_type": "stream",
     "text": [
      "\n",
      "  0%|                                                                                                                                                    | 0/221 [00:00<?, ?it/s]\u001b[A\n",
      "100%|████████████████████████████████████████████████████████████████████████████████████████████████████████████████████████████████████████| 221/221 [00:00<00:00, 1584.05it/s]\u001b[A\n",
      " 29%|███████████████████████████████████████▏                                                                                                 | 59/206 [35:40<1:21:04, 33.09s/it]"
     ]
    },
    {
     "name": "stdout",
     "output_type": "stream",
     "text": [
      "n_slice 171\n"
     ]
    },
    {
     "name": "stderr",
     "output_type": "stream",
     "text": [
      "\n",
      "  0%|                                                                                                                                                    | 0/171 [00:00<?, ?it/s]\u001b[A\n",
      "100%|████████████████████████████████████████████████████████████████████████████████████████████████████████████████████████████████████████| 171/171 [00:00<00:00, 1591.14it/s]\u001b[A\n",
      " 29%|███████████████████████████████████████▉                                                                                                 | 60/206 [35:59<1:10:31, 28.98s/it]"
     ]
    },
    {
     "name": "stdout",
     "output_type": "stream",
     "text": [
      "n_slice 106\n"
     ]
    },
    {
     "name": "stderr",
     "output_type": "stream",
     "text": [
      "\n",
      "100%|████████████████████████████████████████████████████████████████████████████████████████████████████████████████████████████████████████| 106/106 [00:00<00:00, 1514.77it/s]\u001b[A\n",
      " 30%|█████████████████████████████████████████▏                                                                                                 | 61/206 [36:06<53:40, 22.21s/it]"
     ]
    },
    {
     "name": "stdout",
     "output_type": "stream",
     "text": [
      "n_slice 323\n"
     ]
    },
    {
     "name": "stderr",
     "output_type": "stream",
     "text": [
      "\n",
      "  0%|                                                                                                                                                    | 0/323 [00:00<?, ?it/s]\u001b[A\n",
      "100%|████████████████████████████████████████████████████████████████████████████████████████████████████████████████████████████████████████| 323/323 [00:00<00:00, 1856.73it/s]\u001b[A\n",
      " 30%|█████████████████████████████████████████▏                                                                                               | 62/206 [36:44<1:05:03, 27.11s/it]"
     ]
    },
    {
     "name": "stdout",
     "output_type": "stream",
     "text": [
      "n_slice 635\n"
     ]
    },
    {
     "name": "stderr",
     "output_type": "stream",
     "text": [
      "\n",
      "  0%|                                                                                                                                                    | 0/635 [00:00<?, ?it/s]\u001b[A\n",
      " 18%|████████████████████████▏                                                                                                               | 113/635 [00:00<00:00, 1127.27it/s]\u001b[A\n",
      " 46%|██████████████████████████████████████████████████████████████▊                                                                         | 293/635 [00:00<00:00, 1517.99it/s]\u001b[A\n",
      "100%|████████████████████████████████████████████████████████████████████████████████████████████████████████████████████████████████████████| 635/635 [00:00<00:00, 1607.75it/s]\u001b[A\n",
      " 31%|█████████████████████████████████████████▉                                                                                               | 63/206 [38:03<1:41:51, 42.74s/it]"
     ]
    },
    {
     "name": "stdout",
     "output_type": "stream",
     "text": [
      "n_slice 179\n"
     ]
    },
    {
     "name": "stderr",
     "output_type": "stream",
     "text": [
      "\n",
      "  0%|                                                                                                                                                    | 0/179 [00:00<?, ?it/s]\u001b[A\n",
      "100%|████████████████████████████████████████████████████████████████████████████████████████████████████████████████████████████████████████| 179/179 [00:00<00:00, 1037.96it/s]\u001b[A\n",
      " 31%|██████████████████████████████████████████▌                                                                                              | 64/206 [38:27<1:27:28, 36.96s/it]"
     ]
    },
    {
     "name": "stdout",
     "output_type": "stream",
     "text": [
      "n_slice 688\n"
     ]
    },
    {
     "name": "stderr",
     "output_type": "stream",
     "text": [
      "\n",
      "  0%|                                                                                                                                                    | 0/688 [00:00<?, ?it/s]\u001b[A\n",
      " 26%|███████████████████████████████████▏                                                                                                    | 178/688 [00:00<00:00, 1775.48it/s]\u001b[A\n",
      " 52%|███████████████████████████████████████████████████████████████████████▎                                                                | 361/688 [00:00<00:00, 1801.70it/s]\u001b[A\n",
      "100%|████████████████████████████████████████████████████████████████████████████████████████████████████████████████████████████████████████| 688/688 [00:00<00:00, 1920.69it/s]\u001b[A\n",
      " 32%|███████████████████████████████████████████▏                                                                                             | 65/206 [39:44<1:55:07, 48.99s/it]"
     ]
    },
    {
     "name": "stdout",
     "output_type": "stream",
     "text": [
      "n_slice 226\n"
     ]
    },
    {
     "name": "stderr",
     "output_type": "stream",
     "text": [
      "\n",
      "  0%|                                                                                                                                                    | 0/226 [00:00<?, ?it/s]\u001b[A\n",
      " 11%|███████████████▎                                                                                                                          | 25/226 [00:00<00:00, 248.72it/s]\u001b[A\n",
      "100%|█████████████████████████████████████████████████████████████████████████████████████████████████████████████████████████████████████████| 226/226 [00:00<00:00, 877.04it/s]\u001b[A\n",
      " 32%|███████████████████████████████████████████▉                                                                                             | 66/206 [40:31<1:53:18, 48.56s/it]"
     ]
    },
    {
     "name": "stdout",
     "output_type": "stream",
     "text": [
      "n_slice 763\n"
     ]
    },
    {
     "name": "stderr",
     "output_type": "stream",
     "text": [
      "\n",
      "  0%|                                                                                                                                                    | 0/763 [00:00<?, ?it/s]\u001b[A\n",
      " 14%|███████████████████                                                                                                                     | 107/763 [00:00<00:00, 1068.67it/s]\u001b[A\n",
      " 38%|████████████████████████████████████████████████████▏                                                                                   | 293/763 [00:00<00:00, 1529.89it/s]\u001b[A\n",
      " 61%|███████████████████████████████████████████████████████████████████████████████████▍                                                    | 468/763 [00:00<00:00, 1627.24it/s]\u001b[A\n",
      "100%|████████████████████████████████████████████████████████████████████████████████████████████████████████████████████████████████████████| 763/763 [00:00<00:00, 1650.47it/s]\u001b[A\n",
      " 33%|████████████████████████████████████████████▌                                                                                            | 67/206 [42:08<2:25:48, 62.94s/it]"
     ]
    },
    {
     "name": "stdout",
     "output_type": "stream",
     "text": [
      "n_slice 246\n"
     ]
    },
    {
     "name": "stderr",
     "output_type": "stream",
     "text": [
      "\n",
      "  0%|                                                                                                                                                    | 0/246 [00:00<?, ?it/s]\u001b[A\n",
      " 11%|███████████████▏                                                                                                                          | 27/246 [00:00<00:00, 269.66it/s]\u001b[A\n",
      "100%|████████████████████████████████████████████████████████████████████████████████████████████████████████████████████████████████████████| 246/246 [00:00<00:00, 1200.33it/s]\u001b[A\n",
      " 33%|█████████████████████████████████████████████▏                                                                                           | 68/206 [42:40<2:03:11, 53.56s/it]"
     ]
    },
    {
     "name": "stdout",
     "output_type": "stream",
     "text": [
      "n_slice 284\n"
     ]
    },
    {
     "name": "stderr",
     "output_type": "stream",
     "text": [
      "\n",
      "  0%|                                                                                                                                                    | 0/284 [00:00<?, ?it/s]\u001b[A\n",
      "100%|████████████████████████████████████████████████████████████████████████████████████████████████████████████████████████████████████████| 284/284 [00:00<00:00, 1910.99it/s]\u001b[A\n",
      " 33%|█████████████████████████████████████████████▉                                                                                           | 69/206 [43:18<1:51:43, 48.93s/it]"
     ]
    },
    {
     "name": "stdout",
     "output_type": "stream",
     "text": [
      "n_slice 81\n"
     ]
    },
    {
     "name": "stderr",
     "output_type": "stream",
     "text": [
      "\n",
      "100%|██████████████████████████████████████████████████████████████████████████████████████████████████████████████████████████████████████████| 81/81 [00:00<00:00, 1894.85it/s]\u001b[A\n",
      " 34%|██████████████████████████████████████████████▌                                                                                          | 70/206 [43:28<1:24:27, 37.26s/it]"
     ]
    },
    {
     "name": "stdout",
     "output_type": "stream",
     "text": [
      "n_slice 185\n"
     ]
    },
    {
     "name": "stderr",
     "output_type": "stream",
     "text": [
      "\n",
      "100%|████████████████████████████████████████████████████████████████████████████████████████████████████████████████████████████████████████| 185/185 [00:00<00:00, 2138.37it/s]\u001b[A\n",
      " 34%|███████████████████████████████████████████████▏                                                                                         | 71/206 [43:51<1:14:40, 33.19s/it]"
     ]
    },
    {
     "name": "stdout",
     "output_type": "stream",
     "text": [
      "n_slice 644\n"
     ]
    },
    {
     "name": "stderr",
     "output_type": "stream",
     "text": [
      "\n",
      "  0%|                                                                                                                                                    | 0/644 [00:00<?, ?it/s]\u001b[A\n",
      " 30%|█████████████████████████████████████████▍                                                                                              | 196/644 [00:00<00:00, 1953.06it/s]\u001b[A\n",
      " 61%|███████████████████████████████████████████████████████████████████████████████████▋                                                    | 396/644 [00:00<00:00, 1978.59it/s]\u001b[A\n",
      "100%|████████████████████████████████████████████████████████████████████████████████████████████████████████████████████████████████████████| 644/644 [00:00<00:00, 1986.77it/s]\u001b[A\n",
      " 35%|███████████████████████████████████████████████▉                                                                                         | 72/206 [45:13<1:46:49, 47.83s/it]"
     ]
    },
    {
     "name": "stdout",
     "output_type": "stream",
     "text": [
      "n_slice 533\n"
     ]
    },
    {
     "name": "stderr",
     "output_type": "stream",
     "text": [
      "\n",
      "  0%|                                                                                                                                                    | 0/533 [00:00<?, ?it/s]\u001b[A\n",
      "  4%|█████▋                                                                                                                                    | 22/533 [00:00<00:02, 219.11it/s]\u001b[A\n",
      " 40%|██████████████████████████████████████████████████████▌                                                                                 | 214/533 [00:00<00:00, 1215.02it/s]\u001b[A\n",
      "100%|████████████████████████████████████████████████████████████████████████████████████████████████████████████████████████████████████████| 533/533 [00:00<00:00, 1460.66it/s]\u001b[A\n",
      " 35%|████████████████████████████████████████████████▌                                                                                        | 73/206 [46:24<2:01:16, 54.71s/it]"
     ]
    },
    {
     "name": "stdout",
     "output_type": "stream",
     "text": [
      "n_slice 167\n"
     ]
    },
    {
     "name": "stderr",
     "output_type": "stream",
     "text": [
      "\n",
      "  0%|                                                                                                                                                    | 0/167 [00:00<?, ?it/s]\u001b[A\n",
      "100%|████████████████████████████████████████████████████████████████████████████████████████████████████████████████████████████████████████| 167/167 [00:00<00:00, 1069.53it/s]\u001b[A\n",
      " 36%|█████████████████████████████████████████████████▏                                                                                       | 74/206 [46:45<1:37:38, 44.38s/it]"
     ]
    },
    {
     "name": "stdout",
     "output_type": "stream",
     "text": [
      "n_slice 112\n"
     ]
    },
    {
     "name": "stderr",
     "output_type": "stream",
     "text": [
      "\n",
      "100%|████████████████████████████████████████████████████████████████████████████████████████████████████████████████████████████████████████| 112/112 [00:00<00:00, 1701.86it/s]\u001b[A\n",
      " 36%|█████████████████████████████████████████████████▉                                                                                       | 75/206 [46:58<1:16:59, 35.26s/it]"
     ]
    },
    {
     "name": "stdout",
     "output_type": "stream",
     "text": [
      "n_slice 317\n"
     ]
    },
    {
     "name": "stderr",
     "output_type": "stream",
     "text": [
      "\n",
      "  0%|                                                                                                                                                    | 0/317 [00:00<?, ?it/s]\u001b[A\n",
      "100%|████████████████████████████████████████████████████████████████████████████████████████████████████████████████████████████████████████| 317/317 [00:00<00:00, 2041.56it/s]\u001b[A\n",
      " 37%|██████████████████████████████████████████████████▌                                                                                      | 76/206 [47:40<1:20:13, 37.02s/it]"
     ]
    },
    {
     "name": "stdout",
     "output_type": "stream",
     "text": [
      "n_slice 312\n"
     ]
    },
    {
     "name": "stderr",
     "output_type": "stream",
     "text": [
      "\n",
      "  0%|                                                                                                                                                    | 0/312 [00:00<?, ?it/s]\u001b[A\n",
      "100%|████████████████████████████████████████████████████████████████████████████████████████████████████████████████████████████████████████| 312/312 [00:00<00:00, 1674.85it/s]\u001b[A\n",
      " 37%|███████████████████████████████████████████████████▏                                                                                     | 77/206 [48:21<1:22:30, 38.38s/it]"
     ]
    },
    {
     "name": "stdout",
     "output_type": "stream",
     "text": [
      "n_slice 371\n"
     ]
    },
    {
     "name": "stderr",
     "output_type": "stream",
     "text": [
      "\n",
      "  0%|                                                                                                                                                    | 0/371 [00:00<?, ?it/s]\u001b[A\n",
      " 35%|████████████████████████████████████████████████                                                                                        | 131/371 [00:00<00:00, 1304.76it/s]\u001b[A\n",
      "100%|████████████████████████████████████████████████████████████████████████████████████████████████████████████████████████████████████████| 371/371 [00:00<00:00, 1679.65it/s]\u001b[A\n",
      " 38%|███████████████████████████████████████████████████▊                                                                                     | 78/206 [49:07<1:26:33, 40.58s/it]"
     ]
    },
    {
     "name": "stdout",
     "output_type": "stream",
     "text": [
      "n_slice 415\n"
     ]
    },
    {
     "name": "stderr",
     "output_type": "stream",
     "text": [
      "\n",
      "  0%|                                                                                                                                                    | 0/415 [00:00<?, ?it/s]\u001b[A\n",
      " 31%|██████████████████████████████████████████▌                                                                                             | 130/415 [00:00<00:00, 1296.41it/s]\u001b[A\n",
      "100%|████████████████████████████████████████████████████████████████████████████████████████████████████████████████████████████████████████| 415/415 [00:00<00:00, 1742.97it/s]\u001b[A\n",
      " 38%|████████████████████████████████████████████████████▌                                                                                    | 79/206 [49:58<1:32:49, 43.86s/it]"
     ]
    },
    {
     "name": "stdout",
     "output_type": "stream",
     "text": [
      "n_slice 64\n"
     ]
    },
    {
     "name": "stderr",
     "output_type": "stream",
     "text": [
      "\n",
      "100%|███████████████████████████████████████████████████████████████████████████████████████████████████████████████████████████████████████████| 64/64 [00:00<00:00, 748.15it/s]\u001b[A\n",
      " 39%|█████████████████████████████████████████████████████▏                                                                                   | 80/206 [50:06<1:09:32, 33.11s/it]"
     ]
    },
    {
     "name": "stdout",
     "output_type": "stream",
     "text": [
      "n_slice 195\n"
     ]
    },
    {
     "name": "stderr",
     "output_type": "stream",
     "text": [
      "\n",
      "100%|████████████████████████████████████████████████████████████████████████████████████████████████████████████████████████████████████████| 195/195 [00:00<00:00, 2096.29it/s]\u001b[A\n",
      " 39%|█████████████████████████████████████████████████████▊                                                                                   | 81/206 [50:29<1:02:27, 29.98s/it]"
     ]
    },
    {
     "name": "stdout",
     "output_type": "stream",
     "text": [
      "n_slice 466\n"
     ]
    },
    {
     "name": "stderr",
     "output_type": "stream",
     "text": [
      "\n",
      "  0%|                                                                                                                                                    | 0/466 [00:00<?, ?it/s]\u001b[A\n",
      " 36%|█████████████████████████████████████████████████▌                                                                                      | 170/466 [00:00<00:00, 1697.46it/s]\u001b[A\n",
      "100%|████████████████████████████████████████████████████████████████████████████████████████████████████████████████████████████████████████| 466/466 [00:00<00:00, 1715.42it/s]\u001b[A\n",
      " 40%|██████████████████████████████████████████████████████▌                                                                                  | 82/206 [51:28<1:19:57, 38.69s/it]"
     ]
    },
    {
     "name": "stdout",
     "output_type": "stream",
     "text": [
      "n_slice 181\n"
     ]
    },
    {
     "name": "stderr",
     "output_type": "stream",
     "text": [
      "\n",
      "  0%|                                                                                                                                                    | 0/181 [00:00<?, ?it/s]\u001b[A\n",
      "100%|████████████████████████████████████████████████████████████████████████████████████████████████████████████████████████████████████████| 181/181 [00:00<00:00, 1173.47it/s]\u001b[A\n",
      " 40%|███████████████████████████████████████████████████████▏                                                                                 | 83/206 [51:51<1:09:37, 33.96s/it]"
     ]
    },
    {
     "name": "stdout",
     "output_type": "stream",
     "text": [
      "n_slice 682\n"
     ]
    },
    {
     "name": "stderr",
     "output_type": "stream",
     "text": [
      "\n",
      "  0%|                                                                                                                                                    | 0/682 [00:00<?, ?it/s]\u001b[A\n",
      " 23%|███████████████████████████████▎                                                                                                        | 157/682 [00:00<00:00, 1559.89it/s]\u001b[A\n",
      " 48%|█████████████████████████████████████████████████████████████████▏                                                                      | 327/682 [00:00<00:00, 1639.08it/s]\u001b[A\n",
      "100%|████████████████████████████████████████████████████████████████████████████████████████████████████████████████████████████████████████| 682/682 [00:00<00:00, 1702.70it/s]\u001b[A\n",
      " 41%|███████████████████████████████████████████████████████▊                                                                                 | 84/206 [53:18<1:41:08, 49.74s/it]"
     ]
    },
    {
     "name": "stdout",
     "output_type": "stream",
     "text": [
      "n_slice 538\n"
     ]
    },
    {
     "name": "stderr",
     "output_type": "stream",
     "text": [
      "\n",
      "  0%|                                                                                                                                                    | 0/538 [00:00<?, ?it/s]\u001b[A\n",
      "  1%|▊                                                                                                                                           | 3/538 [00:00<00:17, 29.86it/s]\u001b[A\n",
      " 38%|███████████████████████████████████████████████████                                                                                     | 202/538 [00:00<00:00, 1177.56it/s]\u001b[A\n",
      "100%|████████████████████████████████████████████████████████████████████████████████████████████████████████████████████████████████████████| 538/538 [00:00<00:00, 1471.04it/s]\u001b[A\n",
      " 41%|████████████████████████████████████████████████████████▌                                                                                | 85/206 [54:25<1:51:02, 55.06s/it]"
     ]
    },
    {
     "name": "stdout",
     "output_type": "stream",
     "text": [
      "n_slice 828\n"
     ]
    },
    {
     "name": "stderr",
     "output_type": "stream",
     "text": [
      "\n",
      "  0%|                                                                                                                                                    | 0/828 [00:00<?, ?it/s]\u001b[A\n",
      "  5%|███████▌                                                                                                                                  | 45/828 [00:00<00:01, 448.12it/s]\u001b[A\n",
      " 31%|█████████████████████████████████████████▌                                                                                              | 253/828 [00:00<00:00, 1402.26it/s]\u001b[A\n",
      " 54%|█████████████████████████████████████████████████████████████████████████▎                                                              | 446/828 [00:00<00:00, 1641.89it/s]\u001b[A\n",
      "100%|████████████████████████████████████████████████████████████████████████████████████████████████████████████████████████████████████████| 828/828 [00:00<00:00, 1694.08it/s]\u001b[A\n",
      " 42%|█████████████████████████████████████████████████████████▏                                                                               | 86/206 [56:11<2:20:41, 70.35s/it]"
     ]
    },
    {
     "name": "stdout",
     "output_type": "stream",
     "text": [
      "n_slice 296\n"
     ]
    },
    {
     "name": "stderr",
     "output_type": "stream",
     "text": [
      "\n",
      "  0%|                                                                                                                                                    | 0/296 [00:00<?, ?it/s]\u001b[A\n",
      "  5%|██████▌                                                                                                                                   | 14/296 [00:00<00:02, 139.72it/s]\u001b[A\n",
      "100%|████████████████████████████████████████████████████████████████████████████████████████████████████████████████████████████████████████| 296/296 [00:00<00:00, 1138.08it/s]\u001b[A\n",
      " 42%|█████████████████████████████████████████████████████████▊                                                                               | 87/206 [56:49<2:00:12, 60.61s/it]"
     ]
    },
    {
     "name": "stdout",
     "output_type": "stream",
     "text": [
      "n_slice 192\n"
     ]
    },
    {
     "name": "stderr",
     "output_type": "stream",
     "text": [
      "\n",
      "  0%|                                                                                                                                                    | 0/192 [00:00<?, ?it/s]\u001b[A\n",
      "100%|████████████████████████████████████████████████████████████████████████████████████████████████████████████████████████████████████████| 192/192 [00:00<00:00, 1517.93it/s]\u001b[A\n",
      " 43%|██████████████████████████████████████████████████████████▌                                                                              | 88/206 [57:12<1:37:06, 49.37s/it]"
     ]
    },
    {
     "name": "stdout",
     "output_type": "stream",
     "text": [
      "n_slice 312\n"
     ]
    },
    {
     "name": "stderr",
     "output_type": "stream",
     "text": [
      "\n",
      "  0%|                                                                                                                                                    | 0/312 [00:00<?, ?it/s]\u001b[A\n",
      "100%|████████████████████████████████████████████████████████████████████████████████████████████████████████████████████████████████████████| 312/312 [00:00<00:00, 1992.38it/s]\u001b[A\n",
      " 43%|███████████████████████████████████████████████████████████▏                                                                             | 89/206 [57:54<1:31:41, 47.02s/it]"
     ]
    },
    {
     "name": "stdout",
     "output_type": "stream",
     "text": [
      "n_slice 532\n"
     ]
    },
    {
     "name": "stderr",
     "output_type": "stream",
     "text": [
      "\n",
      "  0%|                                                                                                                                                    | 0/532 [00:00<?, ?it/s]\u001b[A\n",
      " 26%|██████████████████████████████████▊                                                                                                     | 136/532 [00:00<00:00, 1359.11it/s]\u001b[A\n",
      "100%|████████████████████████████████████████████████████████████████████████████████████████████████████████████████████████████████████████| 532/532 [00:00<00:00, 1796.81it/s]\u001b[A\n",
      " 44%|███████████████████████████████████████████████████████████▊                                                                             | 90/206 [59:01<1:42:34, 53.06s/it]"
     ]
    },
    {
     "name": "stdout",
     "output_type": "stream",
     "text": [
      "n_slice 483\n"
     ]
    },
    {
     "name": "stderr",
     "output_type": "stream",
     "text": [
      "\n",
      "  0%|                                                                                                                                                    | 0/483 [00:00<?, ?it/s]\u001b[A\n",
      " 17%|██████████████████████▊                                                                                                                   | 80/483 [00:00<00:00, 798.50it/s]\u001b[A\n",
      " 57%|█████████████████████████████████████████████████████████████████████████████▍                                                          | 275/483 [00:00<00:00, 1471.56it/s]\u001b[A\n",
      "100%|████████████████████████████████████████████████████████████████████████████████████████████████████████████████████████████████████████| 483/483 [00:00<00:00, 1574.72it/s]\u001b[A\n",
      " 44%|███████████████████████████████████████████████████████████▋                                                                           | 91/206 [1:00:02<1:46:09, 55.39s/it]"
     ]
    },
    {
     "name": "stdout",
     "output_type": "stream",
     "text": [
      "n_slice 365\n"
     ]
    },
    {
     "name": "stderr",
     "output_type": "stream",
     "text": [
      "\n",
      "  0%|                                                                                                                                                    | 0/365 [00:00<?, ?it/s]\u001b[A\n",
      " 20%|███████████████████████████▉                                                                                                              | 74/365 [00:00<00:00, 739.82it/s]\u001b[A\n",
      "100%|████████████████████████████████████████████████████████████████████████████████████████████████████████████████████████████████████████| 365/365 [00:00<00:00, 1544.02it/s]\u001b[A\n",
      " 45%|████████████████████████████████████████████████████████████▎                                                                          | 92/206 [1:00:49<1:40:40, 52.99s/it]"
     ]
    },
    {
     "name": "stdout",
     "output_type": "stream",
     "text": [
      "n_slice 291\n"
     ]
    },
    {
     "name": "stderr",
     "output_type": "stream",
     "text": [
      "\n",
      "  0%|                                                                                                                                                    | 0/291 [00:00<?, ?it/s]\u001b[A\n",
      "100%|████████████████████████████████████████████████████████████████████████████████████████████████████████████████████████████████████████| 291/291 [00:00<00:00, 1738.31it/s]\u001b[A\n",
      " 45%|████████████████████████████████████████████████████████████▉                                                                          | 93/206 [1:01:26<1:30:37, 48.12s/it]"
     ]
    },
    {
     "name": "stdout",
     "output_type": "stream",
     "text": [
      "n_slice 843\n"
     ]
    },
    {
     "name": "stderr",
     "output_type": "stream",
     "text": [
      "\n",
      "  0%|                                                                                                                                                    | 0/843 [00:00<?, ?it/s]\u001b[A\n",
      " 18%|████████████████████████▌                                                                                                               | 152/843 [00:00<00:00, 1514.11it/s]\u001b[A\n",
      " 41%|███████████████████████████████████████████████████████▋                                                                                | 345/843 [00:00<00:00, 1753.84it/s]\u001b[A\n",
      " 64%|██████████████████████████████████████████████████████████████████████████████████████▋                                                 | 537/843 [00:00<00:00, 1826.88it/s]\u001b[A\n",
      "100%|████████████████████████████████████████████████████████████████████████████████████████████████████████████████████████████████████████| 843/843 [00:00<00:00, 1873.24it/s]\u001b[A\n",
      " 46%|█████████████████████████████████████████████████████████████▌                                                                         | 94/206 [1:02:19<1:32:30, 49.56s/it]"
     ]
    },
    {
     "name": "stdout",
     "output_type": "stream",
     "text": [
      "n_slice 473\n"
     ]
    },
    {
     "name": "stderr",
     "output_type": "stream",
     "text": [
      "\n",
      "  0%|                                                                                                                                                    | 0/473 [00:00<?, ?it/s]\u001b[A\n",
      "  0%|▎                                                                                                                                           | 1/473 [00:00<00:52,  8.97it/s]\u001b[A\n",
      " 44%|███████████████████████████████████████████████████████████▏                                                                            | 206/473 [00:00<00:00, 1154.92it/s]\u001b[A\n",
      "100%|████████████████████████████████████████████████████████████████████████████████████████████████████████████████████████████████████████| 473/473 [00:00<00:00, 1362.92it/s]\u001b[A\n",
      " 46%|██████████████████████████████████████████████████████████████▎                                                                        | 95/206 [1:03:16<1:36:05, 51.94s/it]"
     ]
    },
    {
     "name": "stdout",
     "output_type": "stream",
     "text": [
      "n_slice 797\n"
     ]
    },
    {
     "name": "stderr",
     "output_type": "stream",
     "text": [
      "\n",
      "  0%|                                                                                                                                                    | 0/797 [00:00<?, ?it/s]\u001b[A\n",
      " 12%|████████████████▌                                                                                                                         | 96/797 [00:00<00:00, 956.30it/s]\u001b[A\n",
      " 35%|████████████████████████████████████████████████                                                                                        | 282/797 [00:00<00:00, 1485.95it/s]\u001b[A\n",
      " 58%|██████████████████████████████████████████████████████████████████████████████▊                                                         | 462/797 [00:00<00:00, 1625.56it/s]\u001b[A\n",
      "100%|████████████████████████████████████████████████████████████████████████████████████████████████████████████████████████████████████████| 797/797 [00:00<00:00, 1657.93it/s]\u001b[A\n",
      " 47%|██████████████████████████████████████████████████████████████▉                                                                        | 96/206 [1:04:44<1:54:57, 62.70s/it]"
     ]
    },
    {
     "name": "stdout",
     "output_type": "stream",
     "text": [
      "n_slice 68\n"
     ]
    },
    {
     "name": "stderr",
     "output_type": "stream",
     "text": [
      "\n",
      "  0%|                                                                                                                                                     | 0/68 [00:00<?, ?it/s]\u001b[A\n",
      "100%|███████████████████████████████████████████████████████████████████████████████████████████████████████████████████████████████████████████| 68/68 [00:00<00:00, 576.35it/s]\u001b[A\n",
      " 47%|███████████████████████████████████████████████████████████████▌                                                                       | 97/206 [1:04:53<1:24:35, 46.56s/it]"
     ]
    },
    {
     "name": "stdout",
     "output_type": "stream",
     "text": [
      "n_slice 221\n"
     ]
    },
    {
     "name": "stderr",
     "output_type": "stream",
     "text": [
      "\n",
      "  0%|                                                                                                                                                    | 0/221 [00:00<?, ?it/s]\u001b[A\n",
      "100%|████████████████████████████████████████████████████████████████████████████████████████████████████████████████████████████████████████| 221/221 [00:00<00:00, 1850.05it/s]\u001b[A\n",
      " 48%|████████████████████████████████████████████████████████████████▏                                                                      | 98/206 [1:05:19<1:12:44, 40.41s/it]"
     ]
    },
    {
     "name": "stdout",
     "output_type": "stream",
     "text": [
      "n_slice 107\n"
     ]
    },
    {
     "name": "stderr",
     "output_type": "stream",
     "text": [
      "\n",
      "100%|████████████████████████████████████████████████████████████████████████████████████████████████████████████████████████████████████████| 107/107 [00:00<00:00, 2154.08it/s]\u001b[A\n",
      " 48%|█████████████████████████████████████████████████████████████████▊                                                                       | 99/206 [1:05:32<57:09, 32.05s/it]"
     ]
    },
    {
     "name": "stdout",
     "output_type": "stream",
     "text": [
      "n_slice 306\n"
     ]
    },
    {
     "name": "stderr",
     "output_type": "stream",
     "text": [
      "\n",
      "  0%|                                                                                                                                                    | 0/306 [00:00<?, ?it/s]\u001b[A\n",
      "100%|████████████████████████████████████████████████████████████████████████████████████████████████████████████████████████████████████████| 306/306 [00:00<00:00, 2137.67it/s]\u001b[A\n",
      " 49%|██████████████████████████████████████████████████████████████████                                                                      | 100/206 [1:06:09<59:41, 33.79s/it]"
     ]
    },
    {
     "name": "stdout",
     "output_type": "stream",
     "text": [
      "n_slice 101\n"
     ]
    },
    {
     "name": "stderr",
     "output_type": "stream",
     "text": [
      "\n",
      "100%|████████████████████████████████████████████████████████████████████████████████████████████████████████████████████████████████████████| 101/101 [00:00<00:00, 1570.12it/s]\u001b[A\n",
      " 49%|██████████████████████████████████████████████████████████████████▋                                                                     | 101/206 [1:06:21<47:28, 27.12s/it]"
     ]
    },
    {
     "name": "stdout",
     "output_type": "stream",
     "text": [
      "n_slice 168\n"
     ]
    },
    {
     "name": "stderr",
     "output_type": "stream",
     "text": [
      "\n",
      "100%|████████████████████████████████████████████████████████████████████████████████████████████████████████████████████████████████████████| 168/168 [00:00<00:00, 1870.55it/s]\u001b[A\n",
      " 50%|███████████████████████████████████████████████████████████████████▎                                                                    | 102/206 [1:06:41<43:22, 25.02s/it]"
     ]
    },
    {
     "name": "stdout",
     "output_type": "stream",
     "text": [
      "n_slice 718\n"
     ]
    },
    {
     "name": "stderr",
     "output_type": "stream",
     "text": [
      "\n",
      "  0%|                                                                                                                                                    | 0/718 [00:00<?, ?it/s]\u001b[A\n",
      " 25%|██████████████████████████████████▍                                                                                                     | 182/718 [00:00<00:00, 1810.99it/s]\u001b[A\n",
      " 51%|████████████████████████████████████████████████████████████████████▉                                                                   | 364/718 [00:00<00:00, 1763.94it/s]\u001b[A\n",
      "100%|████████████████████████████████████████████████████████████████████████████████████████████████████████████████████████████████████████| 718/718 [00:00<00:00, 1786.65it/s]\u001b[A\n",
      " 50%|███████████████████████████████████████████████████████████████████                                                                   | 103/206 [1:08:09<1:15:22, 43.91s/it]"
     ]
    },
    {
     "name": "stdout",
     "output_type": "stream",
     "text": [
      "n_slice 352\n"
     ]
    },
    {
     "name": "stderr",
     "output_type": "stream",
     "text": [
      "\n",
      "  0%|                                                                                                                                                    | 0/352 [00:00<?, ?it/s]\u001b[A\n",
      "  0%|▍                                                                                                                                           | 1/352 [00:00<00:38,  9.13it/s]\u001b[A\n",
      "100%|████████████████████████████████████████████████████████████████████████████████████████████████████████████████████████████████████████| 352/352 [00:00<00:00, 1192.52it/s]\u001b[A\n",
      " 50%|███████████████████████████████████████████████████████████████████▋                                                                  | 104/206 [1:08:51<1:13:36, 43.30s/it]"
     ]
    },
    {
     "name": "stdout",
     "output_type": "stream",
     "text": [
      "n_slice 229\n"
     ]
    },
    {
     "name": "stderr",
     "output_type": "stream",
     "text": [
      "\n",
      "  0%|                                                                                                                                                    | 0/229 [00:00<?, ?it/s]\u001b[A\n",
      "100%|████████████████████████████████████████████████████████████████████████████████████████████████████████████████████████████████████████| 229/229 [00:00<00:00, 1347.17it/s]\u001b[A\n",
      " 51%|████████████████████████████████████████████████████████████████████▎                                                                 | 105/206 [1:09:18<1:04:56, 38.57s/it]"
     ]
    },
    {
     "name": "stdout",
     "output_type": "stream",
     "text": [
      "n_slice 619\n"
     ]
    },
    {
     "name": "stderr",
     "output_type": "stream",
     "text": [
      "\n",
      "  0%|                                                                                                                                                    | 0/619 [00:00<?, ?it/s]\u001b[A\n",
      " 26%|███████████████████████████████████▎                                                                                                    | 161/619 [00:00<00:00, 1603.01it/s]\u001b[A\n",
      " 53%|████████████████████████████████████████████████████████████████████████                                                                | 328/619 [00:00<00:00, 1637.13it/s]\u001b[A\n",
      "100%|████████████████████████████████████████████████████████████████████████████████████████████████████████████████████████████████████████| 619/619 [00:00<00:00, 1710.26it/s]\u001b[A\n",
      " 51%|████████████████████████████████████████████████████████████████████▉                                                                 | 106/206 [1:10:32<1:21:44, 49.05s/it]"
     ]
    },
    {
     "name": "stdout",
     "output_type": "stream",
     "text": [
      "n_slice 246\n"
     ]
    },
    {
     "name": "stderr",
     "output_type": "stream",
     "text": [
      "\n",
      "  0%|                                                                                                                                                    | 0/246 [00:00<?, ?it/s]\u001b[A\n",
      " 11%|███████████████▋                                                                                                                          | 28/246 [00:00<00:00, 279.07it/s]\u001b[A\n",
      "100%|████████████████████████████████████████████████████████████████████████████████████████████████████████████████████████████████████████| 246/246 [00:00<00:00, 1077.15it/s]\u001b[A\n",
      " 52%|█████████████████████████████████████████████████████████████████████▌                                                                | 107/206 [1:11:03<1:11:54, 43.58s/it]"
     ]
    },
    {
     "name": "stdout",
     "output_type": "stream",
     "text": [
      "n_slice 208\n"
     ]
    },
    {
     "name": "stderr",
     "output_type": "stream",
     "text": [
      "\n",
      "  0%|                                                                                                                                                    | 0/208 [00:00<?, ?it/s]\u001b[A\n",
      "100%|████████████████████████████████████████████████████████████████████████████████████████████████████████████████████████████████████████| 208/208 [00:00<00:00, 1608.95it/s]\u001b[A\n",
      " 52%|██████████████████████████████████████████████████████████████████████▎                                                               | 108/206 [1:11:29<1:02:41, 38.38s/it]"
     ]
    },
    {
     "name": "stdout",
     "output_type": "stream",
     "text": [
      "n_slice 226\n"
     ]
    },
    {
     "name": "stderr",
     "output_type": "stream",
     "text": [
      "\n",
      "  0%|                                                                                                                                                    | 0/226 [00:00<?, ?it/s]\u001b[A\n",
      "100%|████████████████████████████████████████████████████████████████████████████████████████████████████████████████████████████████████████| 226/226 [00:00<00:00, 1735.36it/s]\u001b[A\n",
      " 53%|███████████████████████████████████████████████████████████████████████▉                                                                | 109/206 [1:11:56<56:29, 34.95s/it]"
     ]
    },
    {
     "name": "stdout",
     "output_type": "stream",
     "text": [
      "n_slice 180\n"
     ]
    },
    {
     "name": "stderr",
     "output_type": "stream",
     "text": [
      "\n",
      "  0%|                                                                                                                                                    | 0/180 [00:00<?, ?it/s]\u001b[A\n",
      "100%|████████████████████████████████████████████████████████████████████████████████████████████████████████████████████████████████████████| 180/180 [00:00<00:00, 1596.72it/s]\u001b[A\n",
      " 53%|████████████████████████████████████████████████████████████████████████▌                                                               | 110/206 [1:12:19<50:06, 31.32s/it]"
     ]
    },
    {
     "name": "stdout",
     "output_type": "stream",
     "text": [
      "n_slice 403\n"
     ]
    },
    {
     "name": "stderr",
     "output_type": "stream",
     "text": [
      "\n",
      "  0%|                                                                                                                                                    | 0/403 [00:00<?, ?it/s]\u001b[A\n",
      " 43%|██████████████████████████████████████████████████████████▍                                                                             | 173/403 [00:00<00:00, 1726.31it/s]\u001b[A\n",
      "100%|████████████████████████████████████████████████████████████████████████████████████████████████████████████████████████████████████████| 403/403 [00:00<00:00, 1880.39it/s]\u001b[A\n",
      " 54%|█████████████████████████████████████████████████████████████████████████▎                                                              | 111/206 [1:13:06<57:04, 36.05s/it]"
     ]
    },
    {
     "name": "stdout",
     "output_type": "stream",
     "text": [
      "n_slice 314\n"
     ]
    },
    {
     "name": "stderr",
     "output_type": "stream",
     "text": [
      "\n",
      "  0%|                                                                                                                                                    | 0/314 [00:00<?, ?it/s]\u001b[A\n",
      " 34%|██████████████████████████████████████████████▎                                                                                         | 107/314 [00:00<00:00, 1068.55it/s]\u001b[A\n",
      "100%|████████████████████████████████████████████████████████████████████████████████████████████████████████████████████████████████████████| 314/314 [00:00<00:00, 1515.76it/s]\u001b[A\n",
      " 54%|█████████████████████████████████████████████████████████████████████████▉                                                              | 112/206 [1:13:44<57:23, 36.63s/it]"
     ]
    },
    {
     "name": "stdout",
     "output_type": "stream",
     "text": [
      "n_slice 88\n"
     ]
    },
    {
     "name": "stderr",
     "output_type": "stream",
     "text": [
      "\n",
      "100%|██████████████████████████████████████████████████████████████████████████████████████████████████████████████████████████████████████████| 88/88 [00:00<00:00, 1052.20it/s]\u001b[A\n",
      " 55%|██████████████████████████████████████████████████████████████████████████▌                                                             | 113/206 [1:13:54<44:33, 28.75s/it]"
     ]
    },
    {
     "name": "stdout",
     "output_type": "stream",
     "text": [
      "n_slice 113\n"
     ]
    },
    {
     "name": "stderr",
     "output_type": "stream",
     "text": [
      "\n",
      "100%|████████████████████████████████████████████████████████████████████████████████████████████████████████████████████████████████████████| 113/113 [00:00<00:00, 2007.35it/s]\u001b[A\n",
      " 55%|███████████████████████████████████████████████████████████████████████████▎                                                            | 114/206 [1:14:08<36:58, 24.12s/it]"
     ]
    },
    {
     "name": "stdout",
     "output_type": "stream",
     "text": [
      "n_slice 266\n"
     ]
    },
    {
     "name": "stderr",
     "output_type": "stream",
     "text": [
      "\n",
      "  0%|                                                                                                                                                    | 0/266 [00:00<?, ?it/s]\u001b[A\n",
      "100%|████████████████████████████████████████████████████████████████████████████████████████████████████████████████████████████████████████| 266/266 [00:00<00:00, 2133.95it/s]\u001b[A\n",
      " 56%|███████████████████████████████████████████████████████████████████████████▉                                                            | 115/206 [1:14:40<40:11, 26.50s/it]"
     ]
    },
    {
     "name": "stdout",
     "output_type": "stream",
     "text": [
      "n_slice 203\n"
     ]
    },
    {
     "name": "stderr",
     "output_type": "stream",
     "text": [
      "\n",
      "  0%|                                                                                                                                                    | 0/203 [00:00<?, ?it/s]\u001b[A\n",
      "100%|████████████████████████████████████████████████████████████████████████████████████████████████████████████████████████████████████████| 203/203 [00:00<00:00, 1559.02it/s]\u001b[A\n",
      " 56%|████████████████████████████████████████████████████████████████████████████▌                                                           | 116/206 [1:15:04<38:39, 25.77s/it]"
     ]
    },
    {
     "name": "stdout",
     "output_type": "stream",
     "text": [
      "n_slice 601\n"
     ]
    },
    {
     "name": "stderr",
     "output_type": "stream",
     "text": [
      "\n",
      "  0%|                                                                                                                                                    | 0/601 [00:00<?, ?it/s]\u001b[A\n",
      " 27%|█████████████████████████████████████                                                                                                   | 164/601 [00:00<00:00, 1638.86it/s]\u001b[A\n",
      " 59%|████████████████████████████████████████████████████████████████████████████████▊                                                       | 357/601 [00:00<00:00, 1805.73it/s]\u001b[A\n",
      "100%|████████████████████████████████████████████████████████████████████████████████████████████████████████████████████████████████████████| 601/601 [00:00<00:00, 1853.60it/s]\u001b[A\n",
      " 57%|█████████████████████████████████████████████████████████████████████████████▏                                                          | 117/206 [1:16:15<58:36, 39.51s/it]"
     ]
    },
    {
     "name": "stdout",
     "output_type": "stream",
     "text": [
      "n_slice 178\n"
     ]
    },
    {
     "name": "stderr",
     "output_type": "stream",
     "text": [
      "\n",
      "  0%|                                                                                                                                                    | 0/178 [00:00<?, ?it/s]\u001b[A\n",
      "100%|████████████████████████████████████████████████████████████████████████████████████████████████████████████████████████████████████████| 178/178 [00:00<00:00, 1017.91it/s]\u001b[A\n",
      " 57%|█████████████████████████████████████████████████████████████████████████████▉                                                          | 118/206 [1:16:38<50:32, 34.46s/it]"
     ]
    },
    {
     "name": "stdout",
     "output_type": "stream",
     "text": [
      "n_slice 773\n"
     ]
    },
    {
     "name": "stderr",
     "output_type": "stream",
     "text": [
      "\n",
      "  0%|                                                                                                                                                    | 0/773 [00:00<?, ?it/s]\u001b[A\n",
      " 23%|███████████████████████████████▏                                                                                                        | 177/773 [00:00<00:00, 1769.39it/s]\u001b[A\n",
      " 48%|█████████████████████████████████████████████████████████████████▎                                                                      | 371/773 [00:00<00:00, 1867.78it/s]\u001b[A\n",
      "100%|████████████████████████████████████████████████████████████████████████████████████████████████████████████████████████████████████████| 773/773 [00:00<00:00, 1954.44it/s]\u001b[A\n",
      " 58%|█████████████████████████████████████████████████████████████████████████████▍                                                        | 119/206 [1:18:13<1:16:15, 52.60s/it]"
     ]
    },
    {
     "name": "stdout",
     "output_type": "stream",
     "text": [
      "n_slice 768\n"
     ]
    },
    {
     "name": "stderr",
     "output_type": "stream",
     "text": [
      "\n",
      "  0%|                                                                                                                                                    | 0/768 [00:00<?, ?it/s]\u001b[A\n",
      "  0%|▏                                                                                                                                           | 1/768 [00:00<02:01,  6.29it/s]\u001b[A\n",
      " 24%|████████████████████████████████▊                                                                                                        | 184/768 [00:00<00:00, 868.05it/s]\u001b[A\n",
      " 47%|████████████████████████████████████████████████████████████████▎                                                                       | 363/768 [00:00<00:00, 1239.25it/s]\u001b[A\n",
      " 70%|███████████████████████████████████████████████████████████████████████████████████████████████▎                                        | 538/768 [00:00<00:00, 1422.76it/s]\u001b[A\n",
      "100%|████████████████████████████████████████████████████████████████████████████████████████████████████████████████████████████████████████| 768/768 [00:00<00:00, 1303.87it/s]\u001b[A\n",
      " 58%|██████████████████████████████████████████████████████████████████████████████                                                        | 120/206 [1:19:45<1:32:23, 64.46s/it]"
     ]
    },
    {
     "name": "stdout",
     "output_type": "stream",
     "text": [
      "n_slice 180\n"
     ]
    },
    {
     "name": "stderr",
     "output_type": "stream",
     "text": [
      "\n",
      "  0%|                                                                                                                                                    | 0/180 [00:00<?, ?it/s]\u001b[A\n",
      "100%|█████████████████████████████████████████████████████████████████████████████████████████████████████████████████████████████████████████| 180/180 [00:00<00:00, 837.80it/s]\u001b[A\n",
      " 59%|██████████████████████████████████████████████████████████████████████████████▋                                                       | 121/206 [1:19:56<1:08:46, 48.54s/it]"
     ]
    },
    {
     "name": "stdout",
     "output_type": "stream",
     "text": [
      "n_slice 221\n"
     ]
    },
    {
     "name": "stderr",
     "output_type": "stream",
     "text": [
      "\n",
      "  0%|                                                                                                                                                    | 0/221 [00:00<?, ?it/s]\u001b[A\n",
      "100%|████████████████████████████████████████████████████████████████████████████████████████████████████████████████████████████████████████| 221/221 [00:00<00:00, 2082.51it/s]\u001b[A\n",
      " 59%|████████████████████████████████████████████████████████████████████████████████▌                                                       | 122/206 [1:20:23<58:46, 41.99s/it]"
     ]
    },
    {
     "name": "stdout",
     "output_type": "stream",
     "text": [
      "n_slice 604\n"
     ]
    },
    {
     "name": "stderr",
     "output_type": "stream",
     "text": [
      "\n",
      "  0%|                                                                                                                                                    | 0/604 [00:00<?, ?it/s]\u001b[A\n",
      " 32%|███████████████████████████████████████████▋                                                                                            | 194/604 [00:00<00:00, 1937.32it/s]\u001b[A\n",
      "100%|████████████████████████████████████████████████████████████████████████████████████████████████████████████████████████████████████████| 604/604 [00:00<00:00, 2024.21it/s]\u001b[A\n",
      " 60%|████████████████████████████████████████████████████████████████████████████████                                                      | 123/206 [1:21:36<1:10:44, 51.14s/it]"
     ]
    },
    {
     "name": "stdout",
     "output_type": "stream",
     "text": [
      "n_slice 518\n"
     ]
    },
    {
     "name": "stderr",
     "output_type": "stream",
     "text": [
      "\n",
      "  0%|                                                                                                                                                    | 0/518 [00:00<?, ?it/s]\u001b[A\n",
      " 12%|█████████████████                                                                                                                         | 64/518 [00:00<00:00, 637.20it/s]\u001b[A\n",
      " 51%|█████████████████████████████████████████████████████████████████████▌                                                                  | 265/518 [00:00<00:00, 1442.25it/s]\u001b[A\n",
      "100%|████████████████████████████████████████████████████████████████████████████████████████████████████████████████████████████████████████| 518/518 [00:00<00:00, 1596.29it/s]\u001b[A\n",
      " 60%|████████████████████████████████████████████████████████████████████████████████▋                                                     | 124/206 [1:22:41<1:15:51, 55.50s/it]"
     ]
    },
    {
     "name": "stdout",
     "output_type": "stream",
     "text": [
      "n_slice 198\n"
     ]
    },
    {
     "name": "stderr",
     "output_type": "stream",
     "text": [
      "\n",
      "  0%|                                                                                                                                                    | 0/198 [00:00<?, ?it/s]\u001b[A\n",
      "100%|████████████████████████████████████████████████████████████████████████████████████████████████████████████████████████████████████████| 198/198 [00:00<00:00, 1211.42it/s]\u001b[A\n",
      " 61%|█████████████████████████████████████████████████████████████████████████████████▎                                                    | 125/206 [1:23:05<1:02:10, 46.06s/it]"
     ]
    },
    {
     "name": "stdout",
     "output_type": "stream",
     "text": [
      "n_slice 212\n"
     ]
    },
    {
     "name": "stderr",
     "output_type": "stream",
     "text": [
      "\n",
      "  0%|                                                                                                                                                    | 0/212 [00:00<?, ?it/s]\u001b[A\n",
      "100%|████████████████████████████████████████████████████████████████████████████████████████████████████████████████████████████████████████| 212/212 [00:00<00:00, 2020.74it/s]\u001b[A\n",
      " 61%|███████████████████████████████████████████████████████████████████████████████████▏                                                    | 126/206 [1:23:30<52:54, 39.68s/it]"
     ]
    },
    {
     "name": "stdout",
     "output_type": "stream",
     "text": [
      "n_slice 720\n"
     ]
    },
    {
     "name": "stderr",
     "output_type": "stream",
     "text": [
      "\n",
      "  0%|                                                                                                                                                    | 0/720 [00:00<?, ?it/s]\u001b[A\n",
      " 21%|████████████████████████████▉                                                                                                           | 153/720 [00:00<00:00, 1528.38it/s]\u001b[A\n",
      " 43%|██████████████████████████████████████████████████████████▉                                                                             | 312/720 [00:00<00:00, 1562.98it/s]\u001b[A\n",
      " 67%|███████████████████████████████████████████████████████████████████████████████████████████▍                                            | 484/720 [00:00<00:00, 1633.34it/s]\u001b[A\n",
      "100%|████████████████████████████████████████████████████████████████████████████████████████████████████████████████████████████████████████| 720/720 [00:00<00:00, 1656.91it/s]\u001b[A\n",
      " 62%|███████████████████████████████████████████████████████████████████████████████████▊                                                    | 127/206 [1:24:13<53:27, 40.60s/it]"
     ]
    },
    {
     "name": "stdout",
     "output_type": "stream",
     "text": [
      "n_slice 326\n"
     ]
    },
    {
     "name": "stderr",
     "output_type": "stream",
     "text": [
      "\n",
      "  0%|                                                                                                                                                    | 0/326 [00:00<?, ?it/s]\u001b[A\n",
      "  6%|████████▍                                                                                                                                 | 20/326 [00:00<00:01, 199.95it/s]\u001b[A\n",
      "100%|████████████████████████████████████████████████████████████████████████████████████████████████████████████████████████████████████████| 326/326 [00:00<00:00, 1339.77it/s]\u001b[A\n",
      " 62%|████████████████████████████████████████████████████████████████████████████████████▌                                                   | 128/206 [1:24:51<51:53, 39.91s/it]"
     ]
    },
    {
     "name": "stdout",
     "output_type": "stream",
     "text": [
      "n_slice 584\n"
     ]
    },
    {
     "name": "stderr",
     "output_type": "stream",
     "text": [
      "\n",
      "  0%|                                                                                                                                                    | 0/584 [00:00<?, ?it/s]\u001b[A\n",
      " 25%|█████████████████████████████████▊                                                                                                      | 145/584 [00:00<00:00, 1444.50it/s]\u001b[A\n",
      " 61%|██████████████████████████████████████████████████████████████████████████████████▋                                                     | 355/584 [00:00<00:00, 1824.66it/s]\u001b[A\n",
      "100%|████████████████████████████████████████████████████████████████████████████████████████████████████████████████████████████████████████| 584/584 [00:00<00:00, 1854.74it/s]\u001b[A\n",
      " 63%|███████████████████████████████████████████████████████████████████████████████████▉                                                  | 129/206 [1:25:59<1:02:00, 48.32s/it]"
     ]
    },
    {
     "name": "stdout",
     "output_type": "stream",
     "text": [
      "n_slice 203\n"
     ]
    },
    {
     "name": "stderr",
     "output_type": "stream",
     "text": [
      "\n",
      "  0%|                                                                                                                                                    | 0/203 [00:00<?, ?it/s]\u001b[A\n",
      "100%|████████████████████████████████████████████████████████████████████████████████████████████████████████████████████████████████████████| 203/203 [00:00<00:00, 1302.72it/s]\u001b[A\n",
      " 63%|█████████████████████████████████████████████████████████████████████████████████████▊                                                  | 130/206 [1:26:24<52:30, 41.45s/it]"
     ]
    },
    {
     "name": "stdout",
     "output_type": "stream",
     "text": [
      "n_slice 259\n"
     ]
    },
    {
     "name": "stderr",
     "output_type": "stream",
     "text": [
      "\n",
      "  0%|                                                                                                                                                    | 0/259 [00:00<?, ?it/s]\u001b[A\n",
      " 31%|██████████████████████████████████████████                                                                                                | 79/259 [00:00<00:00, 789.62it/s]\u001b[A\n",
      "100%|████████████████████████████████████████████████████████████████████████████████████████████████████████████████████████████████████████| 259/259 [00:00<00:00, 1048.25it/s]\u001b[A\n",
      " 64%|██████████████████████████████████████████████████████████████████████████████████████▍                                                 | 131/206 [1:27:18<56:26, 45.15s/it]"
     ]
    },
    {
     "name": "stdout",
     "output_type": "stream",
     "text": [
      "n_slice 575\n"
     ]
    },
    {
     "name": "stderr",
     "output_type": "stream",
     "text": [
      "\n",
      "  0%|                                                                                                                                                    | 0/575 [00:00<?, ?it/s]\u001b[A\n",
      " 17%|███████████████████████                                                                                                                   | 96/575 [00:00<00:00, 955.42it/s]\u001b[A\n",
      " 48%|█████████████████████████████████████████████████████████████████                                                                       | 275/575 [00:00<00:00, 1445.21it/s]\u001b[A\n",
      "100%|████████████████████████████████████████████████████████████████████████████████████████████████████████████████████████████████████████| 575/575 [00:00<00:00, 1672.77it/s]\u001b[A\n",
      " 64%|█████████████████████████████████████████████████████████████████████████████████████▊                                                | 132/206 [1:28:30<1:05:22, 53.00s/it]"
     ]
    },
    {
     "name": "stdout",
     "output_type": "stream",
     "text": [
      "n_slice 526\n"
     ]
    },
    {
     "name": "stderr",
     "output_type": "stream",
     "text": [
      "\n",
      "  0%|                                                                                                                                                    | 0/526 [00:00<?, ?it/s]\u001b[A\n",
      "  7%|██████████▏                                                                                                                               | 39/526 [00:00<00:01, 389.29it/s]\u001b[A\n",
      " 48%|█████████████████████████████████████████████████████████████████▏                                                                      | 252/526 [00:00<00:00, 1411.79it/s]\u001b[A\n",
      "100%|████████████████████████████████████████████████████████████████████████████████████████████████████████████████████████████████████████| 526/526 [00:00<00:00, 1575.11it/s]\u001b[A\n",
      " 65%|██████████████████████████████████████████████████████████████████████████████████████▌                                               | 133/206 [1:29:34<1:08:46, 56.52s/it]"
     ]
    },
    {
     "name": "stdout",
     "output_type": "stream",
     "text": [
      "n_slice 268\n"
     ]
    },
    {
     "name": "stderr",
     "output_type": "stream",
     "text": [
      "\n",
      "  0%|                                                                                                                                                    | 0/268 [00:00<?, ?it/s]\u001b[A\n",
      "100%|████████████████████████████████████████████████████████████████████████████████████████████████████████████████████████████████████████| 268/268 [00:00<00:00, 1417.91it/s]\u001b[A\n",
      " 65%|████████████████████████████████████████████████████████████████████████████████████████▍                                               | 134/206 [1:30:06<58:59, 49.16s/it]"
     ]
    },
    {
     "name": "stdout",
     "output_type": "stream",
     "text": [
      "n_slice 99\n"
     ]
    },
    {
     "name": "stderr",
     "output_type": "stream",
     "text": [
      "\n",
      "100%|██████████████████████████████████████████████████████████████████████████████████████████████████████████████████████████████████████████| 99/99 [00:00<00:00, 1404.97it/s]\u001b[A\n",
      " 66%|█████████████████████████████████████████████████████████████████████████████████████████▏                                              | 135/206 [1:30:18<44:53, 37.93s/it]"
     ]
    },
    {
     "name": "stdout",
     "output_type": "stream",
     "text": [
      "n_slice 169\n"
     ]
    },
    {
     "name": "stderr",
     "output_type": "stream",
     "text": [
      "\n",
      "100%|████████████████████████████████████████████████████████████████████████████████████████████████████████████████████████████████████████| 169/169 [00:00<00:00, 2008.09it/s]\u001b[A\n",
      " 66%|█████████████████████████████████████████████████████████████████████████████████████████▊                                              | 136/206 [1:30:37<37:43, 32.34s/it]"
     ]
    },
    {
     "name": "stdout",
     "output_type": "stream",
     "text": [
      "n_slice 187\n"
     ]
    },
    {
     "name": "stderr",
     "output_type": "stream",
     "text": [
      "\n",
      "100%|████████████████████████████████████████████████████████████████████████████████████████████████████████████████████████████████████████| 187/187 [00:00<00:00, 2172.29it/s]\u001b[A\n",
      " 67%|██████████████████████████████████████████████████████████████████████████████████████████▍                                             | 137/206 [1:30:49<30:07, 26.19s/it]"
     ]
    },
    {
     "name": "stdout",
     "output_type": "stream",
     "text": [
      "n_slice 481\n"
     ]
    },
    {
     "name": "stderr",
     "output_type": "stream",
     "text": [
      "\n",
      "  0%|                                                                                                                                                    | 0/481 [00:00<?, ?it/s]\u001b[A\n",
      " 36%|█████████████████████████████████████████████████▏                                                                                      | 174/481 [00:00<00:00, 1732.16it/s]\u001b[A\n",
      "100%|████████████████████████████████████████████████████████████████████████████████████████████████████████████████████████████████████████| 481/481 [00:00<00:00, 1920.39it/s]\u001b[A\n",
      " 67%|███████████████████████████████████████████████████████████████████████████████████████████                                             | 138/206 [1:31:47<40:31, 35.75s/it]"
     ]
    },
    {
     "name": "stdout",
     "output_type": "stream",
     "text": [
      "n_slice 505\n"
     ]
    },
    {
     "name": "stderr",
     "output_type": "stream",
     "text": [
      "\n",
      "  0%|                                                                                                                                                    | 0/505 [00:00<?, ?it/s]\u001b[A\n",
      " 17%|███████████████████████▌                                                                                                                  | 86/505 [00:00<00:00, 859.05it/s]\u001b[A\n",
      " 58%|██████████████████████████████████████████████████████████████████████████████▎                                                         | 291/505 [00:00<00:00, 1558.01it/s]\u001b[A\n",
      "100%|████████████████████████████████████████████████████████████████████████████████████████████████████████████████████████████████████████| 505/505 [00:00<00:00, 1651.55it/s]\u001b[A\n",
      " 67%|███████████████████████████████████████████████████████████████████████████████████████████▊                                            | 139/206 [1:32:48<48:10, 43.14s/it]"
     ]
    },
    {
     "name": "stdout",
     "output_type": "stream",
     "text": [
      "n_slice 205\n"
     ]
    },
    {
     "name": "stderr",
     "output_type": "stream",
     "text": [
      "\n",
      "  0%|                                                                                                                                                    | 0/205 [00:00<?, ?it/s]\u001b[A\n",
      "100%|████████████████████████████████████████████████████████████████████████████████████████████████████████████████████████████████████████| 205/205 [00:00<00:00, 1157.40it/s]\u001b[A\n",
      " 68%|████████████████████████████████████████████████████████████████████████████████████████████▍                                           | 140/206 [1:33:12<41:08, 37.40s/it]"
     ]
    },
    {
     "name": "stdout",
     "output_type": "stream",
     "text": [
      "n_slice 204\n"
     ]
    },
    {
     "name": "stderr",
     "output_type": "stream",
     "text": [
      "\n",
      "  0%|                                                                                                                                                    | 0/204 [00:00<?, ?it/s]\u001b[A\n",
      "100%|████████████████████████████████████████████████████████████████████████████████████████████████████████████████████████████████████████| 204/204 [00:00<00:00, 1809.77it/s]\u001b[A\n",
      " 68%|█████████████████████████████████████████████████████████████████████████████████████████████                                           | 141/206 [1:33:36<36:09, 33.38s/it]"
     ]
    },
    {
     "name": "stdout",
     "output_type": "stream",
     "text": [
      "n_slice 114\n"
     ]
    },
    {
     "name": "stderr",
     "output_type": "stream",
     "text": [
      "\n",
      "100%|████████████████████████████████████████████████████████████████████████████████████████████████████████████████████████████████████████| 114/114 [00:00<00:00, 1704.57it/s]\u001b[A\n",
      " 69%|█████████████████████████████████████████████████████████████████████████████████████████████▋                                          | 142/206 [1:33:49<29:04, 27.25s/it]"
     ]
    },
    {
     "name": "stdout",
     "output_type": "stream",
     "text": [
      "n_slice 1022\n"
     ]
    },
    {
     "name": "stderr",
     "output_type": "stream",
     "text": [
      "\n",
      "  0%|                                                                                                                                                   | 0/1022 [00:00<?, ?it/s]\u001b[A\n",
      " 20%|███████████████████████████                                                                                                            | 205/1022 [00:00<00:00, 2048.16it/s]\u001b[A\n",
      " 40%|██████████████████████████████████████████████████████▏                                                                                | 410/1022 [00:00<00:00, 1979.27it/s]\u001b[A\n",
      " 60%|████████████████████████████████████████████████████████████████████████████████▌                                                      | 610/1022 [00:00<00:00, 1985.17it/s]\u001b[A\n",
      "100%|██████████████████████████████████████████████████████████████████████████████████████████████████████████████████████████████████████| 1022/1022 [00:00<00:00, 2034.43it/s]\u001b[A\n",
      " 69%|██████████████████████████████████████████████████████████████████████████████████████████████▍                                         | 143/206 [1:35:53<59:12, 56.40s/it]"
     ]
    },
    {
     "name": "stdout",
     "output_type": "stream",
     "text": [
      "n_slice 175\n"
     ]
    },
    {
     "name": "stderr",
     "output_type": "stream",
     "text": [
      "\n",
      "  0%|                                                                                                                                                    | 0/175 [00:00<?, ?it/s]\u001b[A\n",
      "100%|█████████████████████████████████████████████████████████████████████████████████████████████████████████████████████████████████████████| 175/175 [00:00<00:00, 721.34it/s]\u001b[A\n",
      " 70%|███████████████████████████████████████████████████████████████████████████████████████████████                                         | 144/206 [1:36:14<47:18, 45.79s/it]"
     ]
    },
    {
     "name": "stdout",
     "output_type": "stream",
     "text": [
      "n_slice 725\n"
     ]
    },
    {
     "name": "stderr",
     "output_type": "stream",
     "text": [
      "\n",
      "  0%|                                                                                                                                                    | 0/725 [00:00<?, ?it/s]\u001b[A\n",
      " 22%|██████████████████████████████▍                                                                                                         | 162/725 [00:00<00:00, 1616.58it/s]\u001b[A\n",
      " 48%|█████████████████████████████████████████████████████████████████▎                                                                      | 348/725 [00:00<00:00, 1752.99it/s]\u001b[A\n",
      "100%|████████████████████████████████████████████████████████████████████████████████████████████████████████████████████████████████████████| 725/725 [00:00<00:00, 1874.19it/s]\u001b[A\n",
      " 70%|███████████████████████████████████████████████████████████████████████████████████████████████▋                                        | 145/206 [1:37:39<58:37, 57.67s/it]"
     ]
    },
    {
     "name": "stdout",
     "output_type": "stream",
     "text": [
      "n_slice 768\n"
     ]
    },
    {
     "name": "stderr",
     "output_type": "stream",
     "text": [
      "\n",
      "  0%|                                                                                                                                                    | 0/768 [00:00<?, ?it/s]\u001b[A\n",
      "  6%|████████▎                                                                                                                                 | 46/768 [00:00<00:01, 459.62it/s]\u001b[A\n",
      " 28%|█████████████████████████████████████▋                                                                                                  | 213/768 [00:00<00:00, 1169.57it/s]\u001b[A\n",
      " 51%|█████████████████████████████████████████████████████████████████████                                                                   | 390/768 [00:00<00:00, 1440.10it/s]\u001b[A\n",
      " 74%|████████████████████████████████████████████████████████████████████████████████████████████████████▉                                   | 570/768 [00:00<00:00, 1579.51it/s]\u001b[A\n",
      "100%|████████████████████████████████████████████████████████████████████████████████████████████████████████████████████████████████████████| 768/768 [00:00<00:00, 1494.85it/s]\u001b[A\n",
      " 71%|██████████████████████████████████████████████████████████████████████████████████████████████▉                                       | 146/206 [1:39:13<1:08:20, 68.35s/it]"
     ]
    },
    {
     "name": "stdout",
     "output_type": "stream",
     "text": [
      "n_slice 185\n"
     ]
    },
    {
     "name": "stderr",
     "output_type": "stream",
     "text": [
      "\n",
      "  0%|                                                                                                                                                    | 0/185 [00:00<?, ?it/s]\u001b[A\n",
      "100%|█████████████████████████████████████████████████████████████████████████████████████████████████████████████████████████████████████████| 185/185 [00:00<00:00, 932.53it/s]\u001b[A\n",
      " 71%|█████████████████████████████████████████████████████████████████████████████████████████████████                                       | 147/206 [1:39:36<53:53, 54.81s/it]"
     ]
    },
    {
     "name": "stdout",
     "output_type": "stream",
     "text": [
      "n_slice 375\n"
     ]
    },
    {
     "name": "stderr",
     "output_type": "stream",
     "text": [
      "\n",
      "  0%|                                                                                                                                                    | 0/375 [00:00<?, ?it/s]\u001b[A\n",
      "100%|████████████████████████████████████████████████████████████████████████████████████████████████████████████████████████████████████████| 375/375 [00:00<00:00, 1998.58it/s]\u001b[A\n",
      " 72%|█████████████████████████████████████████████████████████████████████████████████████████████████▋                                      | 148/206 [1:40:19<49:39, 51.37s/it]"
     ]
    },
    {
     "name": "stdout",
     "output_type": "stream",
     "text": [
      "n_slice 152\n"
     ]
    },
    {
     "name": "stderr",
     "output_type": "stream",
     "text": [
      "\n",
      "  0%|                                                                                                                                                    | 0/152 [00:00<?, ?it/s]\u001b[A\n",
      "100%|████████████████████████████████████████████████████████████████████████████████████████████████████████████████████████████████████████| 152/152 [00:00<00:00, 1225.53it/s]\u001b[A\n",
      " 72%|██████████████████████████████████████████████████████████████████████████████████████████████████▎                                     | 149/206 [1:40:36<39:03, 41.12s/it]"
     ]
    },
    {
     "name": "stdout",
     "output_type": "stream",
     "text": [
      "n_slice 154\n"
     ]
    },
    {
     "name": "stderr",
     "output_type": "stream",
     "text": [
      "\n",
      "100%|████████████████████████████████████████████████████████████████████████████████████████████████████████████████████████████████████████| 154/154 [00:00<00:00, 1914.61it/s]\u001b[A\n",
      " 73%|███████████████████████████████████████████████████████████████████████████████████████████████████                                     | 150/206 [1:40:54<31:55, 34.20s/it]"
     ]
    },
    {
     "name": "stdout",
     "output_type": "stream",
     "text": [
      "n_slice 168\n"
     ]
    },
    {
     "name": "stderr",
     "output_type": "stream",
     "text": [
      "\n",
      "  0%|                                                                                                                                                    | 0/168 [00:00<?, ?it/s]\u001b[A\n",
      "100%|████████████████████████████████████████████████████████████████████████████████████████████████████████████████████████████████████████| 168/168 [00:00<00:00, 1378.82it/s]\u001b[A\n",
      " 73%|███████████████████████████████████████████████████████████████████████████████████████████████████▋                                    | 151/206 [1:41:07<25:21, 27.66s/it]"
     ]
    },
    {
     "name": "stdout",
     "output_type": "stream",
     "text": [
      "n_slice 106\n"
     ]
    },
    {
     "name": "stderr",
     "output_type": "stream",
     "text": [
      "\n",
      "100%|████████████████████████████████████████████████████████████████████████████████████████████████████████████████████████████████████████| 106/106 [00:00<00:00, 1693.29it/s]\u001b[A\n",
      " 74%|████████████████████████████████████████████████████████████████████████████████████████████████████▎                                   | 152/206 [1:41:20<20:52, 23.20s/it]"
     ]
    },
    {
     "name": "stdout",
     "output_type": "stream",
     "text": [
      "n_slice 684\n"
     ]
    },
    {
     "name": "stderr",
     "output_type": "stream",
     "text": [
      "\n",
      "  0%|                                                                                                                                                    | 0/684 [00:00<?, ?it/s]\u001b[A\n",
      " 28%|██████████████████████████████████████▏                                                                                                 | 192/684 [00:00<00:00, 1915.07it/s]\u001b[A\n",
      " 57%|█████████████████████████████████████████████████████████████████████████████▎                                                          | 389/684 [00:00<00:00, 1944.27it/s]\u001b[A\n",
      "100%|████████████████████████████████████████████████████████████████████████████████████████████████████████████████████████████████████████| 684/684 [00:00<00:00, 1974.76it/s]\u001b[A\n",
      " 74%|█████████████████████████████████████████████████████████████████████████████████████████████████████                                   | 153/206 [1:42:44<36:35, 41.43s/it]"
     ]
    },
    {
     "name": "stdout",
     "output_type": "stream",
     "text": [
      "n_slice 239\n"
     ]
    },
    {
     "name": "stderr",
     "output_type": "stream",
     "text": [
      "\n",
      "  0%|                                                                                                                                                    | 0/239 [00:00<?, ?it/s]\u001b[A\n",
      "  5%|███████▌                                                                                                                                  | 13/239 [00:00<00:01, 129.93it/s]\u001b[A\n",
      "100%|████████████████████████████████████████████████████████████████████████████████████████████████████████████████████████████████████████| 239/239 [00:00<00:00, 1137.18it/s]\u001b[A\n",
      " 75%|█████████████████████████████████████████████████████████████████████████████████████████████████████▋                                  | 154/206 [1:43:12<32:25, 37.42s/it]"
     ]
    },
    {
     "name": "stdout",
     "output_type": "stream",
     "text": [
      "n_slice 310\n"
     ]
    },
    {
     "name": "stderr",
     "output_type": "stream",
     "text": [
      "\n",
      "  0%|                                                                                                                                                    | 0/310 [00:00<?, ?it/s]\u001b[A\n",
      " 39%|█████████████████████████████████████████████████████                                                                                   | 121/310 [00:00<00:00, 1208.56it/s]\u001b[A\n",
      "100%|████████████████████████████████████████████████████████████████████████████████████████████████████████████████████████████████████████| 310/310 [00:00<00:00, 1474.06it/s]\u001b[A\n",
      " 75%|██████████████████████████████████████████████████████████████████████████████████████████████████████▎                                 | 155/206 [1:43:49<31:53, 37.53s/it]"
     ]
    },
    {
     "name": "stdout",
     "output_type": "stream",
     "text": [
      "n_slice 174\n"
     ]
    },
    {
     "name": "stderr",
     "output_type": "stream",
     "text": [
      "\n",
      "  0%|                                                                                                                                                    | 0/174 [00:00<?, ?it/s]\u001b[A\n",
      "100%|████████████████████████████████████████████████████████████████████████████████████████████████████████████████████████████████████████| 174/174 [00:00<00:00, 1451.42it/s]\u001b[A\n",
      " 76%|██████████████████████████████████████████████████████████████████████████████████████████████████████▉                                 | 156/206 [1:44:10<27:07, 32.55s/it]"
     ]
    },
    {
     "name": "stdout",
     "output_type": "stream",
     "text": [
      "n_slice 256\n"
     ]
    },
    {
     "name": "stderr",
     "output_type": "stream",
     "text": [
      "\n",
      "  0%|                                                                                                                                                    | 0/256 [00:00<?, ?it/s]\u001b[A\n",
      "100%|████████████████████████████████████████████████████████████████████████████████████████████████████████████████████████████████████████| 256/256 [00:00<00:00, 1621.35it/s]\u001b[A\n",
      " 76%|███████████████████████████████████████████████████████████████████████████████████████████████████████▋                                | 157/206 [1:44:41<26:01, 31.87s/it]"
     ]
    },
    {
     "name": "stdout",
     "output_type": "stream",
     "text": [
      "n_slice 827\n"
     ]
    },
    {
     "name": "stderr",
     "output_type": "stream",
     "text": [
      "\n",
      "  0%|                                                                                                                                                    | 0/827 [00:00<?, ?it/s]\u001b[A\n",
      " 17%|███████████████████████▋                                                                                                                | 144/827 [00:00<00:00, 1435.70it/s]\u001b[A\n",
      " 39%|████████████████████████████████████████████████████▌                                                                                   | 320/827 [00:00<00:00, 1624.62it/s]\u001b[A\n",
      " 60%|██████████████████████████████████████████████████████████████████████████████████▏                                                     | 500/827 [00:00<00:00, 1701.05it/s]\u001b[A\n",
      "100%|████████████████████████████████████████████████████████████████████████████████████████████████████████████████████████████████████████| 827/827 [00:00<00:00, 1723.42it/s]\u001b[A\n",
      " 77%|████████████████████████████████████████████████████████████████████████████████████████████████████████▎                               | 158/206 [1:46:19<41:28, 51.84s/it]"
     ]
    },
    {
     "name": "stdout",
     "output_type": "stream",
     "text": [
      "n_slice 80\n"
     ]
    },
    {
     "name": "stderr",
     "output_type": "stream",
     "text": [
      "\n",
      "  0%|                                                                                                                                                     | 0/80 [00:00<?, ?it/s]\u001b[A\n",
      "100%|███████████████████████████████████████████████████████████████████████████████████████████████████████████████████████████████████████████| 80/80 [00:00<00:00, 484.16it/s]\u001b[A\n",
      " 77%|████████████████████████████████████████████████████████████████████████████████████████████████████████▉                               | 159/206 [1:46:28<30:34, 39.02s/it]"
     ]
    },
    {
     "name": "stdout",
     "output_type": "stream",
     "text": [
      "n_slice 371\n"
     ]
    },
    {
     "name": "stderr",
     "output_type": "stream",
     "text": [
      "\n",
      "  0%|                                                                                                                                                    | 0/371 [00:00<?, ?it/s]\u001b[A\n",
      "100%|████████████████████████████████████████████████████████████████████████████████████████████████████████████████████████████████████████| 371/371 [00:00<00:00, 1831.22it/s]\u001b[A\n",
      " 78%|█████████████████████████████████████████████████████████████████████████████████████████████████████████▋                              | 160/206 [1:47:13<31:11, 40.68s/it]"
     ]
    },
    {
     "name": "stdout",
     "output_type": "stream",
     "text": [
      "n_slice 294\n"
     ]
    },
    {
     "name": "stderr",
     "output_type": "stream",
     "text": [
      "\n",
      "  0%|                                                                                                                                                    | 0/294 [00:00<?, ?it/s]\u001b[A\n",
      "100%|████████████████████████████████████████████████████████████████████████████████████████████████████████████████████████████████████████| 294/294 [00:00<00:00, 1536.12it/s]\u001b[A\n",
      " 78%|██████████████████████████████████████████████████████████████████████████████████████████████████████████▎                             | 161/206 [1:47:49<29:26, 39.25s/it]"
     ]
    },
    {
     "name": "stdout",
     "output_type": "stream",
     "text": [
      "n_slice 327\n"
     ]
    },
    {
     "name": "stderr",
     "output_type": "stream",
     "text": [
      "\n",
      "  0%|                                                                                                                                                    | 0/327 [00:00<?, ?it/s]\u001b[A\n",
      " 41%|███████████████████████████████████████████████████████▎                                                                                | 133/327 [00:00<00:00, 1326.65it/s]\u001b[A\n",
      "100%|████████████████████████████████████████████████████████████████████████████████████████████████████████████████████████████████████████| 327/327 [00:00<00:00, 1570.32it/s]\u001b[A\n",
      " 79%|██████████████████████████████████████████████████████████████████████████████████████████████████████████▉                             | 162/206 [1:48:28<28:47, 39.25s/it]"
     ]
    },
    {
     "name": "stdout",
     "output_type": "stream",
     "text": [
      "n_slice 88\n"
     ]
    },
    {
     "name": "stderr",
     "output_type": "stream",
     "text": [
      "\n",
      "100%|██████████████████████████████████████████████████████████████████████████████████████████████████████████████████████████████████████████| 88/88 [00:00<00:00, 1267.46it/s]\u001b[A\n",
      " 79%|███████████████████████████████████████████████████████████████████████████████████████████████████████████▌                            | 163/206 [1:48:39<22:00, 30.70s/it]"
     ]
    },
    {
     "name": "stdout",
     "output_type": "stream",
     "text": [
      "n_slice 730\n"
     ]
    },
    {
     "name": "stderr",
     "output_type": "stream",
     "text": [
      "\n",
      "  0%|                                                                                                                                                    | 0/730 [00:00<?, ?it/s]\u001b[A\n",
      " 24%|████████████████████████████████▉                                                                                                       | 177/730 [00:00<00:00, 1769.05it/s]\u001b[A\n",
      " 48%|█████████████████████████████████████████████████████████████████▉                                                                      | 354/730 [00:00<00:00, 1738.80it/s]\u001b[A\n",
      " 72%|██████████████████████████████████████████████████████████████████████████████████████████████████▌                                     | 529/730 [00:00<00:00, 1741.04it/s]\u001b[A\n",
      "100%|████████████████████████████████████████████████████████████████████████████████████████████████████████████████████████████████████████| 730/730 [00:00<00:00, 1737.69it/s]\u001b[A\n",
      " 80%|████████████████████████████████████████████████████████████████████████████████████████████████████████████▎                           | 164/206 [1:50:06<33:18, 47.59s/it]"
     ]
    },
    {
     "name": "stdout",
     "output_type": "stream",
     "text": [
      "n_slice 62\n"
     ]
    },
    {
     "name": "stderr",
     "output_type": "stream",
     "text": [
      "\n",
      "  0%|                                                                                                                                                     | 0/62 [00:00<?, ?it/s]\u001b[A\n",
      "100%|███████████████████████████████████████████████████████████████████████████████████████████████████████████████████████████████████████████| 62/62 [00:00<00:00, 537.57it/s]\u001b[A\n",
      " 80%|████████████████████████████████████████████████████████████████████████████████████████████████████████████▉                           | 165/206 [1:50:13<24:15, 35.51s/it]"
     ]
    },
    {
     "name": "stdout",
     "output_type": "stream",
     "text": [
      "n_slice 296\n"
     ]
    },
    {
     "name": "stderr",
     "output_type": "stream",
     "text": [
      "\n",
      "  0%|                                                                                                                                                    | 0/296 [00:00<?, ?it/s]\u001b[A\n",
      "100%|████████████████████████████████████████████████████████████████████████████████████████████████████████████████████████████████████████| 296/296 [00:00<00:00, 1860.77it/s]\u001b[A\n",
      " 81%|█████████████████████████████████████████████████████████████████████████████████████████████████████████████▌                          | 166/206 [1:50:49<23:49, 35.74s/it]"
     ]
    },
    {
     "name": "stdout",
     "output_type": "stream",
     "text": [
      "n_slice 696\n"
     ]
    },
    {
     "name": "stderr",
     "output_type": "stream",
     "text": [
      "\n",
      "  0%|                                                                                                                                                    | 0/696 [00:00<?, ?it/s]\u001b[A\n",
      " 22%|█████████████████████████████▌                                                                                                          | 151/696 [00:00<00:00, 1505.24it/s]\u001b[A\n",
      " 47%|███████████████████████████████████████████████████████████████▎                                                                        | 324/696 [00:00<00:00, 1631.78it/s]\u001b[A\n",
      " 72%|█████████████████████████████████████████████████████████████████████████████████████████████████▉                                      | 501/696 [00:00<00:00, 1694.24it/s]\u001b[A\n",
      "100%|████████████████████████████████████████████████████████████████████████████████████████████████████████████████████████████████████████| 696/696 [00:00<00:00, 1703.85it/s]\u001b[A\n",
      " 81%|██████████████████████████████████████████████████████████████████████████████████████████████████████████████▎                         | 167/206 [1:51:33<24:44, 38.06s/it]"
     ]
    },
    {
     "name": "stdout",
     "output_type": "stream",
     "text": [
      "n_slice 861\n"
     ]
    },
    {
     "name": "stderr",
     "output_type": "stream",
     "text": [
      "\n",
      "  0%|                                                                                                                                                    | 0/861 [00:00<?, ?it/s]\u001b[A\n",
      "  0%|▏                                                                                                                                           | 1/861 [00:00<01:28,  9.77it/s]\u001b[A\n",
      " 21%|████████████████████████████                                                                                                            | 178/861 [00:00<00:00, 1034.82it/s]\u001b[A\n",
      " 41%|███████████████████████████████████████████████████████▊                                                                                | 353/861 [00:00<00:00, 1356.87it/s]\u001b[A\n",
      " 61%|███████████████████████████████████████████████████████████████████████████████████▌                                                    | 529/861 [00:00<00:00, 1512.53it/s]\u001b[A\n",
      "100%|████████████████████████████████████████████████████████████████████████████████████████████████████████████████████████████████████████| 861/861 [00:00<00:00, 1469.07it/s]\u001b[A\n",
      " 82%|██████████████████████████████████████████████████████████████████████████████████████████████████████████████▉                         | 168/206 [1:53:14<36:10, 57.13s/it]"
     ]
    },
    {
     "name": "stdout",
     "output_type": "stream",
     "text": [
      "n_slice 252\n"
     ]
    },
    {
     "name": "stderr",
     "output_type": "stream",
     "text": [
      "\n",
      "  0%|                                                                                                                                                    | 0/252 [00:00<?, ?it/s]\u001b[A\n",
      "  1%|█▋                                                                                                                                          | 3/252 [00:00<00:08, 29.82it/s]\u001b[A\n",
      "100%|████████████████████████████████████████████████████████████████████████████████████████████████████████████████████████████████████████| 252/252 [00:00<00:00, 1034.08it/s]\u001b[A\n",
      " 82%|███████████████████████████████████████████████████████████████████████████████████████████████████████████████▌                        | 169/206 [1:53:46<30:29, 49.45s/it]"
     ]
    },
    {
     "name": "stdout",
     "output_type": "stream",
     "text": [
      "n_slice 59\n"
     ]
    },
    {
     "name": "stderr",
     "output_type": "stream",
     "text": [
      "\n",
      "100%|███████████████████████████████████████████████████████████████████████████████████████████████████████████████████████████████████████████| 59/59 [00:00<00:00, 977.36it/s]\u001b[A\n",
      " 83%|████████████████████████████████████████████████████████████████████████████████████████████████████████████████▏                       | 170/206 [1:53:53<21:57, 36.61s/it]"
     ]
    },
    {
     "name": "stdout",
     "output_type": "stream",
     "text": [
      "n_slice 205\n"
     ]
    },
    {
     "name": "stderr",
     "output_type": "stream",
     "text": [
      "\n",
      "  0%|                                                                                                                                                    | 0/205 [00:00<?, ?it/s]\u001b[A\n",
      "100%|████████████████████████████████████████████████████████████████████████████████████████████████████████████████████████████████████████| 205/205 [00:00<00:00, 1823.74it/s]\u001b[A\n",
      " 83%|████████████████████████████████████████████████████████████████████████████████████████████████████████████████▉                       | 171/206 [1:54:16<19:03, 32.66s/it]"
     ]
    },
    {
     "name": "stdout",
     "output_type": "stream",
     "text": [
      "n_slice 364\n"
     ]
    },
    {
     "name": "stderr",
     "output_type": "stream",
     "text": [
      "\n",
      "  0%|                                                                                                                                                    | 0/364 [00:00<?, ?it/s]\u001b[A\n",
      "100%|████████████████████████████████████████████████████████████████████████████████████████████████████████████████████████████████████████| 364/364 [00:00<00:00, 1974.84it/s]\u001b[A\n",
      " 83%|█████████████████████████████████████████████████████████████████████████████████████████████████████████████████▌                      | 172/206 [1:54:59<20:15, 35.74s/it]"
     ]
    },
    {
     "name": "stdout",
     "output_type": "stream",
     "text": [
      "n_slice 222\n"
     ]
    },
    {
     "name": "stderr",
     "output_type": "stream",
     "text": [
      "\n",
      "  0%|                                                                                                                                                    | 0/222 [00:00<?, ?it/s]\u001b[A\n",
      "100%|████████████████████████████████████████████████████████████████████████████████████████████████████████████████████████████████████████| 222/222 [00:00<00:00, 1482.10it/s]\u001b[A\n",
      " 84%|██████████████████████████████████████████████████████████████████████████████████████████████████████████████████▏                     | 173/206 [1:55:25<17:59, 32.70s/it]"
     ]
    },
    {
     "name": "stdout",
     "output_type": "stream",
     "text": [
      "n_slice 245\n"
     ]
    },
    {
     "name": "stderr",
     "output_type": "stream",
     "text": [
      "\n",
      "  0%|                                                                                                                                                    | 0/245 [00:00<?, ?it/s]\u001b[A\n",
      "100%|████████████████████████████████████████████████████████████████████████████████████████████████████████████████████████████████████████| 245/245 [00:00<00:00, 1858.36it/s]\u001b[A\n",
      " 84%|██████████████████████████████████████████████████████████████████████████████████████████████████████████████████▊                     | 174/206 [1:55:53<16:43, 31.37s/it]"
     ]
    },
    {
     "name": "stdout",
     "output_type": "stream",
     "text": [
      "n_slice 583\n"
     ]
    },
    {
     "name": "stderr",
     "output_type": "stream",
     "text": [
      "\n",
      "  0%|                                                                                                                                                    | 0/583 [00:00<?, ?it/s]\u001b[A\n",
      " 24%|████████████████████████████████▉                                                                                                       | 141/583 [00:00<00:00, 1405.60it/s]\u001b[A\n",
      " 56%|████████████████████████████████████████████████████████████████████████████▎                                                           | 327/583 [00:00<00:00, 1671.67it/s]\u001b[A\n",
      "100%|████████████████████████████████████████████████████████████████████████████████████████████████████████████████████████████████████████| 583/583 [00:00<00:00, 1746.88it/s]\u001b[A\n",
      " 85%|███████████████████████████████████████████████████████████████████████████████████████████████████████████████████▌                    | 175/206 [1:57:07<22:49, 44.17s/it]"
     ]
    },
    {
     "name": "stdout",
     "output_type": "stream",
     "text": [
      "n_slice 71\n"
     ]
    },
    {
     "name": "stderr",
     "output_type": "stream",
     "text": [
      "\n",
      "  0%|                                                                                                                                                     | 0/71 [00:00<?, ?it/s]\u001b[A\n",
      "100%|███████████████████████████████████████████████████████████████████████████████████████████████████████████████████████████████████████████| 71/71 [00:00<00:00, 585.52it/s]\u001b[A\n",
      " 85%|████████████████████████████████████████████████████████████████████████████████████████████████████████████████████▏                   | 176/206 [1:57:16<16:47, 33.57s/it]"
     ]
    },
    {
     "name": "stdout",
     "output_type": "stream",
     "text": [
      "n_slice 184\n"
     ]
    },
    {
     "name": "stderr",
     "output_type": "stream",
     "text": [
      "\n",
      "100%|████████████████████████████████████████████████████████████████████████████████████████████████████████████████████████████████████████| 184/184 [00:00<00:00, 2083.34it/s]\u001b[A\n",
      " 86%|████████████████████████████████████████████████████████████████████████████████████████████████████████████████████▊                   | 177/206 [1:57:38<14:37, 30.28s/it]"
     ]
    },
    {
     "name": "stdout",
     "output_type": "stream",
     "text": [
      "n_slice 94\n"
     ]
    },
    {
     "name": "stderr",
     "output_type": "stream",
     "text": [
      "\n",
      "100%|██████████████████████████████████████████████████████████████████████████████████████████████████████████████████████████████████████████| 94/94 [00:00<00:00, 1619.12it/s]\u001b[A\n",
      " 86%|█████████████████████████████████████████████████████████████████████████████████████████████████████████████████████▌                  | 178/206 [1:57:50<11:28, 24.60s/it]"
     ]
    },
    {
     "name": "stdout",
     "output_type": "stream",
     "text": [
      "n_slice 213\n"
     ]
    },
    {
     "name": "stderr",
     "output_type": "stream",
     "text": [
      "\n",
      "  0%|                                                                                                                                                    | 0/213 [00:00<?, ?it/s]\u001b[A\n",
      "100%|████████████████████████████████████████████████████████████████████████████████████████████████████████████████████████████████████████| 213/213 [00:00<00:00, 1741.89it/s]\u001b[A\n",
      " 87%|██████████████████████████████████████████████████████████████████████████████████████████████████████████████████████▏                 | 179/206 [1:58:16<11:15, 25.00s/it]"
     ]
    },
    {
     "name": "stdout",
     "output_type": "stream",
     "text": [
      "n_slice 319\n"
     ]
    },
    {
     "name": "stderr",
     "output_type": "stream",
     "text": [
      "\n",
      "  0%|                                                                                                                                                    | 0/319 [00:00<?, ?it/s]\u001b[A\n",
      "100%|████████████████████████████████████████████████████████████████████████████████████████████████████████████████████████████████████████| 319/319 [00:00<00:00, 1681.09it/s]\u001b[A\n",
      " 87%|██████████████████████████████████████████████████████████████████████████████████████████████████████████████████████▊                 | 180/206 [1:58:55<12:42, 29.33s/it]"
     ]
    },
    {
     "name": "stdout",
     "output_type": "stream",
     "text": [
      "n_slice 491\n"
     ]
    },
    {
     "name": "stderr",
     "output_type": "stream",
     "text": [
      "\n",
      "  0%|                                                                                                                                                    | 0/491 [00:00<?, ?it/s]\u001b[A\n",
      " 23%|███████████████████████████████▊                                                                                                        | 115/491 [00:00<00:00, 1146.73it/s]\u001b[A\n",
      " 59%|████████████████████████████████████████████████████████████████████████████████▉                                                       | 292/491 [00:00<00:00, 1512.09it/s]\u001b[A\n",
      "100%|████████████████████████████████████████████████████████████████████████████████████████████████████████████████████████████████████████| 491/491 [00:00<00:00, 1590.58it/s]\u001b[A\n",
      " 88%|███████████████████████████████████████████████████████████████████████████████████████████████████████████████████████▍                | 181/206 [1:59:55<16:01, 38.45s/it]"
     ]
    },
    {
     "name": "stdout",
     "output_type": "stream",
     "text": [
      "n_slice 703\n"
     ]
    },
    {
     "name": "stderr",
     "output_type": "stream",
     "text": [
      "\n",
      "  0%|                                                                                                                                                    | 0/703 [00:00<?, ?it/s]\u001b[A\n",
      "  8%|███████████▌                                                                                                                              | 59/703 [00:00<00:01, 589.21it/s]\u001b[A\n",
      " 32%|███████████████████████████████████████████▋                                                                                            | 226/703 [00:00<00:00, 1220.36it/s]\u001b[A\n",
      " 57%|█████████████████████████████████████████████████████████████████████████████▊                                                          | 402/703 [00:00<00:00, 1462.27it/s]\u001b[A\n",
      "100%|████████████████████████████████████████████████████████████████████████████████████████████████████████████████████████████████████████| 703/703 [00:00<00:00, 1515.05it/s]\u001b[A\n",
      " 88%|████████████████████████████████████████████████████████████████████████████████████████████████████████████████████████▏               | 182/206 [2:01:19<20:50, 52.12s/it]"
     ]
    },
    {
     "name": "stdout",
     "output_type": "stream",
     "text": [
      "n_slice 663\n"
     ]
    },
    {
     "name": "stderr",
     "output_type": "stream",
     "text": [
      "\n",
      "  0%|                                                                                                                                                    | 0/663 [00:00<?, ?it/s]\u001b[A\n",
      "  0%|▏                                                                                                                                           | 1/663 [00:00<01:11,  9.23it/s]\u001b[A\n",
      " 28%|█████████████████████████████████████▌                                                                                                  | 183/663 [00:00<00:00, 1037.15it/s]\u001b[A\n",
      " 55%|██████████████████████████████████████████████████████████████████████████▎                                                             | 362/663 [00:00<00:00, 1372.91it/s]\u001b[A\n",
      "100%|████████████████████████████████████████████████████████████████████████████████████████████████████████████████████████████████████████| 663/663 [00:00<00:00, 1380.98it/s]\u001b[A\n",
      " 89%|████████████████████████████████████████████████████████████████████████████████████████████████████████████████████████▊               | 183/206 [2:02:39<23:10, 60.45s/it]"
     ]
    },
    {
     "name": "stdout",
     "output_type": "stream",
     "text": [
      "n_slice 1044\n"
     ]
    },
    {
     "name": "stderr",
     "output_type": "stream",
     "text": [
      "\n",
      "  0%|                                                                                                                                                   | 0/1044 [00:00<?, ?it/s]\u001b[A\n",
      "  1%|█▍                                                                                                                                       | 11/1044 [00:00<00:09, 109.41it/s]\u001b[A\n",
      " 19%|█████████████████████████▍                                                                                                             | 197/1044 [00:00<00:00, 1133.45it/s]\u001b[A\n",
      " 35%|██████████████████████████████████████████████▊                                                                                        | 362/1044 [00:00<00:00, 1366.46it/s]\u001b[A\n",
      " 51%|█████████████████████████████████████████████████████████████████████                                                                  | 534/1044 [00:00<00:00, 1504.66it/s]\u001b[A\n",
      " 69%|████████████████████████████████████████████████████████████████████████████████████████████▌                                          | 716/1044 [00:00<00:00, 1616.38it/s]\u001b[A\n",
      "100%|██████████████████████████████████████████████████████████████████████████████████████████████████████████████████████████████████████| 1044/1044 [00:00<00:00, 1528.04it/s]\u001b[A\n",
      " 89%|█████████████████████████████████████████████████████████████████████████████████████████████████████████████████████████▍              | 184/206 [2:04:40<28:53, 78.79s/it]"
     ]
    },
    {
     "name": "stdout",
     "output_type": "stream",
     "text": [
      "n_slice 243\n"
     ]
    },
    {
     "name": "stderr",
     "output_type": "stream",
     "text": [
      "\n",
      "  0%|                                                                                                                                                    | 0/243 [00:00<?, ?it/s]\u001b[A\n",
      "  0%|▌                                                                                                                                           | 1/243 [00:00<00:40,  6.00it/s]\u001b[A\n",
      "100%|█████████████████████████████████████████████████████████████████████████████████████████████████████████████████████████████████████████| 243/243 [00:00<00:00, 860.42it/s]\u001b[A\n",
      " 90%|██████████████████████████████████████████████████████████████████████████████████████████████████████████████████████████▏             | 185/206 [2:05:10<22:27, 64.15s/it]"
     ]
    },
    {
     "name": "stdout",
     "output_type": "stream",
     "text": [
      "n_slice 324\n"
     ]
    },
    {
     "name": "stderr",
     "output_type": "stream",
     "text": [
      "\n",
      "  0%|                                                                                                                                                    | 0/324 [00:00<?, ?it/s]\u001b[A\n",
      "100%|████████████████████████████████████████████████████████████████████████████████████████████████████████████████████████████████████████| 324/324 [00:00<00:00, 1932.35it/s]\u001b[A\n",
      " 90%|██████████████████████████████████████████████████████████████████████████████████████████████████████████████████████████▊             | 186/206 [2:05:48<18:43, 56.19s/it]"
     ]
    },
    {
     "name": "stdout",
     "output_type": "stream",
     "text": [
      "n_slice 230\n"
     ]
    },
    {
     "name": "stderr",
     "output_type": "stream",
     "text": [
      "\n",
      "  0%|                                                                                                                                                    | 0/230 [00:00<?, ?it/s]\u001b[A\n",
      "100%|████████████████████████████████████████████████████████████████████████████████████████████████████████████████████████████████████████| 230/230 [00:00<00:00, 1736.07it/s]\u001b[A\n",
      " 91%|███████████████████████████████████████████████████████████████████████████████████████████████████████████████████████████▍            | 187/206 [2:06:16<15:06, 47.72s/it]"
     ]
    },
    {
     "name": "stdout",
     "output_type": "stream",
     "text": [
      "n_slice 306\n"
     ]
    },
    {
     "name": "stderr",
     "output_type": "stream",
     "text": [
      "\n",
      "  0%|                                                                                                                                                    | 0/306 [00:00<?, ?it/s]\u001b[A\n",
      "100%|████████████████████████████████████████████████████████████████████████████████████████████████████████████████████████████████████████| 306/306 [00:00<00:00, 1958.88it/s]\u001b[A\n",
      " 91%|████████████████████████████████████████████████████████████████████████████████████████████████████████████████████████████            | 188/206 [2:06:54<13:25, 44.75s/it]"
     ]
    },
    {
     "name": "stdout",
     "output_type": "stream",
     "text": [
      "n_slice 186\n"
     ]
    },
    {
     "name": "stderr",
     "output_type": "stream",
     "text": [
      "\n",
      "  0%|                                                                                                                                                    | 0/186 [00:00<?, ?it/s]\u001b[A\n",
      "100%|████████████████████████████████████████████████████████████████████████████████████████████████████████████████████████████████████████| 186/186 [00:00<00:00, 1432.83it/s]\u001b[A\n",
      " 92%|████████████████████████████████████████████████████████████████████████████████████████████████████████████████████████████▊           | 189/206 [2:07:05<09:49, 34.66s/it]"
     ]
    },
    {
     "name": "stdout",
     "output_type": "stream",
     "text": [
      "n_slice 229\n"
     ]
    },
    {
     "name": "stderr",
     "output_type": "stream",
     "text": [
      "\n",
      "  0%|                                                                                                                                                    | 0/229 [00:00<?, ?it/s]\u001b[A\n",
      "100%|████████████████████████████████████████████████████████████████████████████████████████████████████████████████████████████████████████| 229/229 [00:00<00:00, 1858.84it/s]\u001b[A\n",
      " 92%|█████████████████████████████████████████████████████████████████████████████████████████████████████████████████████████████▍          | 190/206 [2:07:33<08:44, 32.79s/it]"
     ]
    },
    {
     "name": "stdout",
     "output_type": "stream",
     "text": [
      "n_slice 190\n"
     ]
    },
    {
     "name": "stderr",
     "output_type": "stream",
     "text": [
      "\n",
      "  0%|                                                                                                                                                    | 0/190 [00:00<?, ?it/s]\u001b[A\n",
      "100%|████████████████████████████████████████████████████████████████████████████████████████████████████████████████████████████████████████| 190/190 [00:00<00:00, 1704.09it/s]\u001b[A\n",
      " 93%|██████████████████████████████████████████████████████████████████████████████████████████████████████████████████████████████          | 191/206 [2:07:56<07:27, 29.87s/it]"
     ]
    },
    {
     "name": "stdout",
     "output_type": "stream",
     "text": [
      "n_slice 184\n"
     ]
    },
    {
     "name": "stderr",
     "output_type": "stream",
     "text": [
      "\n",
      "  0%|                                                                                                                                                    | 0/184 [00:00<?, ?it/s]\u001b[A\n",
      "100%|████████████████████████████████████████████████████████████████████████████████████████████████████████████████████████████████████████| 184/184 [00:00<00:00, 1764.61it/s]\u001b[A\n",
      " 93%|██████████████████████████████████████████████████████████████████████████████████████████████████████████████████████████████▊         | 192/206 [2:08:18<06:23, 27.36s/it]"
     ]
    },
    {
     "name": "stdout",
     "output_type": "stream",
     "text": [
      "n_slice 53\n"
     ]
    },
    {
     "name": "stderr",
     "output_type": "stream",
     "text": [
      "\n",
      "100%|██████████████████████████████████████████████████████████████████████████████████████████████████████████████████████████████████████████| 53/53 [00:00<00:00, 1351.44it/s]\u001b[A\n",
      " 94%|███████████████████████████████████████████████████████████████████████████████████████████████████████████████████████████████▍        | 193/206 [2:08:24<04:32, 20.94s/it]"
     ]
    },
    {
     "name": "stdout",
     "output_type": "stream",
     "text": [
      "n_slice 84\n"
     ]
    },
    {
     "name": "stderr",
     "output_type": "stream",
     "text": [
      "\n",
      "100%|██████████████████████████████████████████████████████████████████████████████████████████████████████████████████████████████████████████| 84/84 [00:00<00:00, 2060.26it/s]\u001b[A\n",
      " 94%|████████████████████████████████████████████████████████████████████████████████████████████████████████████████████████████████        | 194/206 [2:08:34<03:33, 17.77s/it]"
     ]
    },
    {
     "name": "stdout",
     "output_type": "stream",
     "text": [
      "n_slice 835\n"
     ]
    },
    {
     "name": "stderr",
     "output_type": "stream",
     "text": [
      "\n",
      "  0%|                                                                                                                                                    | 0/835 [00:00<?, ?it/s]\u001b[A\n",
      " 21%|████████████████████████████▌                                                                                                           | 175/835 [00:00<00:00, 1745.88it/s]\u001b[A\n",
      " 42%|█████████████████████████████████████████████████████████                                                                               | 350/835 [00:00<00:00, 1698.43it/s]\u001b[A\n",
      " 63%|█████████████████████████████████████████████████████████████████████████████████████▉                                                  | 528/835 [00:00<00:00, 1732.87it/s]\u001b[A\n",
      "100%|████████████████████████████████████████████████████████████████████████████████████████████████████████████████████████████████████████| 835/835 [00:00<00:00, 1767.35it/s]\u001b[A\n",
      " 95%|████████████████████████████████████████████████████████████████████████████████████████████████████████████████████████████████▋       | 195/206 [2:10:10<07:34, 41.28s/it]"
     ]
    },
    {
     "name": "stdout",
     "output_type": "stream",
     "text": [
      "n_slice 176\n"
     ]
    },
    {
     "name": "stderr",
     "output_type": "stream",
     "text": [
      "\n",
      "  0%|                                                                                                                                                    | 0/176 [00:00<?, ?it/s]\u001b[A\n",
      "100%|█████████████████████████████████████████████████████████████████████████████████████████████████████████████████████████████████████████| 176/176 [00:00<00:00, 840.40it/s]\u001b[A\n",
      " 95%|█████████████████████████████████████████████████████████████████████████████████████████████████████████████████████████████████▍      | 196/206 [2:10:31<05:50, 35.04s/it]"
     ]
    },
    {
     "name": "stdout",
     "output_type": "stream",
     "text": [
      "n_slice 197\n"
     ]
    },
    {
     "name": "stderr",
     "output_type": "stream",
     "text": [
      "\n",
      "  0%|                                                                                                                                                    | 0/197 [00:00<?, ?it/s]\u001b[A\n",
      "100%|████████████████████████████████████████████████████████████████████████████████████████████████████████████████████████████████████████| 197/197 [00:00<00:00, 1675.36it/s]\u001b[A\n",
      " 96%|██████████████████████████████████████████████████████████████████████████████████████████████████████████████████████████████████      | 197/206 [2:10:55<04:46, 31.87s/it]"
     ]
    },
    {
     "name": "stdout",
     "output_type": "stream",
     "text": [
      "n_slice 690\n"
     ]
    },
    {
     "name": "stderr",
     "output_type": "stream",
     "text": [
      "\n",
      "  0%|                                                                                                                                                    | 0/690 [00:00<?, ?it/s]\u001b[A\n",
      " 26%|███████████████████████████████████▍                                                                                                    | 180/690 [00:00<00:00, 1791.50it/s]\u001b[A\n",
      " 55%|██████████████████████████████████████████████████████████████████████████▋                                                             | 379/690 [00:00<00:00, 1904.03it/s]\u001b[A\n",
      "100%|████████████████████████████████████████████████████████████████████████████████████████████████████████████████████████████████████████| 690/690 [00:00<00:00, 1916.31it/s]\u001b[A\n",
      " 96%|██████████████████████████████████████████████████████████████████████████████████████████████████████████████████████████████████▋     | 198/206 [2:12:14<06:08, 46.07s/it]"
     ]
    },
    {
     "name": "stdout",
     "output_type": "stream",
     "text": [
      "n_slice 196\n"
     ]
    },
    {
     "name": "stderr",
     "output_type": "stream",
     "text": [
      "\n",
      "  0%|                                                                                                                                                    | 0/196 [00:00<?, ?it/s]\u001b[A\n",
      "100%|████████████████████████████████████████████████████████████████████████████████████████████████████████████████████████████████████████| 196/196 [00:00<00:00, 1051.62it/s]\u001b[A\n",
      " 97%|███████████████████████████████████████████████████████████████████████████████████████████████████████████████████████████████████▍    | 199/206 [2:12:26<04:10, 35.72s/it]"
     ]
    },
    {
     "name": "stdout",
     "output_type": "stream",
     "text": [
      "n_slice 251\n"
     ]
    },
    {
     "name": "stderr",
     "output_type": "stream",
     "text": [
      "\n",
      "  0%|                                                                                                                                                    | 0/251 [00:00<?, ?it/s]\u001b[A\n",
      "100%|████████████████████████████████████████████████████████████████████████████████████████████████████████████████████████████████████████| 251/251 [00:00<00:00, 1895.51it/s]\u001b[A\n",
      " 97%|████████████████████████████████████████████████████████████████████████████████████████████████████████████████████████████████████    | 200/206 [2:12:59<03:29, 34.94s/it]"
     ]
    },
    {
     "name": "stdout",
     "output_type": "stream",
     "text": [
      "n_slice 293\n"
     ]
    },
    {
     "name": "stderr",
     "output_type": "stream",
     "text": [
      "\n",
      "  0%|                                                                                                                                                    | 0/293 [00:00<?, ?it/s]\u001b[A\n",
      "100%|████████████████████████████████████████████████████████████████████████████████████████████████████████████████████████████████████████| 293/293 [00:00<00:00, 1827.61it/s]\u001b[A\n",
      " 98%|████████████████████████████████████████████████████████████████████████████████████████████████████████████████████████████████████▋   | 201/206 [2:13:37<02:58, 35.71s/it]"
     ]
    },
    {
     "name": "stdout",
     "output_type": "stream",
     "text": [
      "n_slice 412\n"
     ]
    },
    {
     "name": "stderr",
     "output_type": "stream",
     "text": [
      "\n",
      "  0%|                                                                                                                                                    | 0/412 [00:00<?, ?it/s]\u001b[A\n",
      " 34%|██████████████████████████████████████████████▊                                                                                         | 142/412 [00:00<00:00, 1416.05it/s]\u001b[A\n",
      "100%|████████████████████████████████████████████████████████████████████████████████████████████████████████████████████████████████████████| 412/412 [00:00<00:00, 1741.06it/s]\u001b[A\n",
      " 98%|█████████████████████████████████████████████████████████████████████████████████████████████████████████████████████████████████████▎  | 202/206 [2:14:26<02:39, 39.94s/it]"
     ]
    },
    {
     "name": "stdout",
     "output_type": "stream",
     "text": [
      "n_slice 631\n"
     ]
    },
    {
     "name": "stderr",
     "output_type": "stream",
     "text": [
      "\n",
      "  0%|                                                                                                                                                    | 0/631 [00:00<?, ?it/s]\u001b[A\n",
      " 15%|████████████████████                                                                                                                      | 92/631 [00:00<00:00, 915.68it/s]\u001b[A\n",
      " 42%|████████████████████████████████████████████████████████▋                                                                               | 263/631 [00:00<00:00, 1378.12it/s]\u001b[A\n",
      " 70%|██████████████████████████████████████████████████████████████████████████████████████████████▊                                         | 440/631 [00:00<00:00, 1553.47it/s]\u001b[A\n",
      "100%|████████████████████████████████████████████████████████████████████████████████████████████████████████████████████████████████████████| 631/631 [00:00<00:00, 1534.09it/s]\u001b[A\n",
      " 99%|██████████████████████████████████████████████████████████████████████████████████████████████████████████████████████████████████████  | 203/206 [2:15:42<02:31, 50.62s/it]"
     ]
    },
    {
     "name": "stdout",
     "output_type": "stream",
     "text": [
      "n_slice 850\n"
     ]
    },
    {
     "name": "stderr",
     "output_type": "stream",
     "text": [
      "\n",
      "  0%|                                                                                                                                                    | 0/850 [00:00<?, ?it/s]\u001b[A\n",
      "  1%|█▎                                                                                                                                          | 8/850 [00:00<00:10, 79.72it/s]\u001b[A\n",
      " 23%|███████████████████████████████▋                                                                                                        | 198/850 [00:00<00:00, 1145.72it/s]\u001b[A\n",
      " 44%|████████████████████████████████████████████████████████████                                                                            | 375/850 [00:00<00:00, 1428.30it/s]\u001b[A\n",
      " 67%|███████████████████████████████████████████████████████████████████████████████████████████▎                                            | 571/850 [00:00<00:00, 1634.84it/s]\u001b[A\n",
      "100%|████████████████████████████████████████████████████████████████████████████████████████████████████████████████████████████████████████| 850/850 [00:00<00:00, 1570.08it/s]\u001b[A\n",
      " 99%|██████████████████████████████████████████████████████████████████████████████████████████████████████████████████████████████████████▋ | 204/206 [2:16:35<01:42, 51.29s/it]"
     ]
    },
    {
     "name": "stdout",
     "output_type": "stream",
     "text": [
      "n_slice 252\n"
     ]
    },
    {
     "name": "stderr",
     "output_type": "stream",
     "text": [
      "\n",
      "  0%|                                                                                                                                                    | 0/252 [00:00<?, ?it/s]\u001b[A\n",
      "  0%|▌                                                                                                                                           | 1/252 [00:00<00:29,  8.43it/s]\u001b[A\n",
      "100%|█████████████████████████████████████████████████████████████████████████████████████████████████████████████████████████████████████████| 252/252 [00:00<00:00, 839.03it/s]\u001b[A\n",
      "100%|███████████████████████████████████████████████████████████████████████████████████████████████████████████████████████████████████████▎| 205/206 [2:17:19<00:49, 49.06s/it]"
     ]
    },
    {
     "name": "stdout",
     "output_type": "stream",
     "text": [
      "n_slice 788\n"
     ]
    },
    {
     "name": "stderr",
     "output_type": "stream",
     "text": [
      "\n",
      "  0%|                                                                                                                                                    | 0/788 [00:00<?, ?it/s]\u001b[A\n",
      " 17%|███████████████████████▎                                                                                                                | 135/788 [00:00<00:00, 1347.67it/s]\u001b[A\n",
      " 44%|███████████████████████████████████████████████████████████▋                                                                            | 346/788 [00:00<00:00, 1790.87it/s]\u001b[A\n",
      " 69%|██████████████████████████████████████████████████████████████████████████████████████████████                                          | 545/788 [00:00<00:00, 1880.27it/s]\u001b[A\n",
      "100%|████████████████████████████████████████████████████████████████████████████████████████████████████████████████████████████████████████| 788/788 [00:00<00:00, 1819.77it/s]\u001b[A\n",
      "100%|████████████████████████████████████████████████████████████████████████████████████████████████████████████████████████████████████████| 206/206 [2:17:22<00:00, 40.01s/it]\n"
     ]
    },
    {
     "data": {
      "text/html": [
       "<div>\n",
       "<style scoped>\n",
       "    .dataframe tbody tr th:only-of-type {\n",
       "        vertical-align: middle;\n",
       "    }\n",
       "\n",
       "    .dataframe tbody tr th {\n",
       "        vertical-align: top;\n",
       "    }\n",
       "\n",
       "    .dataframe thead th {\n",
       "        text-align: right;\n",
       "    }\n",
       "</style>\n",
       "<table border=\"1\" class=\"dataframe\">\n",
       "  <thead>\n",
       "    <tr style=\"text-align: right;\">\n",
       "      <th></th>\n",
       "      <th>nii_file</th>\n",
       "      <th>non-seg-idx</th>\n",
       "    </tr>\n",
       "  </thead>\n",
       "  <tbody>\n",
       "    <tr>\n",
       "      <th>0</th>\n",
       "      <td>6575.nii</td>\n",
       "      <td>[0, 1, 2, 3, 4, 5, 6, 7, 8, 9, 10, 11, 12, 13,...</td>\n",
       "    </tr>\n",
       "    <tr>\n",
       "      <th>1</th>\n",
       "      <td>62556.nii</td>\n",
       "      <td>[0, 1, 2, 3, 4, 5, 6, 7, 8, 9, 10, 11, 12, 13,...</td>\n",
       "    </tr>\n",
       "    <tr>\n",
       "      <th>2</th>\n",
       "      <td>60755.nii</td>\n",
       "      <td>[0, 1, 2, 3, 4, 5, 6, 7, 8, 9, 10, 11, 12, 13,...</td>\n",
       "    </tr>\n",
       "    <tr>\n",
       "      <th>3</th>\n",
       "      <td>60302.nii</td>\n",
       "      <td>[0, 1, 2, 3, 4, 5, 6, 7, 8, 9, 10, 11, 12, 13,...</td>\n",
       "    </tr>\n",
       "    <tr>\n",
       "      <th>4</th>\n",
       "      <td>31852.nii</td>\n",
       "      <td>[0, 1, 2, 3, 4, 5, 6, 7, 8, 9, 10, 11, 12, 13,...</td>\n",
       "    </tr>\n",
       "  </tbody>\n",
       "</table>\n",
       "</div>"
      ],
      "text/plain": [
       "    nii_file                                        non-seg-idx\n",
       "0   6575.nii  [0, 1, 2, 3, 4, 5, 6, 7, 8, 9, 10, 11, 12, 13,...\n",
       "1  62556.nii  [0, 1, 2, 3, 4, 5, 6, 7, 8, 9, 10, 11, 12, 13,...\n",
       "2  60755.nii  [0, 1, 2, 3, 4, 5, 6, 7, 8, 9, 10, 11, 12, 13,...\n",
       "3  60302.nii  [0, 1, 2, 3, 4, 5, 6, 7, 8, 9, 10, 11, 12, 13,...\n",
       "4  31852.nii  [0, 1, 2, 3, 4, 5, 6, 7, 8, 9, 10, 11, 12, 13,..."
      ]
     },
     "execution_count": 46,
     "metadata": {},
     "output_type": "execute_result"
    }
   ],
   "source": [
    "import torch\n",
    "seg_folder = 'data/segmentations'\n",
    "all = []\n",
    "for nii_file in tqdm(os.listdir(seg_folder)):\n",
    "    nii_path = os.path.join(seg_folder, nii_file)\n",
    "    mask = nib.load(nii_path)\n",
    "    mask = mask.get_fdata()\n",
    "    n_slice = mask.shape[2]\n",
    "    print('n_slice', n_slice)\n",
    "    zdx_list = []\n",
    "    for zdx in tqdm(range(n_slice)):\n",
    "        tensor = mask[:, :, zdx]\n",
    "        zeros_tensor = np.zeros_like(tensor)\n",
    "        is_equal = np.equal(tensor, zeros_tensor)\n",
    "        if is_equal.all():\n",
    "            zdx_list.append(zdx)\n",
    "    all.append([nii_file, zdx_list])\n",
    "zdx_df = pd.DataFrame(all, columns=['nii_file', 'non-seg-idx'])\n",
    "zdx_df.head()\n",
    "    "
   ]
  },
  {
   "cell_type": "code",
   "execution_count": 47,
   "id": "6eed4017-da71-4dba-80a4-4da18a88004d",
   "metadata": {},
   "outputs": [],
   "source": [
    "zdx_df.to_csv('data/non-seg-idx.csv', index=False)"
   ]
  },
  {
   "cell_type": "code",
   "execution_count": 48,
   "id": "cc2d2966-54e9-42f2-b41b-bb06dcc2cf64",
   "metadata": {},
   "outputs": [],
   "source": [
    "import sys\n",
    "np.set_printoptions(threshold=sys.maxsize)\n",
    "# mask[:, :, idx]"
   ]
  },
  {
   "cell_type": "code",
   "execution_count": 28,
   "id": "b5132182-f86a-4efe-a3e6-3ad5f0b9e47a",
   "metadata": {},
   "outputs": [
    {
     "data": {
      "image/png": "[encoded data removed]",
      "text/plain": [
       "<Figure size 2000x800 with 15 Axes>"
      ]
     },
     "metadata": {},
     "output_type": "display_data"
    }
   ],
   "source": [
    "import matplotlib.pyplot as plt\n",
    "import numpy as np\n",
    "\n",
    "fig, axes = plt.subplots(3, 5, figsize=(20, 8))\n",
    "axes = axes.ravel()\n",
    "\n",
    "cid = 1\n",
    "for nid in range(15):\n",
    "    image = np.load(f\"data/stage1/crop/{patient_id}_{study_id}_{cid}_{nid}.npy\")\n",
    "    image = image[:, :, 3:]\n",
    "    # plt.imshow(image)\n",
    "    # plt.show()\n",
    "    # print(f\"data/stage1/crop/{patient_id}_{study_id}_{cid}_{nid}.npy\")\n",
    "    axes[nid].imshow(image)\n",
    "    axes[nid].axis('off')\n",
    "plt.subplots_adjust(wspace=0.1, hspace=0.1)\n",
    "plt.show()\n"
   ]
  },
  {
   "cell_type": "code",
   "execution_count": 189,
   "id": "1f47a22c-d94d-49e9-ad8e-214133828f5c",
   "metadata": {
    "scrolled": true
   },
   "outputs": [
    {
     "name": "stdout",
     "output_type": "stream",
     "text": [
      "23419\n"
     ]
    },
    {
     "name": "stderr",
     "output_type": "stream",
     "text": [
      "100%|███████████████████████████████████████████████████████████████████████████████████████████████████████████████████████████████████| 23419/23419 [00:01<00:00, 12695.99it/s]\n"
     ]
    },
    {
     "name": "stdout",
     "output_type": "stream",
     "text": [
      "num injury 5728\n"
     ]
    }
   ],
   "source": [
    "# remove all healthy in df\n",
    "zzdf = pd.read_csv('data/stage1/train_cls.csv')\n",
    "print(len(zzdf))\n",
    "cnt = 0\n",
    "new_df_z = []\n",
    "for idx in tqdm(range(len(zzdf))):\n",
    "    row = zzdf.loc[idx]\n",
    "    healthy = all([1 - row.bowel, 1 - row.kidney, 1 - row.liver, 1- row.spleen])\n",
    "    if not healthy:\n",
    "        cnt += 1\n",
    "        new_df_z.append(row)        \n",
    "\n",
    "new_df = pd.DataFrame(new_df_z, columns=['patient_id', 'study_id', 'bowel', 'kidney', 'liver', 'spleen', 'cid', 'fold'])\n",
    "print('num injury', cnt)\n",
    "new_df.to_csv('data/stage2/train_cls.csv', index=False)\n",
    "vv_df = pd.read_csv('data/stage2/train_cls.csv')\n",
    "cnt_bowel = 0\n",
    "cnt_kidney = 0\n",
    "cnt_liver = 0\n",
    "cnt_spleen = 0\n",
    "for idx in range(len(vv_df)):\n",
    "    if vv_df.loc[idx, 'bowel'] == 1:\n",
    "        cnt_bowel += 1\n",
    "    if vv_df.loc[idx, 'kidney'] == 1:\n",
    "        cnt_kidney += 1\n",
    "    if vv_df.loc[idx, 'spleen'] == 1:\n",
    "        cnt_spleen += 1\n",
    "    if vv_df.loc[idx, 'liver'] == 1:\n",
    "        cnt_liver += 1\n",
    "print(cnt_bowel)\n",
    "print(cnt_kidney)\n",
    "print(cnt_liver)\n",
    "print(cnt_spleen)"
   ]
  },
  {
   "cell_type": "code",
   "execution_count": 78,
   "id": "b0b75568-2d8f-4d66-9ffe-9b7e866ca7e1",
   "metadata": {},
   "outputs": [
    {
     "data": {
      "image/png": "[encoded data removed]",
      "text/plain": [
       "<Figure size 640x480 with 1 Axes>"
      ]
     },
     "metadata": {},
     "output_type": "display_data"
    }
   ],
   "source": [
    "mask = np.load('data/stage2/image/6575.npy')\n",
    "plt.imshow(mask[:, :, :])\n",
    "plt.show()"
   ]
  },
  {
   "cell_type": "code",
   "execution_count": 2,
   "id": "c1feff11-9aee-4d16-9887-62a884623911",
   "metadata": {},
   "outputs": [
    {
     "data": {
      "text/html": [
       "<div>\n",
       "<style scoped>\n",
       "    .dataframe tbody tr th:only-of-type {\n",
       "        vertical-align: middle;\n",
       "    }\n",
       "\n",
       "    .dataframe tbody tr th {\n",
       "        vertical-align: top;\n",
       "    }\n",
       "\n",
       "    .dataframe thead th {\n",
       "        text-align: right;\n",
       "    }\n",
       "</style>\n",
       "<table border=\"1\" class=\"dataframe\">\n",
       "  <thead>\n",
       "    <tr style=\"text-align: right;\">\n",
       "      <th></th>\n",
       "      <th>BitsAllocated</th>\n",
       "      <th>BitsStored</th>\n",
       "      <th>Columns</th>\n",
       "      <th>ContentDate</th>\n",
       "      <th>ContentTime</th>\n",
       "      <th>FrameOfReferenceUID</th>\n",
       "      <th>HighBit</th>\n",
       "      <th>ImageOrientationPatient</th>\n",
       "      <th>ImagePositionPatient</th>\n",
       "      <th>InstanceNumber</th>\n",
       "      <th>...</th>\n",
       "      <th>WindowCenter</th>\n",
       "      <th>WindowWidth</th>\n",
       "      <th>FileMetaInformationVersion</th>\n",
       "      <th>ImplementationClassUID</th>\n",
       "      <th>ImplementationVersionName</th>\n",
       "      <th>MediaStorageSOPClassUID</th>\n",
       "      <th>MediaStorageSOPInstanceUID</th>\n",
       "      <th>TransferSyntaxUID</th>\n",
       "      <th>path</th>\n",
       "      <th>RescaleType</th>\n",
       "    </tr>\n",
       "  </thead>\n",
       "  <tbody>\n",
       "    <tr>\n",
       "      <th>0</th>\n",
       "      <td>16</td>\n",
       "      <td>16</td>\n",
       "      <td>512</td>\n",
       "      <td>20230722</td>\n",
       "      <td>003306.881589</td>\n",
       "      <td>1.2.826.0.1.3680043.8.498.28466454913303094199...</td>\n",
       "      <td>15</td>\n",
       "      <td>[1.00000, 0.00000, 0.00000, 0.00000, 1.00000, ...</td>\n",
       "      <td>[-235.8665, -235.8665, 1459.20]</td>\n",
       "      <td>532</td>\n",
       "      <td>...</td>\n",
       "      <td>50.0</td>\n",
       "      <td>400.0</td>\n",
       "      <td>\u0000\u0001</td>\n",
       "      <td>1.2.3.123456.4.5.1234.1.12.0</td>\n",
       "      <td>PYDICOM 2.4.0</td>\n",
       "      <td>1.2.840.10008.5.1.4.1.1.2</td>\n",
       "      <td>1.2.123.12345.1.2.3.49954.1.532</td>\n",
       "      <td>1.2.840.10008.1.2.5</td>\n",
       "      <td>train_images/49954/41479/532.dcm</td>\n",
       "      <td>nan</td>\n",
       "    </tr>\n",
       "    <tr>\n",
       "      <th>1</th>\n",
       "      <td>16</td>\n",
       "      <td>16</td>\n",
       "      <td>512</td>\n",
       "      <td>20230722</td>\n",
       "      <td>003303.279137</td>\n",
       "      <td>1.2.826.0.1.3680043.8.498.28466454913303094199...</td>\n",
       "      <td>15</td>\n",
       "      <td>[1.00000, 0.00000, 0.00000, 0.00000, 1.00000, ...</td>\n",
       "      <td>[-235.8665, -235.8665, 1474.40]</td>\n",
       "      <td>513</td>\n",
       "      <td>...</td>\n",
       "      <td>50.0</td>\n",
       "      <td>400.0</td>\n",
       "      <td>\u0000\u0001</td>\n",
       "      <td>1.2.3.123456.4.5.1234.1.12.0</td>\n",
       "      <td>PYDICOM 2.4.0</td>\n",
       "      <td>1.2.840.10008.5.1.4.1.1.2</td>\n",
       "      <td>1.2.123.12345.1.2.3.49954.1.513</td>\n",
       "      <td>1.2.840.10008.1.2.5</td>\n",
       "      <td>train_images/49954/41479/513.dcm</td>\n",
       "      <td>nan</td>\n",
       "    </tr>\n",
       "    <tr>\n",
       "      <th>2</th>\n",
       "      <td>16</td>\n",
       "      <td>16</td>\n",
       "      <td>512</td>\n",
       "      <td>20230722</td>\n",
       "      <td>003343.090736</td>\n",
       "      <td>1.2.826.0.1.3680043.8.498.28466454913303094199...</td>\n",
       "      <td>15</td>\n",
       "      <td>[1.00000, 0.00000, 0.00000, 0.00000, 1.00000, ...</td>\n",
       "      <td>[-235.8665, -235.8665, 1310.40]</td>\n",
       "      <td>718</td>\n",
       "      <td>...</td>\n",
       "      <td>50.0</td>\n",
       "      <td>400.0</td>\n",
       "      <td>\u0000\u0001</td>\n",
       "      <td>1.2.3.123456.4.5.1234.1.12.0</td>\n",
       "      <td>PYDICOM 2.4.0</td>\n",
       "      <td>1.2.840.10008.5.1.4.1.1.2</td>\n",
       "      <td>1.2.123.12345.1.2.3.49954.1.718</td>\n",
       "      <td>1.2.840.10008.1.2.5</td>\n",
       "      <td>train_images/49954/41479/718.dcm</td>\n",
       "      <td>nan</td>\n",
       "    </tr>\n",
       "    <tr>\n",
       "      <th>3</th>\n",
       "      <td>16</td>\n",
       "      <td>16</td>\n",
       "      <td>512</td>\n",
       "      <td>20230722</td>\n",
       "      <td>003252.960345</td>\n",
       "      <td>1.2.826.0.1.3680043.8.498.28466454913303094199...</td>\n",
       "      <td>15</td>\n",
       "      <td>[1.00000, 0.00000, 0.00000, 0.00000, 1.00000, ...</td>\n",
       "      <td>[-235.8665, -235.8665, 1520.00]</td>\n",
       "      <td>456</td>\n",
       "      <td>...</td>\n",
       "      <td>50.0</td>\n",
       "      <td>400.0</td>\n",
       "      <td>\u0000\u0001</td>\n",
       "      <td>1.2.3.123456.4.5.1234.1.12.0</td>\n",
       "      <td>PYDICOM 2.4.0</td>\n",
       "      <td>1.2.840.10008.5.1.4.1.1.2</td>\n",
       "      <td>1.2.123.12345.1.2.3.49954.1.456</td>\n",
       "      <td>1.2.840.10008.1.2.5</td>\n",
       "      <td>train_images/49954/41479/456.dcm</td>\n",
       "      <td>nan</td>\n",
       "    </tr>\n",
       "    <tr>\n",
       "      <th>4</th>\n",
       "      <td>16</td>\n",
       "      <td>16</td>\n",
       "      <td>512</td>\n",
       "      <td>20230722</td>\n",
       "      <td>003155.059398</td>\n",
       "      <td>1.2.826.0.1.3680043.8.498.28466454913303094199...</td>\n",
       "      <td>15</td>\n",
       "      <td>[1.00000, 0.00000, 0.00000, 0.00000, 1.00000, ...</td>\n",
       "      <td>[-235.8665, -235.8665, 1756.00]</td>\n",
       "      <td>161</td>\n",
       "      <td>...</td>\n",
       "      <td>50.0</td>\n",
       "      <td>400.0</td>\n",
       "      <td>\u0000\u0001</td>\n",
       "      <td>1.2.3.123456.4.5.1234.1.12.0</td>\n",
       "      <td>PYDICOM 2.4.0</td>\n",
       "      <td>1.2.840.10008.5.1.4.1.1.2</td>\n",
       "      <td>1.2.123.12345.1.2.3.49954.1.161</td>\n",
       "      <td>1.2.840.10008.1.2.5</td>\n",
       "      <td>train_images/49954/41479/161.dcm</td>\n",
       "      <td>nan</td>\n",
       "    </tr>\n",
       "  </tbody>\n",
       "</table>\n",
       "<p>5 rows × 35 columns</p>\n",
       "</div>"
      ],
      "text/plain": [
       "   BitsAllocated  BitsStored  Columns ContentDate    ContentTime  \\\n",
       "0             16          16      512    20230722  003306.881589   \n",
       "1             16          16      512    20230722  003303.279137   \n",
       "2             16          16      512    20230722  003343.090736   \n",
       "3             16          16      512    20230722  003252.960345   \n",
       "4             16          16      512    20230722  003155.059398   \n",
       "\n",
       "                                 FrameOfReferenceUID  HighBit  \\\n",
       "0  1.2.826.0.1.3680043.8.498.28466454913303094199...       15   \n",
       "1  1.2.826.0.1.3680043.8.498.28466454913303094199...       15   \n",
       "2  1.2.826.0.1.3680043.8.498.28466454913303094199...       15   \n",
       "3  1.2.826.0.1.3680043.8.498.28466454913303094199...       15   \n",
       "4  1.2.826.0.1.3680043.8.498.28466454913303094199...       15   \n",
       "\n",
       "                             ImageOrientationPatient  \\\n",
       "0  [1.00000, 0.00000, 0.00000, 0.00000, 1.00000, ...   \n",
       "1  [1.00000, 0.00000, 0.00000, 0.00000, 1.00000, ...   \n",
       "2  [1.00000, 0.00000, 0.00000, 0.00000, 1.00000, ...   \n",
       "3  [1.00000, 0.00000, 0.00000, 0.00000, 1.00000, ...   \n",
       "4  [1.00000, 0.00000, 0.00000, 0.00000, 1.00000, ...   \n",
       "\n",
       "              ImagePositionPatient  InstanceNumber  ...  WindowCenter  \\\n",
       "0  [-235.8665, -235.8665, 1459.20]             532  ...          50.0   \n",
       "1  [-235.8665, -235.8665, 1474.40]             513  ...          50.0   \n",
       "2  [-235.8665, -235.8665, 1310.40]             718  ...          50.0   \n",
       "3  [-235.8665, -235.8665, 1520.00]             456  ...          50.0   \n",
       "4  [-235.8665, -235.8665, 1756.00]             161  ...          50.0   \n",
       "\n",
       "  WindowWidth FileMetaInformationVersion        ImplementationClassUID  \\\n",
       "0       400.0                         \u0000\u0001  1.2.3.123456.4.5.1234.1.12.0   \n",
       "1       400.0                         \u0000\u0001  1.2.3.123456.4.5.1234.1.12.0   \n",
       "2       400.0                         \u0000\u0001  1.2.3.123456.4.5.1234.1.12.0   \n",
       "3       400.0                         \u0000\u0001  1.2.3.123456.4.5.1234.1.12.0   \n",
       "4       400.0                         \u0000\u0001  1.2.3.123456.4.5.1234.1.12.0   \n",
       "\n",
       "   ImplementationVersionName    MediaStorageSOPClassUID  \\\n",
       "0              PYDICOM 2.4.0  1.2.840.10008.5.1.4.1.1.2   \n",
       "1              PYDICOM 2.4.0  1.2.840.10008.5.1.4.1.1.2   \n",
       "2              PYDICOM 2.4.0  1.2.840.10008.5.1.4.1.1.2   \n",
       "3              PYDICOM 2.4.0  1.2.840.10008.5.1.4.1.1.2   \n",
       "4              PYDICOM 2.4.0  1.2.840.10008.5.1.4.1.1.2   \n",
       "\n",
       "        MediaStorageSOPInstanceUID    TransferSyntaxUID  \\\n",
       "0  1.2.123.12345.1.2.3.49954.1.532  1.2.840.10008.1.2.5   \n",
       "1  1.2.123.12345.1.2.3.49954.1.513  1.2.840.10008.1.2.5   \n",
       "2  1.2.123.12345.1.2.3.49954.1.718  1.2.840.10008.1.2.5   \n",
       "3  1.2.123.12345.1.2.3.49954.1.456  1.2.840.10008.1.2.5   \n",
       "4  1.2.123.12345.1.2.3.49954.1.161  1.2.840.10008.1.2.5   \n",
       "\n",
       "                               path RescaleType  \n",
       "0  train_images/49954/41479/532.dcm         nan  \n",
       "1  train_images/49954/41479/513.dcm         nan  \n",
       "2  train_images/49954/41479/718.dcm         nan  \n",
       "3  train_images/49954/41479/456.dcm         nan  \n",
       "4  train_images/49954/41479/161.dcm         nan  \n",
       "\n",
       "[5 rows x 35 columns]"
      ]
     },
     "execution_count": 2,
     "metadata": {},
     "output_type": "execute_result"
    }
   ],
   "source": [
    "import pandas as pd\n",
    "df = pd.read_parquet(\"data/train_dicom_tags.parquet\")\n",
    "df['StudyInstanceUID'] = df['SeriesInstanceUID'].apply(lambda x: x.split('.')[-1])\n",
    "df.head()"
   ]
  },
  {
   "cell_type": "code",
   "execution_count": 1,
   "id": "fd3b5475-311e-4022-9d80-a5946bb28dd1",
   "metadata": {},
   "outputs": [
    {
     "data": {
      "text/html": [
       "<div>\n",
       "<style scoped>\n",
       "    .dataframe tbody tr th:only-of-type {\n",
       "        vertical-align: middle;\n",
       "    }\n",
       "\n",
       "    .dataframe tbody tr th {\n",
       "        vertical-align: top;\n",
       "    }\n",
       "\n",
       "    .dataframe thead th {\n",
       "        text-align: right;\n",
       "    }\n",
       "</style>\n",
       "<table border=\"1\" class=\"dataframe\">\n",
       "  <thead>\n",
       "    <tr style=\"text-align: right;\">\n",
       "      <th></th>\n",
       "      <th>patient_id</th>\n",
       "      <th>bowel_healthy</th>\n",
       "      <th>bowel_injury</th>\n",
       "      <th>extravasation_healthy</th>\n",
       "      <th>extravasation_injury</th>\n",
       "      <th>kidney_healthy</th>\n",
       "      <th>kidney_low</th>\n",
       "      <th>kidney_high</th>\n",
       "      <th>liver_healthy</th>\n",
       "      <th>liver_low</th>\n",
       "      <th>liver_high</th>\n",
       "      <th>spleen_healthy</th>\n",
       "      <th>spleen_low</th>\n",
       "      <th>spleen_high</th>\n",
       "      <th>any_injury</th>\n",
       "    </tr>\n",
       "  </thead>\n",
       "  <tbody>\n",
       "    <tr>\n",
       "      <th>0</th>\n",
       "      <td>10004</td>\n",
       "      <td>1</td>\n",
       "      <td>0</td>\n",
       "      <td>0</td>\n",
       "      <td>1</td>\n",
       "      <td>0</td>\n",
       "      <td>1</td>\n",
       "      <td>0</td>\n",
       "      <td>1</td>\n",
       "      <td>0</td>\n",
       "      <td>0</td>\n",
       "      <td>0</td>\n",
       "      <td>0</td>\n",
       "      <td>1</td>\n",
       "      <td>1</td>\n",
       "    </tr>\n",
       "    <tr>\n",
       "      <th>1</th>\n",
       "      <td>10005</td>\n",
       "      <td>1</td>\n",
       "      <td>0</td>\n",
       "      <td>1</td>\n",
       "      <td>0</td>\n",
       "      <td>1</td>\n",
       "      <td>0</td>\n",
       "      <td>0</td>\n",
       "      <td>1</td>\n",
       "      <td>0</td>\n",
       "      <td>0</td>\n",
       "      <td>1</td>\n",
       "      <td>0</td>\n",
       "      <td>0</td>\n",
       "      <td>0</td>\n",
       "    </tr>\n",
       "    <tr>\n",
       "      <th>2</th>\n",
       "      <td>10007</td>\n",
       "      <td>1</td>\n",
       "      <td>0</td>\n",
       "      <td>1</td>\n",
       "      <td>0</td>\n",
       "      <td>1</td>\n",
       "      <td>0</td>\n",
       "      <td>0</td>\n",
       "      <td>1</td>\n",
       "      <td>0</td>\n",
       "      <td>0</td>\n",
       "      <td>1</td>\n",
       "      <td>0</td>\n",
       "      <td>0</td>\n",
       "      <td>0</td>\n",
       "    </tr>\n",
       "    <tr>\n",
       "      <th>3</th>\n",
       "      <td>10026</td>\n",
       "      <td>1</td>\n",
       "      <td>0</td>\n",
       "      <td>1</td>\n",
       "      <td>0</td>\n",
       "      <td>1</td>\n",
       "      <td>0</td>\n",
       "      <td>0</td>\n",
       "      <td>1</td>\n",
       "      <td>0</td>\n",
       "      <td>0</td>\n",
       "      <td>1</td>\n",
       "      <td>0</td>\n",
       "      <td>0</td>\n",
       "      <td>0</td>\n",
       "    </tr>\n",
       "    <tr>\n",
       "      <th>4</th>\n",
       "      <td>10051</td>\n",
       "      <td>1</td>\n",
       "      <td>0</td>\n",
       "      <td>1</td>\n",
       "      <td>0</td>\n",
       "      <td>1</td>\n",
       "      <td>0</td>\n",
       "      <td>0</td>\n",
       "      <td>1</td>\n",
       "      <td>0</td>\n",
       "      <td>0</td>\n",
       "      <td>0</td>\n",
       "      <td>1</td>\n",
       "      <td>0</td>\n",
       "      <td>1</td>\n",
       "    </tr>\n",
       "  </tbody>\n",
       "</table>\n",
       "</div>"
      ],
      "text/plain": [
       "   patient_id  bowel_healthy  bowel_injury  extravasation_healthy  \\\n",
       "0       10004              1             0                      0   \n",
       "1       10005              1             0                      1   \n",
       "2       10007              1             0                      1   \n",
       "3       10026              1             0                      1   \n",
       "4       10051              1             0                      1   \n",
       "\n",
       "   extravasation_injury  kidney_healthy  kidney_low  kidney_high  \\\n",
       "0                     1               0           1            0   \n",
       "1                     0               1           0            0   \n",
       "2                     0               1           0            0   \n",
       "3                     0               1           0            0   \n",
       "4                     0               1           0            0   \n",
       "\n",
       "   liver_healthy  liver_low  liver_high  spleen_healthy  spleen_low  \\\n",
       "0              1          0           0               0           0   \n",
       "1              1          0           0               1           0   \n",
       "2              1          0           0               1           0   \n",
       "3              1          0           0               1           0   \n",
       "4              1          0           0               0           1   \n",
       "\n",
       "   spleen_high  any_injury  \n",
       "0            1           1  \n",
       "1            0           0  \n",
       "2            0           0  \n",
       "3            0           0  \n",
       "4            0           1  "
      ]
     },
     "execution_count": 1,
     "metadata": {},
     "output_type": "execute_result"
    }
   ],
   "source": [
    "import pandas as pd\n",
    "df = pd.read_csv('data/train.csv')\n",
    "df.head()"
   ]
  },
  {
   "cell_type": "code",
   "execution_count": 14,
   "id": "70b93631-e882-4161-978a-1628997e11e2",
   "metadata": {},
   "outputs": [],
   "source": [
    "extra = df[df['extravasation_healthy'] < 1]\n",
    "bowel = extra['bowel_healthy'].tolist()\n",
    "kidney = extra['kidney_healthy'].tolist()\n",
    "liver = extra['liver_healthy'].tolist()\n",
    "spleen = extra['spleen_healthy'].tolist()"
   ]
  },
  {
   "cell_type": "code",
   "execution_count": 15,
   "id": "7e75f5ef-a7a3-47ab-a45d-0f3444a420c4",
   "metadata": {},
   "outputs": [
    {
     "name": "stdout",
     "output_type": "stream",
     "text": [
      "-----------------\n",
      "bowel 1\n",
      "kidney 0\n",
      "liver 1\n",
      "spleen 0\n",
      "-----------------\n",
      "bowel 1\n",
      "kidney 1\n",
      "liver 0\n",
      "spleen 0\n",
      "-----------------\n",
      "bowel 1\n",
      "kidney 1\n",
      "liver 1\n",
      "spleen 1\n",
      "-----------------\n",
      "bowel 1\n",
      "kidney 1\n",
      "liver 1\n",
      "spleen 1\n",
      "-----------------\n",
      "bowel 1\n",
      "kidney 1\n",
      "liver 1\n",
      "spleen 1\n",
      "-----------------\n",
      "bowel 1\n",
      "kidney 1\n",
      "liver 1\n",
      "spleen 1\n",
      "-----------------\n",
      "bowel 1\n",
      "kidney 1\n",
      "liver 1\n",
      "spleen 1\n",
      "-----------------\n",
      "bowel 1\n",
      "kidney 1\n",
      "liver 1\n",
      "spleen 0\n",
      "-----------------\n",
      "bowel 0\n",
      "kidney 1\n",
      "liver 1\n",
      "spleen 0\n",
      "-----------------\n",
      "bowel 1\n",
      "kidney 1\n",
      "liver 1\n",
      "spleen 0\n",
      "-----------------\n",
      "bowel 1\n",
      "kidney 1\n",
      "liver 1\n",
      "spleen 1\n",
      "-----------------\n",
      "bowel 1\n",
      "kidney 1\n",
      "liver 1\n",
      "spleen 1\n",
      "-----------------\n",
      "bowel 1\n",
      "kidney 1\n",
      "liver 1\n",
      "spleen 1\n",
      "-----------------\n",
      "bowel 0\n",
      "kidney 1\n",
      "liver 1\n",
      "spleen 1\n",
      "-----------------\n",
      "bowel 1\n",
      "kidney 0\n",
      "liver 1\n",
      "spleen 1\n",
      "-----------------\n",
      "bowel 1\n",
      "kidney 1\n",
      "liver 0\n",
      "spleen 0\n",
      "-----------------\n",
      "bowel 1\n",
      "kidney 1\n",
      "liver 1\n",
      "spleen 1\n",
      "-----------------\n",
      "bowel 1\n",
      "kidney 1\n",
      "liver 0\n",
      "spleen 1\n",
      "-----------------\n",
      "bowel 1\n",
      "kidney 0\n",
      "liver 1\n",
      "spleen 1\n",
      "-----------------\n",
      "bowel 1\n",
      "kidney 1\n",
      "liver 1\n",
      "spleen 1\n",
      "-----------------\n",
      "bowel 1\n",
      "kidney 0\n",
      "liver 0\n",
      "spleen 1\n",
      "-----------------\n",
      "bowel 1\n",
      "kidney 1\n",
      "liver 1\n",
      "spleen 1\n",
      "-----------------\n",
      "bowel 1\n",
      "kidney 1\n",
      "liver 1\n",
      "spleen 1\n",
      "-----------------\n",
      "bowel 1\n",
      "kidney 1\n",
      "liver 1\n",
      "spleen 1\n",
      "-----------------\n",
      "bowel 1\n",
      "kidney 0\n",
      "liver 0\n",
      "spleen 1\n",
      "-----------------\n",
      "bowel 1\n",
      "kidney 1\n",
      "liver 1\n",
      "spleen 0\n",
      "-----------------\n",
      "bowel 1\n",
      "kidney 1\n",
      "liver 1\n",
      "spleen 0\n",
      "-----------------\n",
      "bowel 1\n",
      "kidney 1\n",
      "liver 0\n",
      "spleen 0\n",
      "-----------------\n",
      "bowel 1\n",
      "kidney 0\n",
      "liver 0\n",
      "spleen 1\n",
      "-----------------\n",
      "bowel 1\n",
      "kidney 1\n",
      "liver 1\n",
      "spleen 1\n",
      "-----------------\n",
      "bowel 1\n",
      "kidney 0\n",
      "liver 0\n",
      "spleen 1\n",
      "-----------------\n",
      "bowel 1\n",
      "kidney 0\n",
      "liver 1\n",
      "spleen 0\n",
      "-----------------\n",
      "bowel 1\n",
      "kidney 1\n",
      "liver 1\n",
      "spleen 1\n",
      "-----------------\n",
      "bowel 1\n",
      "kidney 1\n",
      "liver 1\n",
      "spleen 0\n",
      "-----------------\n",
      "bowel 1\n",
      "kidney 1\n",
      "liver 0\n",
      "spleen 1\n",
      "-----------------\n",
      "bowel 1\n",
      "kidney 1\n",
      "liver 1\n",
      "spleen 0\n",
      "-----------------\n",
      "bowel 1\n",
      "kidney 1\n",
      "liver 1\n",
      "spleen 1\n",
      "-----------------\n",
      "bowel 1\n",
      "kidney 1\n",
      "liver 1\n",
      "spleen 0\n",
      "-----------------\n",
      "bowel 1\n",
      "kidney 1\n",
      "liver 1\n",
      "spleen 1\n",
      "-----------------\n",
      "bowel 1\n",
      "kidney 1\n",
      "liver 1\n",
      "spleen 1\n",
      "-----------------\n",
      "bowel 1\n",
      "kidney 1\n",
      "liver 1\n",
      "spleen 0\n",
      "-----------------\n",
      "bowel 1\n",
      "kidney 0\n",
      "liver 1\n",
      "spleen 0\n",
      "-----------------\n",
      "bowel 0\n",
      "kidney 1\n",
      "liver 1\n",
      "spleen 1\n",
      "-----------------\n",
      "bowel 1\n",
      "kidney 1\n",
      "liver 1\n",
      "spleen 1\n",
      "-----------------\n",
      "bowel 1\n",
      "kidney 1\n",
      "liver 1\n",
      "spleen 1\n",
      "-----------------\n",
      "bowel 1\n",
      "kidney 1\n",
      "liver 1\n",
      "spleen 0\n",
      "-----------------\n",
      "bowel 1\n",
      "kidney 1\n",
      "liver 0\n",
      "spleen 0\n",
      "-----------------\n",
      "bowel 1\n",
      "kidney 1\n",
      "liver 1\n",
      "spleen 1\n",
      "-----------------\n",
      "bowel 1\n",
      "kidney 0\n",
      "liver 1\n",
      "spleen 1\n",
      "-----------------\n",
      "bowel 1\n",
      "kidney 0\n",
      "liver 1\n",
      "spleen 1\n",
      "-----------------\n",
      "bowel 1\n",
      "kidney 1\n",
      "liver 1\n",
      "spleen 0\n",
      "-----------------\n",
      "bowel 1\n",
      "kidney 1\n",
      "liver 1\n",
      "spleen 1\n",
      "-----------------\n",
      "bowel 1\n",
      "kidney 1\n",
      "liver 1\n",
      "spleen 0\n",
      "-----------------\n",
      "bowel 1\n",
      "kidney 1\n",
      "liver 1\n",
      "spleen 1\n",
      "-----------------\n",
      "bowel 1\n",
      "kidney 1\n",
      "liver 1\n",
      "spleen 1\n",
      "-----------------\n",
      "bowel 1\n",
      "kidney 1\n",
      "liver 1\n",
      "spleen 1\n",
      "-----------------\n",
      "bowel 1\n",
      "kidney 1\n",
      "liver 1\n",
      "spleen 1\n",
      "-----------------\n",
      "bowel 1\n",
      "kidney 1\n",
      "liver 1\n",
      "spleen 1\n",
      "-----------------\n",
      "bowel 1\n",
      "kidney 1\n",
      "liver 1\n",
      "spleen 1\n",
      "-----------------\n",
      "bowel 1\n",
      "kidney 1\n",
      "liver 1\n",
      "spleen 1\n",
      "-----------------\n",
      "bowel 1\n",
      "kidney 1\n",
      "liver 1\n",
      "spleen 1\n",
      "-----------------\n",
      "bowel 1\n",
      "kidney 1\n",
      "liver 1\n",
      "spleen 1\n",
      "-----------------\n",
      "bowel 1\n",
      "kidney 1\n",
      "liver 1\n",
      "spleen 1\n",
      "-----------------\n",
      "bowel 1\n",
      "kidney 0\n",
      "liver 1\n",
      "spleen 1\n",
      "-----------------\n",
      "bowel 1\n",
      "kidney 1\n",
      "liver 1\n",
      "spleen 0\n",
      "-----------------\n",
      "bowel 1\n",
      "kidney 1\n",
      "liver 1\n",
      "spleen 1\n",
      "-----------------\n",
      "bowel 1\n",
      "kidney 0\n",
      "liver 1\n",
      "spleen 0\n",
      "-----------------\n",
      "bowel 1\n",
      "kidney 1\n",
      "liver 0\n",
      "spleen 1\n",
      "-----------------\n",
      "bowel 1\n",
      "kidney 1\n",
      "liver 0\n",
      "spleen 0\n",
      "-----------------\n",
      "bowel 1\n",
      "kidney 1\n",
      "liver 0\n",
      "spleen 1\n",
      "-----------------\n",
      "bowel 1\n",
      "kidney 1\n",
      "liver 1\n",
      "spleen 1\n",
      "-----------------\n",
      "bowel 1\n",
      "kidney 1\n",
      "liver 1\n",
      "spleen 1\n",
      "-----------------\n",
      "bowel 1\n",
      "kidney 1\n",
      "liver 1\n",
      "spleen 1\n",
      "-----------------\n",
      "bowel 1\n",
      "kidney 1\n",
      "liver 1\n",
      "spleen 1\n",
      "-----------------\n",
      "bowel 1\n",
      "kidney 1\n",
      "liver 0\n",
      "spleen 1\n",
      "-----------------\n",
      "bowel 1\n",
      "kidney 1\n",
      "liver 1\n",
      "spleen 1\n",
      "-----------------\n",
      "bowel 1\n",
      "kidney 1\n",
      "liver 1\n",
      "spleen 0\n",
      "-----------------\n",
      "bowel 1\n",
      "kidney 1\n",
      "liver 1\n",
      "spleen 1\n",
      "-----------------\n",
      "bowel 1\n",
      "kidney 1\n",
      "liver 1\n",
      "spleen 1\n",
      "-----------------\n",
      "bowel 1\n",
      "kidney 1\n",
      "liver 1\n",
      "spleen 1\n",
      "-----------------\n",
      "bowel 1\n",
      "kidney 0\n",
      "liver 0\n",
      "spleen 0\n",
      "-----------------\n",
      "bowel 1\n",
      "kidney 1\n",
      "liver 0\n",
      "spleen 1\n",
      "-----------------\n",
      "bowel 0\n",
      "kidney 1\n",
      "liver 1\n",
      "spleen 0\n",
      "-----------------\n",
      "bowel 0\n",
      "kidney 1\n",
      "liver 0\n",
      "spleen 1\n",
      "-----------------\n",
      "bowel 1\n",
      "kidney 1\n",
      "liver 0\n",
      "spleen 1\n",
      "-----------------\n",
      "bowel 1\n",
      "kidney 0\n",
      "liver 1\n",
      "spleen 1\n",
      "-----------------\n",
      "bowel 1\n",
      "kidney 1\n",
      "liver 1\n",
      "spleen 1\n",
      "-----------------\n",
      "bowel 1\n",
      "kidney 1\n",
      "liver 1\n",
      "spleen 1\n",
      "-----------------\n",
      "bowel 1\n",
      "kidney 1\n",
      "liver 1\n",
      "spleen 1\n",
      "-----------------\n",
      "bowel 1\n",
      "kidney 0\n",
      "liver 0\n",
      "spleen 1\n",
      "-----------------\n",
      "bowel 1\n",
      "kidney 1\n",
      "liver 1\n",
      "spleen 1\n",
      "-----------------\n",
      "bowel 1\n",
      "kidney 1\n",
      "liver 0\n",
      "spleen 1\n",
      "-----------------\n",
      "bowel 1\n",
      "kidney 0\n",
      "liver 1\n",
      "spleen 1\n",
      "-----------------\n",
      "bowel 1\n",
      "kidney 1\n",
      "liver 1\n",
      "spleen 1\n",
      "-----------------\n",
      "bowel 1\n",
      "kidney 1\n",
      "liver 1\n",
      "spleen 1\n",
      "-----------------\n",
      "bowel 1\n",
      "kidney 1\n",
      "liver 0\n",
      "spleen 1\n",
      "-----------------\n",
      "bowel 1\n",
      "kidney 1\n",
      "liver 1\n",
      "spleen 1\n",
      "-----------------\n",
      "bowel 1\n",
      "kidney 1\n",
      "liver 1\n",
      "spleen 0\n",
      "-----------------\n",
      "bowel 1\n",
      "kidney 1\n",
      "liver 1\n",
      "spleen 1\n",
      "-----------------\n",
      "bowel 1\n",
      "kidney 1\n",
      "liver 1\n",
      "spleen 0\n",
      "-----------------\n",
      "bowel 1\n",
      "kidney 1\n",
      "liver 1\n",
      "spleen 1\n",
      "-----------------\n",
      "bowel 1\n",
      "kidney 1\n",
      "liver 1\n",
      "spleen 1\n",
      "-----------------\n",
      "bowel 1\n",
      "kidney 1\n",
      "liver 1\n",
      "spleen 0\n",
      "-----------------\n",
      "bowel 1\n",
      "kidney 1\n",
      "liver 0\n",
      "spleen 1\n",
      "-----------------\n",
      "bowel 1\n",
      "kidney 0\n",
      "liver 0\n",
      "spleen 0\n",
      "-----------------\n",
      "bowel 1\n",
      "kidney 1\n",
      "liver 1\n",
      "spleen 1\n",
      "-----------------\n",
      "bowel 1\n",
      "kidney 1\n",
      "liver 1\n",
      "spleen 1\n",
      "-----------------\n",
      "bowel 0\n",
      "kidney 1\n",
      "liver 1\n",
      "spleen 1\n",
      "-----------------\n",
      "bowel 0\n",
      "kidney 1\n",
      "liver 0\n",
      "spleen 0\n",
      "-----------------\n",
      "bowel 1\n",
      "kidney 1\n",
      "liver 1\n",
      "spleen 1\n",
      "-----------------\n",
      "bowel 1\n",
      "kidney 1\n",
      "liver 1\n",
      "spleen 1\n",
      "-----------------\n",
      "bowel 1\n",
      "kidney 1\n",
      "liver 1\n",
      "spleen 0\n",
      "-----------------\n",
      "bowel 1\n",
      "kidney 1\n",
      "liver 1\n",
      "spleen 0\n",
      "-----------------\n",
      "bowel 1\n",
      "kidney 0\n",
      "liver 1\n",
      "spleen 1\n",
      "-----------------\n",
      "bowel 1\n",
      "kidney 1\n",
      "liver 1\n",
      "spleen 1\n",
      "-----------------\n",
      "bowel 0\n",
      "kidney 1\n",
      "liver 1\n",
      "spleen 1\n",
      "-----------------\n",
      "bowel 1\n",
      "kidney 1\n",
      "liver 1\n",
      "spleen 1\n",
      "-----------------\n",
      "bowel 1\n",
      "kidney 0\n",
      "liver 1\n",
      "spleen 0\n",
      "-----------------\n",
      "bowel 1\n",
      "kidney 1\n",
      "liver 1\n",
      "spleen 0\n",
      "-----------------\n",
      "bowel 1\n",
      "kidney 1\n",
      "liver 1\n",
      "spleen 1\n",
      "-----------------\n",
      "bowel 1\n",
      "kidney 1\n",
      "liver 1\n",
      "spleen 0\n",
      "-----------------\n",
      "bowel 1\n",
      "kidney 1\n",
      "liver 1\n",
      "spleen 0\n",
      "-----------------\n",
      "bowel 1\n",
      "kidney 0\n",
      "liver 1\n",
      "spleen 0\n",
      "-----------------\n",
      "bowel 1\n",
      "kidney 1\n",
      "liver 1\n",
      "spleen 1\n",
      "-----------------\n",
      "bowel 1\n",
      "kidney 1\n",
      "liver 1\n",
      "spleen 1\n",
      "-----------------\n",
      "bowel 1\n",
      "kidney 1\n",
      "liver 1\n",
      "spleen 1\n",
      "-----------------\n",
      "bowel 1\n",
      "kidney 1\n",
      "liver 1\n",
      "spleen 0\n",
      "-----------------\n",
      "bowel 1\n",
      "kidney 1\n",
      "liver 1\n",
      "spleen 1\n",
      "-----------------\n",
      "bowel 1\n",
      "kidney 1\n",
      "liver 0\n",
      "spleen 1\n",
      "-----------------\n",
      "bowel 1\n",
      "kidney 1\n",
      "liver 1\n",
      "spleen 0\n",
      "-----------------\n",
      "bowel 1\n",
      "kidney 0\n",
      "liver 1\n",
      "spleen 0\n",
      "-----------------\n",
      "bowel 1\n",
      "kidney 1\n",
      "liver 1\n",
      "spleen 1\n",
      "-----------------\n",
      "bowel 1\n",
      "kidney 1\n",
      "liver 1\n",
      "spleen 1\n",
      "-----------------\n",
      "bowel 1\n",
      "kidney 1\n",
      "liver 0\n",
      "spleen 1\n",
      "-----------------\n",
      "bowel 1\n",
      "kidney 1\n",
      "liver 1\n",
      "spleen 1\n",
      "-----------------\n",
      "bowel 1\n",
      "kidney 0\n",
      "liver 0\n",
      "spleen 1\n",
      "-----------------\n",
      "bowel 1\n",
      "kidney 1\n",
      "liver 1\n",
      "spleen 0\n",
      "-----------------\n",
      "bowel 1\n",
      "kidney 1\n",
      "liver 1\n",
      "spleen 0\n",
      "-----------------\n",
      "bowel 1\n",
      "kidney 1\n",
      "liver 1\n",
      "spleen 1\n",
      "-----------------\n",
      "bowel 1\n",
      "kidney 1\n",
      "liver 1\n",
      "spleen 1\n",
      "-----------------\n",
      "bowel 1\n",
      "kidney 0\n",
      "liver 0\n",
      "spleen 1\n",
      "-----------------\n",
      "bowel 1\n",
      "kidney 1\n",
      "liver 1\n",
      "spleen 0\n",
      "-----------------\n",
      "bowel 1\n",
      "kidney 1\n",
      "liver 1\n",
      "spleen 1\n",
      "-----------------\n",
      "bowel 1\n",
      "kidney 1\n",
      "liver 1\n",
      "spleen 0\n",
      "-----------------\n",
      "bowel 1\n",
      "kidney 1\n",
      "liver 1\n",
      "spleen 1\n",
      "-----------------\n",
      "bowel 1\n",
      "kidney 1\n",
      "liver 1\n",
      "spleen 1\n",
      "-----------------\n",
      "bowel 1\n",
      "kidney 1\n",
      "liver 1\n",
      "spleen 1\n",
      "-----------------\n",
      "bowel 1\n",
      "kidney 1\n",
      "liver 1\n",
      "spleen 1\n",
      "-----------------\n",
      "bowel 1\n",
      "kidney 1\n",
      "liver 1\n",
      "spleen 0\n",
      "-----------------\n",
      "bowel 1\n",
      "kidney 1\n",
      "liver 1\n",
      "spleen 0\n",
      "-----------------\n",
      "bowel 1\n",
      "kidney 1\n",
      "liver 1\n",
      "spleen 1\n",
      "-----------------\n",
      "bowel 1\n",
      "kidney 1\n",
      "liver 1\n",
      "spleen 1\n",
      "-----------------\n",
      "bowel 0\n",
      "kidney 1\n",
      "liver 0\n",
      "spleen 1\n",
      "-----------------\n",
      "bowel 1\n",
      "kidney 1\n",
      "liver 0\n",
      "spleen 1\n",
      "-----------------\n",
      "bowel 1\n",
      "kidney 1\n",
      "liver 1\n",
      "spleen 1\n",
      "-----------------\n",
      "bowel 1\n",
      "kidney 1\n",
      "liver 1\n",
      "spleen 0\n",
      "-----------------\n",
      "bowel 0\n",
      "kidney 1\n",
      "liver 1\n",
      "spleen 1\n",
      "-----------------\n",
      "bowel 1\n",
      "kidney 1\n",
      "liver 1\n",
      "spleen 1\n",
      "-----------------\n",
      "bowel 1\n",
      "kidney 1\n",
      "liver 1\n",
      "spleen 0\n",
      "-----------------\n",
      "bowel 1\n",
      "kidney 1\n",
      "liver 1\n",
      "spleen 1\n",
      "-----------------\n",
      "bowel 1\n",
      "kidney 1\n",
      "liver 1\n",
      "spleen 1\n",
      "-----------------\n",
      "bowel 1\n",
      "kidney 0\n",
      "liver 0\n",
      "spleen 1\n",
      "-----------------\n",
      "bowel 1\n",
      "kidney 1\n",
      "liver 0\n",
      "spleen 1\n",
      "-----------------\n",
      "bowel 1\n",
      "kidney 1\n",
      "liver 1\n",
      "spleen 1\n",
      "-----------------\n",
      "bowel 1\n",
      "kidney 0\n",
      "liver 1\n",
      "spleen 1\n",
      "-----------------\n",
      "bowel 1\n",
      "kidney 1\n",
      "liver 1\n",
      "spleen 1\n",
      "-----------------\n",
      "bowel 1\n",
      "kidney 1\n",
      "liver 0\n",
      "spleen 1\n",
      "-----------------\n",
      "bowel 1\n",
      "kidney 1\n",
      "liver 1\n",
      "spleen 1\n",
      "-----------------\n",
      "bowel 0\n",
      "kidney 1\n",
      "liver 1\n",
      "spleen 0\n",
      "-----------------\n",
      "bowel 1\n",
      "kidney 1\n",
      "liver 1\n",
      "spleen 1\n",
      "-----------------\n",
      "bowel 1\n",
      "kidney 1\n",
      "liver 1\n",
      "spleen 1\n",
      "-----------------\n",
      "bowel 1\n",
      "kidney 1\n",
      "liver 1\n",
      "spleen 1\n",
      "-----------------\n",
      "bowel 0\n",
      "kidney 1\n",
      "liver 1\n",
      "spleen 1\n",
      "-----------------\n",
      "bowel 0\n",
      "kidney 0\n",
      "liver 1\n",
      "spleen 1\n",
      "-----------------\n",
      "bowel 1\n",
      "kidney 1\n",
      "liver 1\n",
      "spleen 1\n",
      "-----------------\n",
      "bowel 1\n",
      "kidney 1\n",
      "liver 1\n",
      "spleen 1\n",
      "-----------------\n",
      "bowel 1\n",
      "kidney 1\n",
      "liver 1\n",
      "spleen 1\n",
      "-----------------\n",
      "bowel 0\n",
      "kidney 1\n",
      "liver 1\n",
      "spleen 1\n",
      "-----------------\n",
      "bowel 1\n",
      "kidney 1\n",
      "liver 1\n",
      "spleen 0\n",
      "-----------------\n",
      "bowel 1\n",
      "kidney 0\n",
      "liver 1\n",
      "spleen 1\n",
      "-----------------\n",
      "bowel 1\n",
      "kidney 1\n",
      "liver 1\n",
      "spleen 1\n",
      "-----------------\n",
      "bowel 1\n",
      "kidney 1\n",
      "liver 1\n",
      "spleen 1\n",
      "-----------------\n",
      "bowel 0\n",
      "kidney 1\n",
      "liver 1\n",
      "spleen 1\n",
      "-----------------\n",
      "bowel 1\n",
      "kidney 0\n",
      "liver 1\n",
      "spleen 0\n",
      "-----------------\n",
      "bowel 1\n",
      "kidney 1\n",
      "liver 1\n",
      "spleen 1\n",
      "-----------------\n",
      "bowel 1\n",
      "kidney 1\n",
      "liver 1\n",
      "spleen 0\n",
      "-----------------\n",
      "bowel 0\n",
      "kidney 1\n",
      "liver 1\n",
      "spleen 1\n",
      "-----------------\n",
      "bowel 0\n",
      "kidney 1\n",
      "liver 1\n",
      "spleen 1\n",
      "-----------------\n",
      "bowel 1\n",
      "kidney 1\n",
      "liver 1\n",
      "spleen 1\n",
      "-----------------\n",
      "bowel 1\n",
      "kidney 1\n",
      "liver 1\n",
      "spleen 0\n",
      "-----------------\n",
      "bowel 1\n",
      "kidney 1\n",
      "liver 0\n",
      "spleen 1\n",
      "-----------------\n",
      "bowel 1\n",
      "kidney 1\n",
      "liver 1\n",
      "spleen 1\n",
      "-----------------\n",
      "bowel 1\n",
      "kidney 1\n",
      "liver 1\n",
      "spleen 1\n",
      "-----------------\n",
      "bowel 1\n",
      "kidney 1\n",
      "liver 1\n",
      "spleen 0\n",
      "-----------------\n",
      "bowel 1\n",
      "kidney 1\n",
      "liver 1\n",
      "spleen 1\n",
      "-----------------\n",
      "bowel 1\n",
      "kidney 1\n",
      "liver 1\n",
      "spleen 1\n",
      "-----------------\n",
      "bowel 0\n",
      "kidney 1\n",
      "liver 1\n",
      "spleen 1\n",
      "-----------------\n",
      "bowel 1\n",
      "kidney 0\n",
      "liver 0\n",
      "spleen 1\n",
      "-----------------\n",
      "bowel 1\n",
      "kidney 1\n",
      "liver 1\n",
      "spleen 1\n",
      "-----------------\n",
      "bowel 1\n",
      "kidney 1\n",
      "liver 1\n",
      "spleen 1\n"
     ]
    }
   ],
   "source": [
    "# bowel 2%\n",
    "# extra 6.4%\n",
    "for i in range(len(bowel)):\n",
    "    print('-----------------')\n",
    "    print('bowel', bowel[i])\n",
    "    print('kidney', kidney[i])\n",
    "    print('liver', liver[i])\n",
    "    print('spleen', spleen[i])"
   ]
  },
  {
   "cell_type": "code",
   "execution_count": 24,
   "id": "4dcfeafa-bb33-461e-acb1-86313d4d91a0",
   "metadata": {},
   "outputs": [
    {
     "data": {
      "text/html": [
       "<div>\n",
       "<style scoped>\n",
       "    .dataframe tbody tr th:only-of-type {\n",
       "        vertical-align: middle;\n",
       "    }\n",
       "\n",
       "    .dataframe tbody tr th {\n",
       "        vertical-align: top;\n",
       "    }\n",
       "\n",
       "    .dataframe thead th {\n",
       "        text-align: right;\n",
       "    }\n",
       "</style>\n",
       "<table border=\"1\" class=\"dataframe\">\n",
       "  <thead>\n",
       "    <tr style=\"text-align: right;\">\n",
       "      <th></th>\n",
       "      <th>patient_id</th>\n",
       "      <th>bowel_healthy</th>\n",
       "      <th>bowel_injury</th>\n",
       "      <th>extravasation_healthy</th>\n",
       "      <th>extravasation_injury</th>\n",
       "      <th>kidney_healthy</th>\n",
       "      <th>kidney_low</th>\n",
       "      <th>kidney_high</th>\n",
       "      <th>liver_healthy</th>\n",
       "      <th>liver_low</th>\n",
       "      <th>liver_high</th>\n",
       "      <th>spleen_healthy</th>\n",
       "      <th>spleen_low</th>\n",
       "      <th>spleen_high</th>\n",
       "      <th>any_injury</th>\n",
       "    </tr>\n",
       "  </thead>\n",
       "  <tbody>\n",
       "    <tr>\n",
       "      <th>0</th>\n",
       "      <td>10004</td>\n",
       "      <td>1</td>\n",
       "      <td>0</td>\n",
       "      <td>0</td>\n",
       "      <td>1</td>\n",
       "      <td>0</td>\n",
       "      <td>1</td>\n",
       "      <td>0</td>\n",
       "      <td>1</td>\n",
       "      <td>0</td>\n",
       "      <td>0</td>\n",
       "      <td>0</td>\n",
       "      <td>0</td>\n",
       "      <td>1</td>\n",
       "      <td>1</td>\n",
       "    </tr>\n",
       "    <tr>\n",
       "      <th>16</th>\n",
       "      <td>10217</td>\n",
       "      <td>1</td>\n",
       "      <td>0</td>\n",
       "      <td>0</td>\n",
       "      <td>1</td>\n",
       "      <td>1</td>\n",
       "      <td>0</td>\n",
       "      <td>0</td>\n",
       "      <td>0</td>\n",
       "      <td>1</td>\n",
       "      <td>0</td>\n",
       "      <td>0</td>\n",
       "      <td>0</td>\n",
       "      <td>1</td>\n",
       "      <td>1</td>\n",
       "    </tr>\n",
       "    <tr>\n",
       "      <th>22</th>\n",
       "      <td>10292</td>\n",
       "      <td>1</td>\n",
       "      <td>0</td>\n",
       "      <td>0</td>\n",
       "      <td>1</td>\n",
       "      <td>1</td>\n",
       "      <td>0</td>\n",
       "      <td>0</td>\n",
       "      <td>1</td>\n",
       "      <td>0</td>\n",
       "      <td>0</td>\n",
       "      <td>1</td>\n",
       "      <td>0</td>\n",
       "      <td>0</td>\n",
       "      <td>1</td>\n",
       "    </tr>\n",
       "    <tr>\n",
       "      <th>28</th>\n",
       "      <td>10494</td>\n",
       "      <td>1</td>\n",
       "      <td>0</td>\n",
       "      <td>0</td>\n",
       "      <td>1</td>\n",
       "      <td>1</td>\n",
       "      <td>0</td>\n",
       "      <td>0</td>\n",
       "      <td>1</td>\n",
       "      <td>0</td>\n",
       "      <td>0</td>\n",
       "      <td>1</td>\n",
       "      <td>0</td>\n",
       "      <td>0</td>\n",
       "      <td>1</td>\n",
       "    </tr>\n",
       "    <tr>\n",
       "      <th>57</th>\n",
       "      <td>11044</td>\n",
       "      <td>1</td>\n",
       "      <td>0</td>\n",
       "      <td>0</td>\n",
       "      <td>1</td>\n",
       "      <td>1</td>\n",
       "      <td>0</td>\n",
       "      <td>0</td>\n",
       "      <td>1</td>\n",
       "      <td>0</td>\n",
       "      <td>0</td>\n",
       "      <td>1</td>\n",
       "      <td>0</td>\n",
       "      <td>0</td>\n",
       "      <td>1</td>\n",
       "    </tr>\n",
       "    <tr>\n",
       "      <th>70</th>\n",
       "      <td>11379</td>\n",
       "      <td>1</td>\n",
       "      <td>0</td>\n",
       "      <td>0</td>\n",
       "      <td>1</td>\n",
       "      <td>1</td>\n",
       "      <td>0</td>\n",
       "      <td>0</td>\n",
       "      <td>1</td>\n",
       "      <td>0</td>\n",
       "      <td>0</td>\n",
       "      <td>1</td>\n",
       "      <td>0</td>\n",
       "      <td>0</td>\n",
       "      <td>1</td>\n",
       "    </tr>\n",
       "    <tr>\n",
       "      <th>76</th>\n",
       "      <td>11474</td>\n",
       "      <td>1</td>\n",
       "      <td>0</td>\n",
       "      <td>0</td>\n",
       "      <td>1</td>\n",
       "      <td>1</td>\n",
       "      <td>0</td>\n",
       "      <td>0</td>\n",
       "      <td>1</td>\n",
       "      <td>0</td>\n",
       "      <td>0</td>\n",
       "      <td>1</td>\n",
       "      <td>0</td>\n",
       "      <td>0</td>\n",
       "      <td>1</td>\n",
       "    </tr>\n",
       "    <tr>\n",
       "      <th>84</th>\n",
       "      <td>11652</td>\n",
       "      <td>1</td>\n",
       "      <td>0</td>\n",
       "      <td>0</td>\n",
       "      <td>1</td>\n",
       "      <td>1</td>\n",
       "      <td>0</td>\n",
       "      <td>0</td>\n",
       "      <td>1</td>\n",
       "      <td>0</td>\n",
       "      <td>0</td>\n",
       "      <td>0</td>\n",
       "      <td>0</td>\n",
       "      <td>1</td>\n",
       "      <td>1</td>\n",
       "    </tr>\n",
       "    <tr>\n",
       "      <th>101</th>\n",
       "      <td>11925</td>\n",
       "      <td>0</td>\n",
       "      <td>1</td>\n",
       "      <td>0</td>\n",
       "      <td>1</td>\n",
       "      <td>1</td>\n",
       "      <td>0</td>\n",
       "      <td>0</td>\n",
       "      <td>1</td>\n",
       "      <td>0</td>\n",
       "      <td>0</td>\n",
       "      <td>0</td>\n",
       "      <td>1</td>\n",
       "      <td>0</td>\n",
       "      <td>1</td>\n",
       "    </tr>\n",
       "    <tr>\n",
       "      <th>104</th>\n",
       "      <td>12008</td>\n",
       "      <td>1</td>\n",
       "      <td>0</td>\n",
       "      <td>0</td>\n",
       "      <td>1</td>\n",
       "      <td>1</td>\n",
       "      <td>0</td>\n",
       "      <td>0</td>\n",
       "      <td>1</td>\n",
       "      <td>0</td>\n",
       "      <td>0</td>\n",
       "      <td>0</td>\n",
       "      <td>0</td>\n",
       "      <td>1</td>\n",
       "      <td>1</td>\n",
       "    </tr>\n",
       "    <tr>\n",
       "      <th>110</th>\n",
       "      <td>12192</td>\n",
       "      <td>1</td>\n",
       "      <td>0</td>\n",
       "      <td>0</td>\n",
       "      <td>1</td>\n",
       "      <td>1</td>\n",
       "      <td>0</td>\n",
       "      <td>0</td>\n",
       "      <td>1</td>\n",
       "      <td>0</td>\n",
       "      <td>0</td>\n",
       "      <td>1</td>\n",
       "      <td>0</td>\n",
       "      <td>0</td>\n",
       "      <td>1</td>\n",
       "    </tr>\n",
       "    <tr>\n",
       "      <th>113</th>\n",
       "      <td>12210</td>\n",
       "      <td>1</td>\n",
       "      <td>0</td>\n",
       "      <td>0</td>\n",
       "      <td>1</td>\n",
       "      <td>1</td>\n",
       "      <td>0</td>\n",
       "      <td>0</td>\n",
       "      <td>1</td>\n",
       "      <td>0</td>\n",
       "      <td>0</td>\n",
       "      <td>1</td>\n",
       "      <td>0</td>\n",
       "      <td>0</td>\n",
       "      <td>1</td>\n",
       "    </tr>\n",
       "    <tr>\n",
       "      <th>146</th>\n",
       "      <td>12875</td>\n",
       "      <td>1</td>\n",
       "      <td>0</td>\n",
       "      <td>0</td>\n",
       "      <td>1</td>\n",
       "      <td>1</td>\n",
       "      <td>0</td>\n",
       "      <td>0</td>\n",
       "      <td>1</td>\n",
       "      <td>0</td>\n",
       "      <td>0</td>\n",
       "      <td>1</td>\n",
       "      <td>0</td>\n",
       "      <td>0</td>\n",
       "      <td>1</td>\n",
       "    </tr>\n",
       "    <tr>\n",
       "      <th>153</th>\n",
       "      <td>12958</td>\n",
       "      <td>0</td>\n",
       "      <td>1</td>\n",
       "      <td>0</td>\n",
       "      <td>1</td>\n",
       "      <td>1</td>\n",
       "      <td>0</td>\n",
       "      <td>0</td>\n",
       "      <td>1</td>\n",
       "      <td>0</td>\n",
       "      <td>0</td>\n",
       "      <td>1</td>\n",
       "      <td>0</td>\n",
       "      <td>0</td>\n",
       "      <td>1</td>\n",
       "    </tr>\n",
       "    <tr>\n",
       "      <th>168</th>\n",
       "      <td>13241</td>\n",
       "      <td>1</td>\n",
       "      <td>0</td>\n",
       "      <td>0</td>\n",
       "      <td>1</td>\n",
       "      <td>0</td>\n",
       "      <td>0</td>\n",
       "      <td>1</td>\n",
       "      <td>1</td>\n",
       "      <td>0</td>\n",
       "      <td>0</td>\n",
       "      <td>1</td>\n",
       "      <td>0</td>\n",
       "      <td>0</td>\n",
       "      <td>1</td>\n",
       "    </tr>\n",
       "    <tr>\n",
       "      <th>172</th>\n",
       "      <td>13316</td>\n",
       "      <td>1</td>\n",
       "      <td>0</td>\n",
       "      <td>0</td>\n",
       "      <td>1</td>\n",
       "      <td>1</td>\n",
       "      <td>0</td>\n",
       "      <td>0</td>\n",
       "      <td>0</td>\n",
       "      <td>1</td>\n",
       "      <td>0</td>\n",
       "      <td>0</td>\n",
       "      <td>0</td>\n",
       "      <td>1</td>\n",
       "      <td>1</td>\n",
       "    </tr>\n",
       "    <tr>\n",
       "      <th>208</th>\n",
       "      <td>14018</td>\n",
       "      <td>1</td>\n",
       "      <td>0</td>\n",
       "      <td>0</td>\n",
       "      <td>1</td>\n",
       "      <td>1</td>\n",
       "      <td>0</td>\n",
       "      <td>0</td>\n",
       "      <td>1</td>\n",
       "      <td>0</td>\n",
       "      <td>0</td>\n",
       "      <td>1</td>\n",
       "      <td>0</td>\n",
       "      <td>0</td>\n",
       "      <td>1</td>\n",
       "    </tr>\n",
       "    <tr>\n",
       "      <th>214</th>\n",
       "      <td>14102</td>\n",
       "      <td>1</td>\n",
       "      <td>0</td>\n",
       "      <td>0</td>\n",
       "      <td>1</td>\n",
       "      <td>1</td>\n",
       "      <td>0</td>\n",
       "      <td>0</td>\n",
       "      <td>0</td>\n",
       "      <td>1</td>\n",
       "      <td>0</td>\n",
       "      <td>1</td>\n",
       "      <td>0</td>\n",
       "      <td>0</td>\n",
       "      <td>1</td>\n",
       "    </tr>\n",
       "    <tr>\n",
       "      <th>220</th>\n",
       "      <td>14321</td>\n",
       "      <td>1</td>\n",
       "      <td>0</td>\n",
       "      <td>0</td>\n",
       "      <td>1</td>\n",
       "      <td>0</td>\n",
       "      <td>1</td>\n",
       "      <td>0</td>\n",
       "      <td>1</td>\n",
       "      <td>0</td>\n",
       "      <td>0</td>\n",
       "      <td>1</td>\n",
       "      <td>0</td>\n",
       "      <td>0</td>\n",
       "      <td>1</td>\n",
       "    </tr>\n",
       "    <tr>\n",
       "      <th>250</th>\n",
       "      <td>14788</td>\n",
       "      <td>1</td>\n",
       "      <td>0</td>\n",
       "      <td>0</td>\n",
       "      <td>1</td>\n",
       "      <td>1</td>\n",
       "      <td>0</td>\n",
       "      <td>0</td>\n",
       "      <td>1</td>\n",
       "      <td>0</td>\n",
       "      <td>0</td>\n",
       "      <td>1</td>\n",
       "      <td>0</td>\n",
       "      <td>0</td>\n",
       "      <td>1</td>\n",
       "    </tr>\n",
       "    <tr>\n",
       "      <th>272</th>\n",
       "      <td>15117</td>\n",
       "      <td>1</td>\n",
       "      <td>0</td>\n",
       "      <td>0</td>\n",
       "      <td>1</td>\n",
       "      <td>0</td>\n",
       "      <td>1</td>\n",
       "      <td>0</td>\n",
       "      <td>0</td>\n",
       "      <td>1</td>\n",
       "      <td>0</td>\n",
       "      <td>1</td>\n",
       "      <td>0</td>\n",
       "      <td>0</td>\n",
       "      <td>1</td>\n",
       "    </tr>\n",
       "    <tr>\n",
       "      <th>280</th>\n",
       "      <td>15188</td>\n",
       "      <td>1</td>\n",
       "      <td>0</td>\n",
       "      <td>0</td>\n",
       "      <td>1</td>\n",
       "      <td>1</td>\n",
       "      <td>0</td>\n",
       "      <td>0</td>\n",
       "      <td>1</td>\n",
       "      <td>0</td>\n",
       "      <td>0</td>\n",
       "      <td>1</td>\n",
       "      <td>0</td>\n",
       "      <td>0</td>\n",
       "      <td>1</td>\n",
       "    </tr>\n",
       "    <tr>\n",
       "      <th>291</th>\n",
       "      <td>15419</td>\n",
       "      <td>1</td>\n",
       "      <td>0</td>\n",
       "      <td>0</td>\n",
       "      <td>1</td>\n",
       "      <td>1</td>\n",
       "      <td>0</td>\n",
       "      <td>0</td>\n",
       "      <td>1</td>\n",
       "      <td>0</td>\n",
       "      <td>0</td>\n",
       "      <td>1</td>\n",
       "      <td>0</td>\n",
       "      <td>0</td>\n",
       "      <td>1</td>\n",
       "    </tr>\n",
       "    <tr>\n",
       "      <th>296</th>\n",
       "      <td>15472</td>\n",
       "      <td>1</td>\n",
       "      <td>0</td>\n",
       "      <td>0</td>\n",
       "      <td>1</td>\n",
       "      <td>1</td>\n",
       "      <td>0</td>\n",
       "      <td>0</td>\n",
       "      <td>1</td>\n",
       "      <td>0</td>\n",
       "      <td>0</td>\n",
       "      <td>1</td>\n",
       "      <td>0</td>\n",
       "      <td>0</td>\n",
       "      <td>1</td>\n",
       "    </tr>\n",
       "    <tr>\n",
       "      <th>346</th>\n",
       "      <td>16327</td>\n",
       "      <td>1</td>\n",
       "      <td>0</td>\n",
       "      <td>0</td>\n",
       "      <td>1</td>\n",
       "      <td>0</td>\n",
       "      <td>1</td>\n",
       "      <td>0</td>\n",
       "      <td>0</td>\n",
       "      <td>0</td>\n",
       "      <td>1</td>\n",
       "      <td>1</td>\n",
       "      <td>0</td>\n",
       "      <td>0</td>\n",
       "      <td>1</td>\n",
       "    </tr>\n",
       "    <tr>\n",
       "      <th>352</th>\n",
       "      <td>16436</td>\n",
       "      <td>1</td>\n",
       "      <td>0</td>\n",
       "      <td>0</td>\n",
       "      <td>1</td>\n",
       "      <td>1</td>\n",
       "      <td>0</td>\n",
       "      <td>0</td>\n",
       "      <td>1</td>\n",
       "      <td>0</td>\n",
       "      <td>0</td>\n",
       "      <td>0</td>\n",
       "      <td>0</td>\n",
       "      <td>1</td>\n",
       "      <td>1</td>\n",
       "    </tr>\n",
       "    <tr>\n",
       "      <th>357</th>\n",
       "      <td>16494</td>\n",
       "      <td>1</td>\n",
       "      <td>0</td>\n",
       "      <td>0</td>\n",
       "      <td>1</td>\n",
       "      <td>1</td>\n",
       "      <td>0</td>\n",
       "      <td>0</td>\n",
       "      <td>1</td>\n",
       "      <td>0</td>\n",
       "      <td>0</td>\n",
       "      <td>0</td>\n",
       "      <td>0</td>\n",
       "      <td>1</td>\n",
       "      <td>1</td>\n",
       "    </tr>\n",
       "    <tr>\n",
       "      <th>363</th>\n",
       "      <td>16645</td>\n",
       "      <td>1</td>\n",
       "      <td>0</td>\n",
       "      <td>0</td>\n",
       "      <td>1</td>\n",
       "      <td>1</td>\n",
       "      <td>0</td>\n",
       "      <td>0</td>\n",
       "      <td>0</td>\n",
       "      <td>0</td>\n",
       "      <td>1</td>\n",
       "      <td>0</td>\n",
       "      <td>1</td>\n",
       "      <td>0</td>\n",
       "      <td>1</td>\n",
       "    </tr>\n",
       "    <tr>\n",
       "      <th>364</th>\n",
       "      <td>16682</td>\n",
       "      <td>1</td>\n",
       "      <td>0</td>\n",
       "      <td>0</td>\n",
       "      <td>1</td>\n",
       "      <td>0</td>\n",
       "      <td>0</td>\n",
       "      <td>1</td>\n",
       "      <td>0</td>\n",
       "      <td>1</td>\n",
       "      <td>0</td>\n",
       "      <td>1</td>\n",
       "      <td>0</td>\n",
       "      <td>0</td>\n",
       "      <td>1</td>\n",
       "    </tr>\n",
       "    <tr>\n",
       "      <th>371</th>\n",
       "      <td>1675</td>\n",
       "      <td>1</td>\n",
       "      <td>0</td>\n",
       "      <td>0</td>\n",
       "      <td>1</td>\n",
       "      <td>1</td>\n",
       "      <td>0</td>\n",
       "      <td>0</td>\n",
       "      <td>1</td>\n",
       "      <td>0</td>\n",
       "      <td>0</td>\n",
       "      <td>1</td>\n",
       "      <td>0</td>\n",
       "      <td>0</td>\n",
       "      <td>1</td>\n",
       "    </tr>\n",
       "    <tr>\n",
       "      <th>387</th>\n",
       "      <td>17131</td>\n",
       "      <td>1</td>\n",
       "      <td>0</td>\n",
       "      <td>0</td>\n",
       "      <td>1</td>\n",
       "      <td>0</td>\n",
       "      <td>0</td>\n",
       "      <td>1</td>\n",
       "      <td>0</td>\n",
       "      <td>1</td>\n",
       "      <td>0</td>\n",
       "      <td>1</td>\n",
       "      <td>0</td>\n",
       "      <td>0</td>\n",
       "      <td>1</td>\n",
       "    </tr>\n",
       "    <tr>\n",
       "      <th>398</th>\n",
       "      <td>17265</td>\n",
       "      <td>1</td>\n",
       "      <td>0</td>\n",
       "      <td>0</td>\n",
       "      <td>1</td>\n",
       "      <td>0</td>\n",
       "      <td>0</td>\n",
       "      <td>1</td>\n",
       "      <td>1</td>\n",
       "      <td>0</td>\n",
       "      <td>0</td>\n",
       "      <td>0</td>\n",
       "      <td>1</td>\n",
       "      <td>0</td>\n",
       "      <td>1</td>\n",
       "    </tr>\n",
       "    <tr>\n",
       "      <th>411</th>\n",
       "      <td>1758</td>\n",
       "      <td>1</td>\n",
       "      <td>0</td>\n",
       "      <td>0</td>\n",
       "      <td>1</td>\n",
       "      <td>1</td>\n",
       "      <td>0</td>\n",
       "      <td>0</td>\n",
       "      <td>1</td>\n",
       "      <td>0</td>\n",
       "      <td>0</td>\n",
       "      <td>1</td>\n",
       "      <td>0</td>\n",
       "      <td>0</td>\n",
       "      <td>1</td>\n",
       "    </tr>\n",
       "    <tr>\n",
       "      <th>421</th>\n",
       "      <td>17782</td>\n",
       "      <td>1</td>\n",
       "      <td>0</td>\n",
       "      <td>0</td>\n",
       "      <td>1</td>\n",
       "      <td>1</td>\n",
       "      <td>0</td>\n",
       "      <td>0</td>\n",
       "      <td>1</td>\n",
       "      <td>0</td>\n",
       "      <td>0</td>\n",
       "      <td>0</td>\n",
       "      <td>0</td>\n",
       "      <td>1</td>\n",
       "      <td>1</td>\n",
       "    </tr>\n",
       "    <tr>\n",
       "      <th>469</th>\n",
       "      <td>18534</td>\n",
       "      <td>1</td>\n",
       "      <td>0</td>\n",
       "      <td>0</td>\n",
       "      <td>1</td>\n",
       "      <td>1</td>\n",
       "      <td>0</td>\n",
       "      <td>0</td>\n",
       "      <td>0</td>\n",
       "      <td>0</td>\n",
       "      <td>1</td>\n",
       "      <td>1</td>\n",
       "      <td>0</td>\n",
       "      <td>0</td>\n",
       "      <td>1</td>\n",
       "    </tr>\n",
       "    <tr>\n",
       "      <th>473</th>\n",
       "      <td>18682</td>\n",
       "      <td>1</td>\n",
       "      <td>0</td>\n",
       "      <td>0</td>\n",
       "      <td>1</td>\n",
       "      <td>1</td>\n",
       "      <td>0</td>\n",
       "      <td>0</td>\n",
       "      <td>1</td>\n",
       "      <td>0</td>\n",
       "      <td>0</td>\n",
       "      <td>0</td>\n",
       "      <td>0</td>\n",
       "      <td>1</td>\n",
       "      <td>1</td>\n",
       "    </tr>\n",
       "    <tr>\n",
       "      <th>481</th>\n",
       "      <td>18779</td>\n",
       "      <td>1</td>\n",
       "      <td>0</td>\n",
       "      <td>0</td>\n",
       "      <td>1</td>\n",
       "      <td>1</td>\n",
       "      <td>0</td>\n",
       "      <td>0</td>\n",
       "      <td>1</td>\n",
       "      <td>0</td>\n",
       "      <td>0</td>\n",
       "      <td>1</td>\n",
       "      <td>0</td>\n",
       "      <td>0</td>\n",
       "      <td>1</td>\n",
       "    </tr>\n",
       "    <tr>\n",
       "      <th>486</th>\n",
       "      <td>18877</td>\n",
       "      <td>1</td>\n",
       "      <td>0</td>\n",
       "      <td>0</td>\n",
       "      <td>1</td>\n",
       "      <td>1</td>\n",
       "      <td>0</td>\n",
       "      <td>0</td>\n",
       "      <td>1</td>\n",
       "      <td>0</td>\n",
       "      <td>0</td>\n",
       "      <td>0</td>\n",
       "      <td>0</td>\n",
       "      <td>1</td>\n",
       "      <td>1</td>\n",
       "    </tr>\n",
       "    <tr>\n",
       "      <th>506</th>\n",
       "      <td>19139</td>\n",
       "      <td>1</td>\n",
       "      <td>0</td>\n",
       "      <td>0</td>\n",
       "      <td>1</td>\n",
       "      <td>1</td>\n",
       "      <td>0</td>\n",
       "      <td>0</td>\n",
       "      <td>1</td>\n",
       "      <td>0</td>\n",
       "      <td>0</td>\n",
       "      <td>1</td>\n",
       "      <td>0</td>\n",
       "      <td>0</td>\n",
       "      <td>1</td>\n",
       "    </tr>\n",
       "    <tr>\n",
       "      <th>511</th>\n",
       "      <td>19247</td>\n",
       "      <td>1</td>\n",
       "      <td>0</td>\n",
       "      <td>0</td>\n",
       "      <td>1</td>\n",
       "      <td>1</td>\n",
       "      <td>0</td>\n",
       "      <td>0</td>\n",
       "      <td>1</td>\n",
       "      <td>0</td>\n",
       "      <td>0</td>\n",
       "      <td>1</td>\n",
       "      <td>0</td>\n",
       "      <td>0</td>\n",
       "      <td>1</td>\n",
       "    </tr>\n",
       "    <tr>\n",
       "      <th>512</th>\n",
       "      <td>19249</td>\n",
       "      <td>1</td>\n",
       "      <td>0</td>\n",
       "      <td>0</td>\n",
       "      <td>1</td>\n",
       "      <td>1</td>\n",
       "      <td>0</td>\n",
       "      <td>0</td>\n",
       "      <td>1</td>\n",
       "      <td>0</td>\n",
       "      <td>0</td>\n",
       "      <td>0</td>\n",
       "      <td>0</td>\n",
       "      <td>1</td>\n",
       "      <td>1</td>\n",
       "    </tr>\n",
       "    <tr>\n",
       "      <th>520</th>\n",
       "      <td>19366</td>\n",
       "      <td>1</td>\n",
       "      <td>0</td>\n",
       "      <td>0</td>\n",
       "      <td>1</td>\n",
       "      <td>0</td>\n",
       "      <td>0</td>\n",
       "      <td>1</td>\n",
       "      <td>1</td>\n",
       "      <td>0</td>\n",
       "      <td>0</td>\n",
       "      <td>0</td>\n",
       "      <td>0</td>\n",
       "      <td>1</td>\n",
       "      <td>1</td>\n",
       "    </tr>\n",
       "    <tr>\n",
       "      <th>545</th>\n",
       "      <td>19742</td>\n",
       "      <td>0</td>\n",
       "      <td>1</td>\n",
       "      <td>0</td>\n",
       "      <td>1</td>\n",
       "      <td>1</td>\n",
       "      <td>0</td>\n",
       "      <td>0</td>\n",
       "      <td>1</td>\n",
       "      <td>0</td>\n",
       "      <td>0</td>\n",
       "      <td>1</td>\n",
       "      <td>0</td>\n",
       "      <td>0</td>\n",
       "      <td>1</td>\n",
       "    </tr>\n",
       "    <tr>\n",
       "      <th>611</th>\n",
       "      <td>21325</td>\n",
       "      <td>1</td>\n",
       "      <td>0</td>\n",
       "      <td>0</td>\n",
       "      <td>1</td>\n",
       "      <td>1</td>\n",
       "      <td>0</td>\n",
       "      <td>0</td>\n",
       "      <td>1</td>\n",
       "      <td>0</td>\n",
       "      <td>0</td>\n",
       "      <td>1</td>\n",
       "      <td>0</td>\n",
       "      <td>0</td>\n",
       "      <td>1</td>\n",
       "    </tr>\n",
       "    <tr>\n",
       "      <th>650</th>\n",
       "      <td>2209</td>\n",
       "      <td>1</td>\n",
       "      <td>0</td>\n",
       "      <td>0</td>\n",
       "      <td>1</td>\n",
       "      <td>1</td>\n",
       "      <td>0</td>\n",
       "      <td>0</td>\n",
       "      <td>1</td>\n",
       "      <td>0</td>\n",
       "      <td>0</td>\n",
       "      <td>1</td>\n",
       "      <td>0</td>\n",
       "      <td>0</td>\n",
       "      <td>1</td>\n",
       "    </tr>\n",
       "    <tr>\n",
       "      <th>679</th>\n",
       "      <td>22623</td>\n",
       "      <td>1</td>\n",
       "      <td>0</td>\n",
       "      <td>0</td>\n",
       "      <td>1</td>\n",
       "      <td>1</td>\n",
       "      <td>0</td>\n",
       "      <td>0</td>\n",
       "      <td>1</td>\n",
       "      <td>0</td>\n",
       "      <td>0</td>\n",
       "      <td>0</td>\n",
       "      <td>0</td>\n",
       "      <td>1</td>\n",
       "      <td>1</td>\n",
       "    </tr>\n",
       "    <tr>\n",
       "      <th>685</th>\n",
       "      <td>22755</td>\n",
       "      <td>1</td>\n",
       "      <td>0</td>\n",
       "      <td>0</td>\n",
       "      <td>1</td>\n",
       "      <td>1</td>\n",
       "      <td>0</td>\n",
       "      <td>0</td>\n",
       "      <td>0</td>\n",
       "      <td>1</td>\n",
       "      <td>0</td>\n",
       "      <td>0</td>\n",
       "      <td>1</td>\n",
       "      <td>0</td>\n",
       "      <td>1</td>\n",
       "    </tr>\n",
       "    <tr>\n",
       "      <th>699</th>\n",
       "      <td>23029</td>\n",
       "      <td>1</td>\n",
       "      <td>0</td>\n",
       "      <td>0</td>\n",
       "      <td>1</td>\n",
       "      <td>1</td>\n",
       "      <td>0</td>\n",
       "      <td>0</td>\n",
       "      <td>1</td>\n",
       "      <td>0</td>\n",
       "      <td>0</td>\n",
       "      <td>1</td>\n",
       "      <td>0</td>\n",
       "      <td>0</td>\n",
       "      <td>1</td>\n",
       "    </tr>\n",
       "    <tr>\n",
       "      <th>763</th>\n",
       "      <td>24329</td>\n",
       "      <td>1</td>\n",
       "      <td>0</td>\n",
       "      <td>0</td>\n",
       "      <td>1</td>\n",
       "      <td>0</td>\n",
       "      <td>1</td>\n",
       "      <td>0</td>\n",
       "      <td>1</td>\n",
       "      <td>0</td>\n",
       "      <td>0</td>\n",
       "      <td>1</td>\n",
       "      <td>0</td>\n",
       "      <td>0</td>\n",
       "      <td>1</td>\n",
       "    </tr>\n",
       "    <tr>\n",
       "      <th>771</th>\n",
       "      <td>24439</td>\n",
       "      <td>1</td>\n",
       "      <td>0</td>\n",
       "      <td>0</td>\n",
       "      <td>1</td>\n",
       "      <td>0</td>\n",
       "      <td>0</td>\n",
       "      <td>1</td>\n",
       "      <td>1</td>\n",
       "      <td>0</td>\n",
       "      <td>0</td>\n",
       "      <td>1</td>\n",
       "      <td>0</td>\n",
       "      <td>0</td>\n",
       "      <td>1</td>\n",
       "    </tr>\n",
       "  </tbody>\n",
       "</table>\n",
       "</div>"
      ],
      "text/plain": [
       "     patient_id  bowel_healthy  bowel_injury  extravasation_healthy  \\\n",
       "0         10004              1             0                      0   \n",
       "16        10217              1             0                      0   \n",
       "22        10292              1             0                      0   \n",
       "28        10494              1             0                      0   \n",
       "57        11044              1             0                      0   \n",
       "70        11379              1             0                      0   \n",
       "76        11474              1             0                      0   \n",
       "84        11652              1             0                      0   \n",
       "101       11925              0             1                      0   \n",
       "104       12008              1             0                      0   \n",
       "110       12192              1             0                      0   \n",
       "113       12210              1             0                      0   \n",
       "146       12875              1             0                      0   \n",
       "153       12958              0             1                      0   \n",
       "168       13241              1             0                      0   \n",
       "172       13316              1             0                      0   \n",
       "208       14018              1             0                      0   \n",
       "214       14102              1             0                      0   \n",
       "220       14321              1             0                      0   \n",
       "250       14788              1             0                      0   \n",
       "272       15117              1             0                      0   \n",
       "280       15188              1             0                      0   \n",
       "291       15419              1             0                      0   \n",
       "296       15472              1             0                      0   \n",
       "346       16327              1             0                      0   \n",
       "352       16436              1             0                      0   \n",
       "357       16494              1             0                      0   \n",
       "363       16645              1             0                      0   \n",
       "364       16682              1             0                      0   \n",
       "371        1675              1             0                      0   \n",
       "387       17131              1             0                      0   \n",
       "398       17265              1             0                      0   \n",
       "411        1758              1             0                      0   \n",
       "421       17782              1             0                      0   \n",
       "469       18534              1             0                      0   \n",
       "473       18682              1             0                      0   \n",
       "481       18779              1             0                      0   \n",
       "486       18877              1             0                      0   \n",
       "506       19139              1             0                      0   \n",
       "511       19247              1             0                      0   \n",
       "512       19249              1             0                      0   \n",
       "520       19366              1             0                      0   \n",
       "545       19742              0             1                      0   \n",
       "611       21325              1             0                      0   \n",
       "650        2209              1             0                      0   \n",
       "679       22623              1             0                      0   \n",
       "685       22755              1             0                      0   \n",
       "699       23029              1             0                      0   \n",
       "763       24329              1             0                      0   \n",
       "771       24439              1             0                      0   \n",
       "\n",
       "     extravasation_injury  kidney_healthy  kidney_low  kidney_high  \\\n",
       "0                       1               0           1            0   \n",
       "16                      1               1           0            0   \n",
       "22                      1               1           0            0   \n",
       "28                      1               1           0            0   \n",
       "57                      1               1           0            0   \n",
       "70                      1               1           0            0   \n",
       "76                      1               1           0            0   \n",
       "84                      1               1           0            0   \n",
       "101                     1               1           0            0   \n",
       "104                     1               1           0            0   \n",
       "110                     1               1           0            0   \n",
       "113                     1               1           0            0   \n",
       "146                     1               1           0            0   \n",
       "153                     1               1           0            0   \n",
       "168                     1               0           0            1   \n",
       "172                     1               1           0            0   \n",
       "208                     1               1           0            0   \n",
       "214                     1               1           0            0   \n",
       "220                     1               0           1            0   \n",
       "250                     1               1           0            0   \n",
       "272                     1               0           1            0   \n",
       "280                     1               1           0            0   \n",
       "291                     1               1           0            0   \n",
       "296                     1               1           0            0   \n",
       "346                     1               0           1            0   \n",
       "352                     1               1           0            0   \n",
       "357                     1               1           0            0   \n",
       "363                     1               1           0            0   \n",
       "364                     1               0           0            1   \n",
       "371                     1               1           0            0   \n",
       "387                     1               0           0            1   \n",
       "398                     1               0           0            1   \n",
       "411                     1               1           0            0   \n",
       "421                     1               1           0            0   \n",
       "469                     1               1           0            0   \n",
       "473                     1               1           0            0   \n",
       "481                     1               1           0            0   \n",
       "486                     1               1           0            0   \n",
       "506                     1               1           0            0   \n",
       "511                     1               1           0            0   \n",
       "512                     1               1           0            0   \n",
       "520                     1               0           0            1   \n",
       "545                     1               1           0            0   \n",
       "611                     1               1           0            0   \n",
       "650                     1               1           0            0   \n",
       "679                     1               1           0            0   \n",
       "685                     1               1           0            0   \n",
       "699                     1               1           0            0   \n",
       "763                     1               0           1            0   \n",
       "771                     1               0           0            1   \n",
       "\n",
       "     liver_healthy  liver_low  liver_high  spleen_healthy  spleen_low  \\\n",
       "0                1          0           0               0           0   \n",
       "16               0          1           0               0           0   \n",
       "22               1          0           0               1           0   \n",
       "28               1          0           0               1           0   \n",
       "57               1          0           0               1           0   \n",
       "70               1          0           0               1           0   \n",
       "76               1          0           0               1           0   \n",
       "84               1          0           0               0           0   \n",
       "101              1          0           0               0           1   \n",
       "104              1          0           0               0           0   \n",
       "110              1          0           0               1           0   \n",
       "113              1          0           0               1           0   \n",
       "146              1          0           0               1           0   \n",
       "153              1          0           0               1           0   \n",
       "168              1          0           0               1           0   \n",
       "172              0          1           0               0           0   \n",
       "208              1          0           0               1           0   \n",
       "214              0          1           0               1           0   \n",
       "220              1          0           0               1           0   \n",
       "250              1          0           0               1           0   \n",
       "272              0          1           0               1           0   \n",
       "280              1          0           0               1           0   \n",
       "291              1          0           0               1           0   \n",
       "296              1          0           0               1           0   \n",
       "346              0          0           1               1           0   \n",
       "352              1          0           0               0           0   \n",
       "357              1          0           0               0           0   \n",
       "363              0          0           1               0           1   \n",
       "364              0          1           0               1           0   \n",
       "371              1          0           0               1           0   \n",
       "387              0          1           0               1           0   \n",
       "398              1          0           0               0           1   \n",
       "411              1          0           0               1           0   \n",
       "421              1          0           0               0           0   \n",
       "469              0          0           1               1           0   \n",
       "473              1          0           0               0           0   \n",
       "481              1          0           0               1           0   \n",
       "486              1          0           0               0           0   \n",
       "506              1          0           0               1           0   \n",
       "511              1          0           0               1           0   \n",
       "512              1          0           0               0           0   \n",
       "520              1          0           0               0           0   \n",
       "545              1          0           0               1           0   \n",
       "611              1          0           0               1           0   \n",
       "650              1          0           0               1           0   \n",
       "679              1          0           0               0           0   \n",
       "685              0          1           0               0           1   \n",
       "699              1          0           0               1           0   \n",
       "763              1          0           0               1           0   \n",
       "771              1          0           0               1           0   \n",
       "\n",
       "     spleen_high  any_injury  \n",
       "0              1           1  \n",
       "16             1           1  \n",
       "22             0           1  \n",
       "28             0           1  \n",
       "57             0           1  \n",
       "70             0           1  \n",
       "76             0           1  \n",
       "84             1           1  \n",
       "101            0           1  \n",
       "104            1           1  \n",
       "110            0           1  \n",
       "113            0           1  \n",
       "146            0           1  \n",
       "153            0           1  \n",
       "168            0           1  \n",
       "172            1           1  \n",
       "208            0           1  \n",
       "214            0           1  \n",
       "220            0           1  \n",
       "250            0           1  \n",
       "272            0           1  \n",
       "280            0           1  \n",
       "291            0           1  \n",
       "296            0           1  \n",
       "346            0           1  \n",
       "352            1           1  \n",
       "357            1           1  \n",
       "363            0           1  \n",
       "364            0           1  \n",
       "371            0           1  \n",
       "387            0           1  \n",
       "398            0           1  \n",
       "411            0           1  \n",
       "421            1           1  \n",
       "469            0           1  \n",
       "473            1           1  \n",
       "481            0           1  \n",
       "486            1           1  \n",
       "506            0           1  \n",
       "511            0           1  \n",
       "512            1           1  \n",
       "520            1           1  \n",
       "545            0           1  \n",
       "611            0           1  \n",
       "650            0           1  \n",
       "679            1           1  \n",
       "685            0           1  \n",
       "699            0           1  \n",
       "763            0           1  \n",
       "771            0           1  "
      ]
     },
     "execution_count": 24,
     "metadata": {},
     "output_type": "execute_result"
    }
   ],
   "source": [
    "# check = df[((df['liver_low'] == 1) | (df['liver_high'] == 1)) & ((df['kidney_low'] == 1) | (df['kidney_high'] == 1))]\n",
    "check = df[df['extravasation_healthy'] < 1]\n",
    "\n",
    "check.head(50)"
   ]
  },
  {
   "cell_type": "code",
   "execution_count": null,
   "id": "5043fbaa-9375-400f-afd0-05e31731b4bb",
   "metadata": {},
   "outputs": [],
   "source": []
  }
 ],
 "metadata": {
  "kernelspec": {
   "display_name": "Python 3 (ipykernel)",
   "language": "python",
   "name": "python3"
  },
  "language_info": {
   "codemirror_mode": {
    "name": "ipython",
    "version": 3
   },
   "file_extension": ".py",
   "mimetype": "text/x-python",
   "name": "python",
   "nbconvert_exporter": "python",
   "pygments_lexer": "ipython3",
   "version": "3.8.13"
  }
 },
 "nbformat": 4,
 "nbformat_minor": 5
}
